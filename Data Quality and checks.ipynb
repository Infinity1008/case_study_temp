{
 "cells": [
  {
   "cell_type": "markdown",
   "id": "0967f7fa",
   "metadata": {},
   "source": [
    "# Data Quality and checks\n",
    "Here, let's load the dataset we saved last time and look at the data more carefully, to see if we can get some insights or ideas as to how to make new features, how to clean the data and so on."
   ]
  },
  {
   "cell_type": "code",
   "execution_count": 1,
   "id": "ed811e3a",
   "metadata": {},
   "outputs": [],
   "source": [
    "import pandas as pd\n",
    "import numpy as np\n",
    "import seaborn as sns\n",
    "import matplotlib.pyplot as plt "
   ]
  },
  {
   "cell_type": "code",
   "execution_count": 2,
   "id": "c8005cdb",
   "metadata": {},
   "outputs": [],
   "source": [
    "df = pd.read_csv('combined_airbnb.csv')"
   ]
  },
  {
   "cell_type": "code",
   "execution_count": 3,
   "id": "4b4d736e",
   "metadata": {},
   "outputs": [
    {
     "data": {
      "text/html": [
       "<div>\n",
       "<style scoped>\n",
       "    .dataframe tbody tr th:only-of-type {\n",
       "        vertical-align: middle;\n",
       "    }\n",
       "\n",
       "    .dataframe tbody tr th {\n",
       "        vertical-align: top;\n",
       "    }\n",
       "\n",
       "    .dataframe thead th {\n",
       "        text-align: right;\n",
       "    }\n",
       "</style>\n",
       "<table border=\"1\" class=\"dataframe\">\n",
       "  <thead>\n",
       "    <tr style=\"text-align: right;\">\n",
       "      <th></th>\n",
       "      <th>Unnamed: 0</th>\n",
       "      <th>listing_id</th>\n",
       "      <th>index</th>\n",
       "      <th>calender_id</th>\n",
       "      <th>available</th>\n",
       "      <th>price</th>\n",
       "      <th>adjusted_price</th>\n",
       "      <th>minimum_nights</th>\n",
       "      <th>maximum_nights</th>\n",
       "      <th>listing_url</th>\n",
       "      <th>name</th>\n",
       "      <th>description</th>\n",
       "      <th>latitude</th>\n",
       "      <th>longitude</th>\n",
       "      <th>property_type</th>\n",
       "      <th>room_type</th>\n",
       "      <th>accomodates</th>\n",
       "      <th>bathrooms_text</th>\n",
       "      <th>bedrooms</th>\n",
       "      <th>beds</th>\n",
       "      <th>amenities</th>\n",
       "      <th>host_id</th>\n",
       "      <th>host_name</th>\n",
       "      <th>host_since</th>\n",
       "      <th>host_location</th>\n",
       "      <th>host_about</th>\n",
       "      <th>total_reviews</th>\n",
       "      <th>days_since_review</th>\n",
       "      <th>comment_length</th>\n",
       "    </tr>\n",
       "  </thead>\n",
       "  <tbody>\n",
       "    <tr>\n",
       "      <th>0</th>\n",
       "      <td>0</td>\n",
       "      <td>50904.0</td>\n",
       "      <td>166028.333333</td>\n",
       "      <td>166029.333333</td>\n",
       "      <td>0.0</td>\n",
       "      <td>166.666667</td>\n",
       "      <td>158.666667</td>\n",
       "      <td>1.000000</td>\n",
       "      <td>60.0</td>\n",
       "      <td>https://www.airbnb.com/rooms/50904</td>\n",
       "      <td>aplace/antwerp: cosy suite - fashion district</td>\n",
       "      <td>Decorated in a vintage style combined with a f...</td>\n",
       "      <td>51.218575</td>\n",
       "      <td>4.398631</td>\n",
       "      <td>Room in boutique hotel</td>\n",
       "      <td>Hotel room</td>\n",
       "      <td>2.0</td>\n",
       "      <td>1 private bath</td>\n",
       "      <td>1.0</td>\n",
       "      <td>1.0</td>\n",
       "      <td>[\"Kitchen\", \"Smoke alarm\", \"Hair dryer\", \"Keyp...</td>\n",
       "      <td>234077.0</td>\n",
       "      <td>Karin</td>\n",
       "      <td>2010-09-14</td>\n",
       "      <td>Antwerp, Flanders, Belgium</td>\n",
       "      <td>Ever since my childhood I dreamt of having my ...</td>\n",
       "      <td>2.0</td>\n",
       "      <td>1358.500000</td>\n",
       "      <td>255.500000</td>\n",
       "    </tr>\n",
       "    <tr>\n",
       "      <th>1</th>\n",
       "      <td>1</td>\n",
       "      <td>891884.0</td>\n",
       "      <td>30098.000000</td>\n",
       "      <td>30099.000000</td>\n",
       "      <td>0.0</td>\n",
       "      <td>175.000000</td>\n",
       "      <td>175.000000</td>\n",
       "      <td>1.666667</td>\n",
       "      <td>1125.0</td>\n",
       "      <td>https://www.airbnb.com/rooms/891884</td>\n",
       "      <td>aplace/antwerp: amazing suite &amp; square view</td>\n",
       "      <td>This second floor suite with a splendid square...</td>\n",
       "      <td>51.218575</td>\n",
       "      <td>4.398631</td>\n",
       "      <td>Room in boutique hotel</td>\n",
       "      <td>Hotel room</td>\n",
       "      <td>2.0</td>\n",
       "      <td>1 private bath</td>\n",
       "      <td>1.0</td>\n",
       "      <td>1.0</td>\n",
       "      <td>[\"Refrigerator\", \"Kitchen\", \"Smoke alarm\", \"Ha...</td>\n",
       "      <td>234077.0</td>\n",
       "      <td>Karin</td>\n",
       "      <td>2010-09-14</td>\n",
       "      <td>Antwerp, Flanders, Belgium</td>\n",
       "      <td>Ever since my childhood I dreamt of having my ...</td>\n",
       "      <td>2.0</td>\n",
       "      <td>619.000000</td>\n",
       "      <td>127.000000</td>\n",
       "    </tr>\n",
       "    <tr>\n",
       "      <th>2</th>\n",
       "      <td>2</td>\n",
       "      <td>891907.0</td>\n",
       "      <td>202080.333333</td>\n",
       "      <td>202081.333333</td>\n",
       "      <td>1.0</td>\n",
       "      <td>215.000000</td>\n",
       "      <td>215.000000</td>\n",
       "      <td>3.000000</td>\n",
       "      <td>1125.0</td>\n",
       "      <td>https://www.airbnb.com/rooms/891907</td>\n",
       "      <td>aplace/antwerp: stunning flat with square view</td>\n",
       "      <td>While entering this well located flat, you'll ...</td>\n",
       "      <td>51.218575</td>\n",
       "      <td>4.398631</td>\n",
       "      <td>Entire rental unit</td>\n",
       "      <td>Entire home/apt</td>\n",
       "      <td>4.0</td>\n",
       "      <td>1.5 baths</td>\n",
       "      <td>2.0</td>\n",
       "      <td>2.0</td>\n",
       "      <td>[\"Refrigerator\", \"Kitchen\", \"Smoke alarm\", \"Ha...</td>\n",
       "      <td>234077.0</td>\n",
       "      <td>Karin</td>\n",
       "      <td>2010-09-14</td>\n",
       "      <td>Antwerp, Flanders, Belgium</td>\n",
       "      <td>Ever since my childhood I dreamt of having my ...</td>\n",
       "      <td>6.0</td>\n",
       "      <td>1694.500000</td>\n",
       "      <td>300.166667</td>\n",
       "    </tr>\n",
       "    <tr>\n",
       "      <th>3</th>\n",
       "      <td>3</td>\n",
       "      <td>2543695.0</td>\n",
       "      <td>114259.666667</td>\n",
       "      <td>114260.666667</td>\n",
       "      <td>1.0</td>\n",
       "      <td>200.000000</td>\n",
       "      <td>200.000000</td>\n",
       "      <td>2.000000</td>\n",
       "      <td>1125.0</td>\n",
       "      <td>https://www.airbnb.com/rooms/2543695</td>\n",
       "      <td>aplace/antwerp: gorgeous flat with square view</td>\n",
       "      <td>While entering this well located flat, you'll ...</td>\n",
       "      <td>51.218575</td>\n",
       "      <td>4.398631</td>\n",
       "      <td>Entire rental unit</td>\n",
       "      <td>Entire home/apt</td>\n",
       "      <td>4.0</td>\n",
       "      <td>1.5 baths</td>\n",
       "      <td>2.0</td>\n",
       "      <td>2.0</td>\n",
       "      <td>[\"Refrigerator\", \"Kitchen\", \"Smoke alarm\", \"Ha...</td>\n",
       "      <td>234077.0</td>\n",
       "      <td>Karin</td>\n",
       "      <td>2010-09-14</td>\n",
       "      <td>Antwerp, Flanders, Belgium</td>\n",
       "      <td>Ever since my childhood I dreamt of having my ...</td>\n",
       "      <td>15.0</td>\n",
       "      <td>1603.866667</td>\n",
       "      <td>362.866667</td>\n",
       "    </tr>\n",
       "    <tr>\n",
       "      <th>4</th>\n",
       "      <td>4</td>\n",
       "      <td>116134.0</td>\n",
       "      <td>173486.666667</td>\n",
       "      <td>173487.666667</td>\n",
       "      <td>1.0</td>\n",
       "      <td>150.000000</td>\n",
       "      <td>150.000000</td>\n",
       "      <td>2.000000</td>\n",
       "      <td>1125.0</td>\n",
       "      <td>https://www.airbnb.com/rooms/116134</td>\n",
       "      <td>Spacious apartment nearby Mas</td>\n",
       "      <td>Enjoy your stay at our 4 person apartment in t...</td>\n",
       "      <td>51.230510</td>\n",
       "      <td>4.405930</td>\n",
       "      <td>Entire rental unit</td>\n",
       "      <td>Entire home/apt</td>\n",
       "      <td>4.0</td>\n",
       "      <td>2.5 baths</td>\n",
       "      <td>2.0</td>\n",
       "      <td>2.0</td>\n",
       "      <td>[\"Refrigerator\", \"Elevator\", \"Paid street park...</td>\n",
       "      <td>586942.0</td>\n",
       "      <td>Paul</td>\n",
       "      <td>2011-05-14</td>\n",
       "      <td>Kapellen, Flanders, Belgium</td>\n",
       "      <td>My wife Gina and I will be glad to welcome you...</td>\n",
       "      <td>120.0</td>\n",
       "      <td>1540.908333</td>\n",
       "      <td>265.266667</td>\n",
       "    </tr>\n",
       "  </tbody>\n",
       "</table>\n",
       "</div>"
      ],
      "text/plain": [
       "  Unnamed: 0  listing_id          index    calender_id  available       price  \\\n",
       "0          0     50904.0  166028.333333  166029.333333        0.0  166.666667   \n",
       "1          1    891884.0   30098.000000   30099.000000        0.0  175.000000   \n",
       "2          2    891907.0  202080.333333  202081.333333        1.0  215.000000   \n",
       "3          3   2543695.0  114259.666667  114260.666667        1.0  200.000000   \n",
       "4          4    116134.0  173486.666667  173487.666667        1.0  150.000000   \n",
       "\n",
       "   adjusted_price  minimum_nights  maximum_nights  \\\n",
       "0      158.666667        1.000000            60.0   \n",
       "1      175.000000        1.666667          1125.0   \n",
       "2      215.000000        3.000000          1125.0   \n",
       "3      200.000000        2.000000          1125.0   \n",
       "4      150.000000        2.000000          1125.0   \n",
       "\n",
       "                            listing_url  \\\n",
       "0    https://www.airbnb.com/rooms/50904   \n",
       "1   https://www.airbnb.com/rooms/891884   \n",
       "2   https://www.airbnb.com/rooms/891907   \n",
       "3  https://www.airbnb.com/rooms/2543695   \n",
       "4   https://www.airbnb.com/rooms/116134   \n",
       "\n",
       "                                             name  \\\n",
       "0   aplace/antwerp: cosy suite - fashion district   \n",
       "1     aplace/antwerp: amazing suite & square view   \n",
       "2  aplace/antwerp: stunning flat with square view   \n",
       "3  aplace/antwerp: gorgeous flat with square view   \n",
       "4                   Spacious apartment nearby Mas   \n",
       "\n",
       "                                         description   latitude  longitude  \\\n",
       "0  Decorated in a vintage style combined with a f...  51.218575   4.398631   \n",
       "1  This second floor suite with a splendid square...  51.218575   4.398631   \n",
       "2  While entering this well located flat, you'll ...  51.218575   4.398631   \n",
       "3  While entering this well located flat, you'll ...  51.218575   4.398631   \n",
       "4  Enjoy your stay at our 4 person apartment in t...  51.230510   4.405930   \n",
       "\n",
       "            property_type        room_type  accomodates  bathrooms_text  \\\n",
       "0  Room in boutique hotel       Hotel room          2.0  1 private bath   \n",
       "1  Room in boutique hotel       Hotel room          2.0  1 private bath   \n",
       "2      Entire rental unit  Entire home/apt          4.0       1.5 baths   \n",
       "3      Entire rental unit  Entire home/apt          4.0       1.5 baths   \n",
       "4      Entire rental unit  Entire home/apt          4.0       2.5 baths   \n",
       "\n",
       "   bedrooms  beds                                          amenities  \\\n",
       "0       1.0   1.0  [\"Kitchen\", \"Smoke alarm\", \"Hair dryer\", \"Keyp...   \n",
       "1       1.0   1.0  [\"Refrigerator\", \"Kitchen\", \"Smoke alarm\", \"Ha...   \n",
       "2       2.0   2.0  [\"Refrigerator\", \"Kitchen\", \"Smoke alarm\", \"Ha...   \n",
       "3       2.0   2.0  [\"Refrigerator\", \"Kitchen\", \"Smoke alarm\", \"Ha...   \n",
       "4       2.0   2.0  [\"Refrigerator\", \"Elevator\", \"Paid street park...   \n",
       "\n",
       "    host_id host_name  host_since                host_location  \\\n",
       "0  234077.0     Karin  2010-09-14   Antwerp, Flanders, Belgium   \n",
       "1  234077.0     Karin  2010-09-14   Antwerp, Flanders, Belgium   \n",
       "2  234077.0     Karin  2010-09-14   Antwerp, Flanders, Belgium   \n",
       "3  234077.0     Karin  2010-09-14   Antwerp, Flanders, Belgium   \n",
       "4  586942.0      Paul  2011-05-14  Kapellen, Flanders, Belgium   \n",
       "\n",
       "                                          host_about  total_reviews  \\\n",
       "0  Ever since my childhood I dreamt of having my ...            2.0   \n",
       "1  Ever since my childhood I dreamt of having my ...            2.0   \n",
       "2  Ever since my childhood I dreamt of having my ...            6.0   \n",
       "3  Ever since my childhood I dreamt of having my ...           15.0   \n",
       "4  My wife Gina and I will be glad to welcome you...          120.0   \n",
       "\n",
       "   days_since_review  comment_length  \n",
       "0        1358.500000      255.500000  \n",
       "1         619.000000      127.000000  \n",
       "2        1694.500000      300.166667  \n",
       "3        1603.866667      362.866667  \n",
       "4        1540.908333      265.266667  "
      ]
     },
     "execution_count": 3,
     "metadata": {},
     "output_type": "execute_result"
    }
   ],
   "source": [
    "pd.options.display.max_columns = None\n",
    "df.head()"
   ]
  },
  {
   "cell_type": "code",
   "execution_count": 4,
   "id": "2024f19c",
   "metadata": {},
   "outputs": [
    {
     "data": {
      "text/plain": [
       "(1749, 29)"
      ]
     },
     "execution_count": 4,
     "metadata": {},
     "output_type": "execute_result"
    }
   ],
   "source": [
    "df.shape"
   ]
  },
  {
   "cell_type": "code",
   "execution_count": 5,
   "id": "6dfdf5b2",
   "metadata": {},
   "outputs": [
    {
     "data": {
      "text/plain": [
       "Index(['Unnamed: 0', 'listing_id', 'index', 'calender_id', 'available',\n",
       "       'price', 'adjusted_price', 'minimum_nights', 'maximum_nights',\n",
       "       'listing_url', 'name', 'description', 'latitude', 'longitude',\n",
       "       'property_type', 'room_type', 'accomodates', 'bathrooms_text',\n",
       "       'bedrooms', 'beds', 'amenities', 'host_id', 'host_name', 'host_since',\n",
       "       'host_location', 'host_about', 'total_reviews', 'days_since_review',\n",
       "       'comment_length'],\n",
       "      dtype='object')"
      ]
     },
     "execution_count": 5,
     "metadata": {},
     "output_type": "execute_result"
    }
   ],
   "source": [
    "df.columns"
   ]
  },
  {
   "cell_type": "markdown",
   "id": "c258f694",
   "metadata": {},
   "source": [
    "There are some columns, which were helpful to join the tables, but we don't need those columns now, so we can drop them now. For eg. 'Calendar_id'"
   ]
  },
  {
   "cell_type": "code",
   "execution_count": 6,
   "id": "3b2466a4",
   "metadata": {},
   "outputs": [],
   "source": [
    "df.drop(['Unnamed: 0', 'index','calender_id'], axis=1, inplace=True)"
   ]
  },
  {
   "cell_type": "markdown",
   "id": "f6e01a9b",
   "metadata": {},
   "source": [
    "### Looking at missing values for every column"
   ]
  },
  {
   "cell_type": "code",
   "execution_count": 7,
   "id": "aa02342d",
   "metadata": {},
   "outputs": [
    {
     "data": {
      "text/plain": [
       "<AxesSubplot:>"
      ]
     },
     "execution_count": 7,
     "metadata": {},
     "output_type": "execute_result"
    },
    {
     "data": {
      "image/png": "[encoded data removed]",
      "text/plain": [
       "<Figure size 432x288 with 1 Axes>"
      ]
     },
     "metadata": {
      "needs_background": "light"
     },
     "output_type": "display_data"
    }
   ],
   "source": [
    "df.isna().sum().plot(kind='bar')"
   ]
  },
  {
   "cell_type": "markdown",
   "id": "8f2de363",
   "metadata": {},
   "source": [
    "We can see that we have a lot of missing values in the host_about column, almost 50% missing values in that column. It is better we drop this column"
   ]
  },
  {
   "cell_type": "code",
   "execution_count": 8,
   "id": "aff870df",
   "metadata": {},
   "outputs": [],
   "source": [
    "df.drop(['host_about'], axis=1, inplace=True)"
   ]
  },
  {
   "cell_type": "markdown",
   "id": "8c393b0c",
   "metadata": {},
   "source": [
    "### Looking at missing values for every row"
   ]
  },
  {
   "cell_type": "code",
   "execution_count": 9,
   "id": "ffe2f3cd",
   "metadata": {},
   "outputs": [
    {
     "data": {
      "text/plain": [
       "<AxesSubplot:>"
      ]
     },
     "execution_count": 9,
     "metadata": {},
     "output_type": "execute_result"
    },
    {
     "data": {
      "image/png": "[encoded data removed]",
      "text/plain": [
       "<Figure size 432x288 with 1 Axes>"
      ]
     },
     "metadata": {
      "needs_background": "light"
     },
     "output_type": "display_data"
    }
   ],
   "source": [
    "df.isna().sum(axis=1).plot()"
   ]
  },
  {
   "cell_type": "markdown",
   "id": "d5195f54",
   "metadata": {},
   "source": [
    "Here we see that we have certain rows, which are mostly empty, so it is better to remove the rows, which have more than 4 missing values."
   ]
  },
  {
   "cell_type": "code",
   "execution_count": 10,
   "id": "68e227f4",
   "metadata": {},
   "outputs": [
    {
     "data": {
      "text/plain": [
       "(1749, 25)"
      ]
     },
     "execution_count": 10,
     "metadata": {},
     "output_type": "execute_result"
    }
   ],
   "source": [
    "df.shape"
   ]
  },
  {
   "cell_type": "code",
   "execution_count": 11,
   "id": "e8a1390d",
   "metadata": {},
   "outputs": [],
   "source": [
    "# Dropping rows which have more that 4 missing values\n",
    "df = df[df.isna().sum(axis=1) < 4]\n",
    "df.reset_index(level=0, inplace=True)\n",
    "df.drop(['index'], axis=1, inplace=True)"
   ]
  },
  {
   "cell_type": "code",
   "execution_count": 12,
   "id": "342465ff",
   "metadata": {},
   "outputs": [
    {
     "data": {
      "text/plain": [
       "(1702, 25)"
      ]
     },
     "execution_count": 12,
     "metadata": {},
     "output_type": "execute_result"
    }
   ],
   "source": [
    "df.shape"
   ]
  },
  {
   "cell_type": "markdown",
   "id": "79712e43",
   "metadata": {},
   "source": [
    "So we will be losing about 47 rows, which is about 2% of our data. "
   ]
  },
  {
   "cell_type": "code",
   "execution_count": 13,
   "id": "b121f34e",
   "metadata": {},
   "outputs": [
    {
     "data": {
      "text/plain": [
       "<AxesSubplot:>"
      ]
     },
     "execution_count": 13,
     "metadata": {},
     "output_type": "execute_result"
    },
    {
     "data": {
      "image/png": "[encoded data removed]",
      "text/plain": [
       "<Figure size 432x288 with 1 Axes>"
      ]
     },
     "metadata": {
      "needs_background": "light"
     },
     "output_type": "display_data"
    }
   ],
   "source": [
    "df.isna().sum().plot(kind='bar')"
   ]
  },
  {
   "cell_type": "markdown",
   "id": "f215ec00",
   "metadata": {},
   "source": [
    "We can still see that we have columns, that are still having missing values of 175 rows, which is 10% of the data. it could be better we remove these columns"
   ]
  },
  {
   "cell_type": "markdown",
   "id": "6a8389f7",
   "metadata": {},
   "source": [
    "## Here we have dilema\n",
    "- We have about 175 rows for which we do not have any reviews, and this makes sense, there are some listings which might not even have a single review, \n",
    "- So, if we try to remove the whole columns, we are losing out on the remaining 90% of the data we have for the remaining listings and their reviews and we don't want to do that.\n",
    "- On the other hand, we we try to remove these rows specifically, then our model will never learn how to predict for the entries which do not have a review yet.\n",
    "- This is a problem that you might see in a real world dataset at well, how do you train a model when the data for which is simply not adequate. \n",
    "\n",
    "## Or \n",
    "- one of the thing we can do is to replace these values with 0, as it would indicate that they do not have a total_review as it is zero.\n",
    "- for the days_since_review we can't simply replace it with zero, think about it.\n",
    "- The lower the days_since_review means that the review was recent, we want this behavious as a popular place is more likely to have a recent review than a place with very few visitors.\n",
    "- Meaning if i were to replace days_since_review with 0, i would be indicating to the model this place was very recently reviewed, whereas the truth is that the place was never reviews(exact opposite of our intentions)"
   ]
  },
  {
   "cell_type": "markdown",
   "id": "9c74a26c",
   "metadata": {},
   "source": [
    "---------------"
   ]
  },
  {
   "cell_type": "markdown",
   "id": "6c736731",
   "metadata": {},
   "source": [
    "Replacing the rows with empty total reviews"
   ]
  },
  {
   "cell_type": "code",
   "execution_count": 14,
   "id": "94391a97",
   "metadata": {},
   "outputs": [],
   "source": [
    "df['total_reviews'] = df['total_reviews'].fillna(0)"
   ]
  },
  {
   "cell_type": "code",
   "execution_count": 15,
   "id": "6c2efa68",
   "metadata": {},
   "outputs": [
    {
     "data": {
      "text/plain": [
       "<AxesSubplot:>"
      ]
     },
     "execution_count": 15,
     "metadata": {},
     "output_type": "execute_result"
    },
    {
     "data": {
      "image/png": "[encoded data removed]",
      "text/plain": [
       "<Figure size 432x288 with 1 Axes>"
      ]
     },
     "metadata": {
      "needs_background": "light"
     },
     "output_type": "display_data"
    }
   ],
   "source": [
    "df.isna().sum().plot(kind='bar')"
   ]
  },
  {
   "cell_type": "markdown",
   "id": "83bca3d3",
   "metadata": {},
   "source": [
    "Replacing days_since_review with the highest value"
   ]
  },
  {
   "cell_type": "code",
   "execution_count": 16,
   "id": "469a87bb",
   "metadata": {},
   "outputs": [],
   "source": [
    "df['days_since_review'] = df['days_since_review'].fillna(df['days_since_review'].max())"
   ]
  },
  {
   "cell_type": "code",
   "execution_count": 17,
   "id": "91588168",
   "metadata": {},
   "outputs": [
    {
     "data": {
      "text/plain": [
       "<AxesSubplot:>"
      ]
     },
     "execution_count": 17,
     "metadata": {},
     "output_type": "execute_result"
    },
    {
     "data": {
      "image/png": "[encoded data removed]",
      "text/plain": [
       "<Figure size 432x288 with 1 Axes>"
      ]
     },
     "metadata": {
      "needs_background": "light"
     },
     "output_type": "display_data"
    }
   ],
   "source": [
    "df.isna().sum().plot(kind='bar')"
   ]
  },
  {
   "cell_type": "markdown",
   "id": "76b6473b",
   "metadata": {},
   "source": [
    "For comment_length we will make it to be 0, as there was no comment for the listing"
   ]
  },
  {
   "cell_type": "code",
   "execution_count": 18,
   "id": "343cbaab",
   "metadata": {},
   "outputs": [],
   "source": [
    "df['comment_length'] = df['comment_length'].fillna(0)"
   ]
  },
  {
   "cell_type": "code",
   "execution_count": 19,
   "id": "6587384d",
   "metadata": {},
   "outputs": [
    {
     "data": {
      "text/plain": [
       "<AxesSubplot:>"
      ]
     },
     "execution_count": 19,
     "metadata": {},
     "output_type": "execute_result"
    },
    {
     "data": {
      "image/png": "[encoded data removed]",
      "text/plain": [
       "<Figure size 432x288 with 1 Axes>"
      ]
     },
     "metadata": {
      "needs_background": "light"
     },
     "output_type": "display_data"
    }
   ],
   "source": [
    "df.isna().sum().plot(kind='bar')"
   ]
  },
  {
   "cell_type": "markdown",
   "id": "0d2e72e6",
   "metadata": {},
   "source": [
    "### One can argue that the bedrooms is an important variable, and values missing should be filled or the rows removed.\n",
    "- ideally i would have liked to removed the rows but as i can see\n",
    "- the number of missing values are above 100, if i start removing those rows, i am further reducing my data size\n",
    "- i would rather not do at this point. So i would like to fill these missing values with the mean"
   ]
  },
  {
   "cell_type": "markdown",
   "id": "7a9e2ec4",
   "metadata": {},
   "source": [
    "**Description** is a column, i will not use for my modelling here, but feel free to use NLP for that column if you want."
   ]
  },
  {
   "cell_type": "code",
   "execution_count": 20,
   "id": "74803617",
   "metadata": {},
   "outputs": [],
   "source": [
    "df.drop(['description'], axis=1, inplace=True)"
   ]
  },
  {
   "cell_type": "code",
   "execution_count": 21,
   "id": "c374b1d2",
   "metadata": {},
   "outputs": [
    {
     "data": {
      "text/html": [
       "<div>\n",
       "<style scoped>\n",
       "    .dataframe tbody tr th:only-of-type {\n",
       "        vertical-align: middle;\n",
       "    }\n",
       "\n",
       "    .dataframe tbody tr th {\n",
       "        vertical-align: top;\n",
       "    }\n",
       "\n",
       "    .dataframe thead th {\n",
       "        text-align: right;\n",
       "    }\n",
       "</style>\n",
       "<table border=\"1\" class=\"dataframe\">\n",
       "  <thead>\n",
       "    <tr style=\"text-align: right;\">\n",
       "      <th></th>\n",
       "      <th>listing_id</th>\n",
       "      <th>available</th>\n",
       "      <th>price</th>\n",
       "      <th>adjusted_price</th>\n",
       "      <th>minimum_nights</th>\n",
       "      <th>maximum_nights</th>\n",
       "      <th>listing_url</th>\n",
       "      <th>name</th>\n",
       "      <th>latitude</th>\n",
       "      <th>longitude</th>\n",
       "      <th>property_type</th>\n",
       "      <th>room_type</th>\n",
       "      <th>accomodates</th>\n",
       "      <th>bathrooms_text</th>\n",
       "      <th>bedrooms</th>\n",
       "      <th>beds</th>\n",
       "      <th>amenities</th>\n",
       "      <th>host_id</th>\n",
       "      <th>host_name</th>\n",
       "      <th>host_since</th>\n",
       "      <th>host_location</th>\n",
       "      <th>total_reviews</th>\n",
       "      <th>days_since_review</th>\n",
       "      <th>comment_length</th>\n",
       "    </tr>\n",
       "  </thead>\n",
       "  <tbody>\n",
       "    <tr>\n",
       "      <th>0</th>\n",
       "      <td>50904.0</td>\n",
       "      <td>0.0</td>\n",
       "      <td>166.666667</td>\n",
       "      <td>158.666667</td>\n",
       "      <td>1.000000</td>\n",
       "      <td>60.0</td>\n",
       "      <td>https://www.airbnb.com/rooms/50904</td>\n",
       "      <td>aplace/antwerp: cosy suite - fashion district</td>\n",
       "      <td>51.218575</td>\n",
       "      <td>4.398631</td>\n",
       "      <td>Room in boutique hotel</td>\n",
       "      <td>Hotel room</td>\n",
       "      <td>2.0</td>\n",
       "      <td>1 private bath</td>\n",
       "      <td>1.0</td>\n",
       "      <td>1.0</td>\n",
       "      <td>[\"Kitchen\", \"Smoke alarm\", \"Hair dryer\", \"Keyp...</td>\n",
       "      <td>234077.0</td>\n",
       "      <td>Karin</td>\n",
       "      <td>2010-09-14</td>\n",
       "      <td>Antwerp, Flanders, Belgium</td>\n",
       "      <td>2.0</td>\n",
       "      <td>1358.500000</td>\n",
       "      <td>255.500000</td>\n",
       "    </tr>\n",
       "    <tr>\n",
       "      <th>1</th>\n",
       "      <td>891884.0</td>\n",
       "      <td>0.0</td>\n",
       "      <td>175.000000</td>\n",
       "      <td>175.000000</td>\n",
       "      <td>1.666667</td>\n",
       "      <td>1125.0</td>\n",
       "      <td>https://www.airbnb.com/rooms/891884</td>\n",
       "      <td>aplace/antwerp: amazing suite &amp; square view</td>\n",
       "      <td>51.218575</td>\n",
       "      <td>4.398631</td>\n",
       "      <td>Room in boutique hotel</td>\n",
       "      <td>Hotel room</td>\n",
       "      <td>2.0</td>\n",
       "      <td>1 private bath</td>\n",
       "      <td>1.0</td>\n",
       "      <td>1.0</td>\n",
       "      <td>[\"Refrigerator\", \"Kitchen\", \"Smoke alarm\", \"Ha...</td>\n",
       "      <td>234077.0</td>\n",
       "      <td>Karin</td>\n",
       "      <td>2010-09-14</td>\n",
       "      <td>Antwerp, Flanders, Belgium</td>\n",
       "      <td>2.0</td>\n",
       "      <td>619.000000</td>\n",
       "      <td>127.000000</td>\n",
       "    </tr>\n",
       "    <tr>\n",
       "      <th>2</th>\n",
       "      <td>891907.0</td>\n",
       "      <td>1.0</td>\n",
       "      <td>215.000000</td>\n",
       "      <td>215.000000</td>\n",
       "      <td>3.000000</td>\n",
       "      <td>1125.0</td>\n",
       "      <td>https://www.airbnb.com/rooms/891907</td>\n",
       "      <td>aplace/antwerp: stunning flat with square view</td>\n",
       "      <td>51.218575</td>\n",
       "      <td>4.398631</td>\n",
       "      <td>Entire rental unit</td>\n",
       "      <td>Entire home/apt</td>\n",
       "      <td>4.0</td>\n",
       "      <td>1.5 baths</td>\n",
       "      <td>2.0</td>\n",
       "      <td>2.0</td>\n",
       "      <td>[\"Refrigerator\", \"Kitchen\", \"Smoke alarm\", \"Ha...</td>\n",
       "      <td>234077.0</td>\n",
       "      <td>Karin</td>\n",
       "      <td>2010-09-14</td>\n",
       "      <td>Antwerp, Flanders, Belgium</td>\n",
       "      <td>6.0</td>\n",
       "      <td>1694.500000</td>\n",
       "      <td>300.166667</td>\n",
       "    </tr>\n",
       "    <tr>\n",
       "      <th>3</th>\n",
       "      <td>2543695.0</td>\n",
       "      <td>1.0</td>\n",
       "      <td>200.000000</td>\n",
       "      <td>200.000000</td>\n",
       "      <td>2.000000</td>\n",
       "      <td>1125.0</td>\n",
       "      <td>https://www.airbnb.com/rooms/2543695</td>\n",
       "      <td>aplace/antwerp: gorgeous flat with square view</td>\n",
       "      <td>51.218575</td>\n",
       "      <td>4.398631</td>\n",
       "      <td>Entire rental unit</td>\n",
       "      <td>Entire home/apt</td>\n",
       "      <td>4.0</td>\n",
       "      <td>1.5 baths</td>\n",
       "      <td>2.0</td>\n",
       "      <td>2.0</td>\n",
       "      <td>[\"Refrigerator\", \"Kitchen\", \"Smoke alarm\", \"Ha...</td>\n",
       "      <td>234077.0</td>\n",
       "      <td>Karin</td>\n",
       "      <td>2010-09-14</td>\n",
       "      <td>Antwerp, Flanders, Belgium</td>\n",
       "      <td>15.0</td>\n",
       "      <td>1603.866667</td>\n",
       "      <td>362.866667</td>\n",
       "    </tr>\n",
       "    <tr>\n",
       "      <th>4</th>\n",
       "      <td>116134.0</td>\n",
       "      <td>1.0</td>\n",
       "      <td>150.000000</td>\n",
       "      <td>150.000000</td>\n",
       "      <td>2.000000</td>\n",
       "      <td>1125.0</td>\n",
       "      <td>https://www.airbnb.com/rooms/116134</td>\n",
       "      <td>Spacious apartment nearby Mas</td>\n",
       "      <td>51.230510</td>\n",
       "      <td>4.405930</td>\n",
       "      <td>Entire rental unit</td>\n",
       "      <td>Entire home/apt</td>\n",
       "      <td>4.0</td>\n",
       "      <td>2.5 baths</td>\n",
       "      <td>2.0</td>\n",
       "      <td>2.0</td>\n",
       "      <td>[\"Refrigerator\", \"Elevator\", \"Paid street park...</td>\n",
       "      <td>586942.0</td>\n",
       "      <td>Paul</td>\n",
       "      <td>2011-05-14</td>\n",
       "      <td>Kapellen, Flanders, Belgium</td>\n",
       "      <td>120.0</td>\n",
       "      <td>1540.908333</td>\n",
       "      <td>265.266667</td>\n",
       "    </tr>\n",
       "  </tbody>\n",
       "</table>\n",
       "</div>"
      ],
      "text/plain": [
       "   listing_id  available       price  adjusted_price  minimum_nights  \\\n",
       "0     50904.0        0.0  166.666667      158.666667        1.000000   \n",
       "1    891884.0        0.0  175.000000      175.000000        1.666667   \n",
       "2    891907.0        1.0  215.000000      215.000000        3.000000   \n",
       "3   2543695.0        1.0  200.000000      200.000000        2.000000   \n",
       "4    116134.0        1.0  150.000000      150.000000        2.000000   \n",
       "\n",
       "   maximum_nights                           listing_url  \\\n",
       "0            60.0    https://www.airbnb.com/rooms/50904   \n",
       "1          1125.0   https://www.airbnb.com/rooms/891884   \n",
       "2          1125.0   https://www.airbnb.com/rooms/891907   \n",
       "3          1125.0  https://www.airbnb.com/rooms/2543695   \n",
       "4          1125.0   https://www.airbnb.com/rooms/116134   \n",
       "\n",
       "                                             name   latitude  longitude  \\\n",
       "0   aplace/antwerp: cosy suite - fashion district  51.218575   4.398631   \n",
       "1     aplace/antwerp: amazing suite & square view  51.218575   4.398631   \n",
       "2  aplace/antwerp: stunning flat with square view  51.218575   4.398631   \n",
       "3  aplace/antwerp: gorgeous flat with square view  51.218575   4.398631   \n",
       "4                   Spacious apartment nearby Mas  51.230510   4.405930   \n",
       "\n",
       "            property_type        room_type  accomodates  bathrooms_text  \\\n",
       "0  Room in boutique hotel       Hotel room          2.0  1 private bath   \n",
       "1  Room in boutique hotel       Hotel room          2.0  1 private bath   \n",
       "2      Entire rental unit  Entire home/apt          4.0       1.5 baths   \n",
       "3      Entire rental unit  Entire home/apt          4.0       1.5 baths   \n",
       "4      Entire rental unit  Entire home/apt          4.0       2.5 baths   \n",
       "\n",
       "   bedrooms  beds                                          amenities  \\\n",
       "0       1.0   1.0  [\"Kitchen\", \"Smoke alarm\", \"Hair dryer\", \"Keyp...   \n",
       "1       1.0   1.0  [\"Refrigerator\", \"Kitchen\", \"Smoke alarm\", \"Ha...   \n",
       "2       2.0   2.0  [\"Refrigerator\", \"Kitchen\", \"Smoke alarm\", \"Ha...   \n",
       "3       2.0   2.0  [\"Refrigerator\", \"Kitchen\", \"Smoke alarm\", \"Ha...   \n",
       "4       2.0   2.0  [\"Refrigerator\", \"Elevator\", \"Paid street park...   \n",
       "\n",
       "    host_id host_name  host_since                host_location  total_reviews  \\\n",
       "0  234077.0     Karin  2010-09-14   Antwerp, Flanders, Belgium            2.0   \n",
       "1  234077.0     Karin  2010-09-14   Antwerp, Flanders, Belgium            2.0   \n",
       "2  234077.0     Karin  2010-09-14   Antwerp, Flanders, Belgium            6.0   \n",
       "3  234077.0     Karin  2010-09-14   Antwerp, Flanders, Belgium           15.0   \n",
       "4  586942.0      Paul  2011-05-14  Kapellen, Flanders, Belgium          120.0   \n",
       "\n",
       "   days_since_review  comment_length  \n",
       "0        1358.500000      255.500000  \n",
       "1         619.000000      127.000000  \n",
       "2        1694.500000      300.166667  \n",
       "3        1603.866667      362.866667  \n",
       "4        1540.908333      265.266667  "
      ]
     },
     "execution_count": 21,
     "metadata": {},
     "output_type": "execute_result"
    }
   ],
   "source": [
    "df.head()"
   ]
  },
  {
   "cell_type": "markdown",
   "id": "0866358e",
   "metadata": {},
   "source": [
    "## Filling bedroom variable\n",
    "- Rather than filling with mean, i am looking and experimenting if there are better ways out there to fill the bedroom variable with\n",
    "- I am going to try to groupby various categorical variable and see if i can find a variable that gives me good 'variance' for the bedroom variable"
   ]
  },
  {
   "cell_type": "code",
   "execution_count": 22,
   "id": "f865df6c",
   "metadata": {},
   "outputs": [
    {
     "data": {
      "text/plain": [
       "<AxesSubplot:xlabel='property_type'>"
      ]
     },
     "execution_count": 22,
     "metadata": {},
     "output_type": "execute_result"
    },
    {
     "data": {
      "image/png": "[encoded data removed]",
      "text/plain": [
       "<Figure size 432x288 with 1 Axes>"
      ]
     },
     "metadata": {
      "needs_background": "light"
     },
     "output_type": "display_data"
    }
   ],
   "source": [
    "df.groupby('property_type').mean()[['bedrooms']].plot(kind='bar')"
   ]
  },
  {
   "cell_type": "code",
   "execution_count": 23,
   "id": "4d60d34c",
   "metadata": {},
   "outputs": [
    {
     "data": {
      "text/plain": [
       "<AxesSubplot:xlabel='accomodates'>"
      ]
     },
     "execution_count": 23,
     "metadata": {},
     "output_type": "execute_result"
    },
    {
     "data": {
      "image/png": "[encoded data removed]",
      "text/plain": [
       "<Figure size 432x288 with 1 Axes>"
      ]
     },
     "metadata": {
      "needs_background": "light"
     },
     "output_type": "display_data"
    }
   ],
   "source": [
    "df.groupby('accomodates').mean()[['bedrooms']].plot(kind='bar')"
   ]
  },
  {
   "cell_type": "code",
   "execution_count": 24,
   "id": "26311686",
   "metadata": {},
   "outputs": [
    {
     "data": {
      "text/plain": [
       "<AxesSubplot:xlabel='room_type'>"
      ]
     },
     "execution_count": 24,
     "metadata": {},
     "output_type": "execute_result"
    },
    {
     "data": {
      "image/png": "[encoded data removed]",
      "text/plain": [
       "<Figure size 432x288 with 1 Axes>"
      ]
     },
     "metadata": {
      "needs_background": "light"
     },
     "output_type": "display_data"
    }
   ],
   "source": [
    "df.groupby('room_type').mean()[['bedrooms']].plot(kind='bar')"
   ]
  },
  {
   "cell_type": "markdown",
   "id": "7c193696",
   "metadata": {},
   "source": [
    "## Findings\n",
    "- From the plots above i can figure out that 'accomodates' and 'number_of_amneties' are good indicators to tell how many bedrooms are there going to be. \n",
    "- So due to these reasons, i am going to fill out bedroom variable based on the 'accomodates' variable"
   ]
  },
  {
   "cell_type": "code",
   "execution_count": 25,
   "id": "de511f84",
   "metadata": {},
   "outputs": [],
   "source": [
    "bedroom_dict = df.groupby('accomodates').mean()['bedrooms'].to_dict()"
   ]
  },
  {
   "cell_type": "code",
   "execution_count": 26,
   "id": "444383ff",
   "metadata": {},
   "outputs": [],
   "source": [
    "bedroom_dict_round = {key : round(bedroom_dict[key], 0) for key in bedroom_dict}"
   ]
  },
  {
   "cell_type": "code",
   "execution_count": 27,
   "id": "bd28c90e",
   "metadata": {},
   "outputs": [
    {
     "data": {
      "text/plain": [
       "{1.0: 1.0,\n",
       " 2.0: 1.0,\n",
       " 3.0: 1.0,\n",
       " 4.0: 2.0,\n",
       " 5.0: 2.0,\n",
       " 6.0: 2.0,\n",
       " 7.0: 2.0,\n",
       " 8.0: 2.0,\n",
       " 9.0: 2.0,\n",
       " 10.0: 4.0,\n",
       " 11.0: 2.0,\n",
       " 12.0: 2.0,\n",
       " 14.0: 3.0,\n",
       " 15.0: 3.0,\n",
       " 16.0: 8.0}"
      ]
     },
     "execution_count": 27,
     "metadata": {},
     "output_type": "execute_result"
    }
   ],
   "source": [
    "bedroom_dict_round"
   ]
  },
  {
   "cell_type": "code",
   "execution_count": 28,
   "id": "92e16ade",
   "metadata": {
    "scrolled": true
   },
   "outputs": [
    {
     "data": {
      "text/plain": [
       "<AxesSubplot:>"
      ]
     },
     "execution_count": 28,
     "metadata": {},
     "output_type": "execute_result"
    },
    {
     "data": {
      "image/png": "[encoded data removed]",
      "text/plain": [
       "<Figure size 432x288 with 1 Axes>"
      ]
     },
     "metadata": {
      "needs_background": "light"
     },
     "output_type": "display_data"
    }
   ],
   "source": [
    "df.isna().sum().plot(kind='bar')"
   ]
  },
  {
   "cell_type": "markdown",
   "id": "7aa8e810",
   "metadata": {},
   "source": [
    "Index of all the missing values"
   ]
  },
  {
   "cell_type": "code",
   "execution_count": 29,
   "id": "55f40843",
   "metadata": {},
   "outputs": [],
   "source": [
    "missing_index = df[pd.isna(df.bedrooms)].index"
   ]
  },
  {
   "cell_type": "markdown",
   "id": "c71c0fd7",
   "metadata": {},
   "source": [
    "Our prediction for the missing values"
   ]
  },
  {
   "cell_type": "code",
   "execution_count": 30,
   "id": "a13764fb",
   "metadata": {},
   "outputs": [],
   "source": [
    "missing_values_predicted = df[df['bedrooms'].isna()]['accomodates'].map(bedroom_dict_round)"
   ]
  },
  {
   "cell_type": "code",
   "execution_count": 31,
   "id": "026e6695",
   "metadata": {},
   "outputs": [
    {
     "data": {
      "text/plain": [
       "81      2.0\n",
       "89      1.0\n",
       "90      1.0\n",
       "107     1.0\n",
       "114     1.0\n",
       "       ... \n",
       "1473    1.0\n",
       "1494    2.0\n",
       "1586    1.0\n",
       "1659    2.0\n",
       "1660    1.0\n",
       "Name: accomodates, Length: 110, dtype: float64"
      ]
     },
     "execution_count": 31,
     "metadata": {},
     "output_type": "execute_result"
    }
   ],
   "source": [
    "missing_values_predicted"
   ]
  },
  {
   "cell_type": "markdown",
   "id": "947d7270",
   "metadata": {},
   "source": [
    "Filling in those missing values "
   ]
  },
  {
   "cell_type": "code",
   "execution_count": 32,
   "id": "47c2ad7f",
   "metadata": {},
   "outputs": [],
   "source": [
    "for i,j in enumerate(missing_index):\n",
    "    df.iloc[j,14] = missing_values_predicted.iloc[i]"
   ]
  },
  {
   "cell_type": "code",
   "execution_count": 33,
   "id": "86b6918c",
   "metadata": {},
   "outputs": [
    {
     "data": {
      "text/plain": [
       "<AxesSubplot:>"
      ]
     },
     "execution_count": 33,
     "metadata": {},
     "output_type": "execute_result"
    },
    {
     "data": {
      "image/png": "[encoded data removed]",
      "text/plain": [
       "<Figure size 432x288 with 1 Axes>"
      ]
     },
     "metadata": {
      "needs_background": "light"
     },
     "output_type": "display_data"
    }
   ],
   "source": [
    "df.isna().sum().plot(kind='bar')"
   ]
  },
  {
   "cell_type": "markdown",
   "id": "20e53c8a",
   "metadata": {},
   "source": [
    "### Last but not least, the bed column is the only column remaining, that we need to clean.\n",
    "I am going to follow the same approach that i used to fill the bedroom column"
   ]
  },
  {
   "cell_type": "code",
   "execution_count": 34,
   "id": "f9b69f61",
   "metadata": {},
   "outputs": [],
   "source": [
    "beds_dict = df.groupby('bedrooms').mean()['beds'].to_dict()"
   ]
  },
  {
   "cell_type": "code",
   "execution_count": 35,
   "id": "39dcd393",
   "metadata": {},
   "outputs": [],
   "source": [
    "beds_dict_round = {key : round(beds_dict[key], 0) for key in beds_dict}"
   ]
  },
  {
   "cell_type": "code",
   "execution_count": 36,
   "id": "bdfe0cd5",
   "metadata": {},
   "outputs": [
    {
     "data": {
      "text/plain": [
       "{1.0: 1.0,\n",
       " 2.0: 3.0,\n",
       " 3.0: 4.0,\n",
       " 4.0: 6.0,\n",
       " 5.0: 8.0,\n",
       " 6.0: 12.0,\n",
       " 7.0: 16.0,\n",
       " 8.0: 25.0,\n",
       " 10.0: 15.0,\n",
       " 11.0: 16.0,\n",
       " 15.0: 15.0,\n",
       " 20.0: 44.0}"
      ]
     },
     "execution_count": 36,
     "metadata": {},
     "output_type": "execute_result"
    }
   ],
   "source": [
    "beds_dict_round"
   ]
  },
  {
   "cell_type": "code",
   "execution_count": 37,
   "id": "58b69ad4",
   "metadata": {},
   "outputs": [
    {
     "data": {
      "text/plain": [
       "<AxesSubplot:>"
      ]
     },
     "execution_count": 37,
     "metadata": {},
     "output_type": "execute_result"
    },
    {
     "data": {
      "image/png": "[encoded data removed]",
      "text/plain": [
       "<Figure size 432x288 with 1 Axes>"
      ]
     },
     "metadata": {
      "needs_background": "light"
     },
     "output_type": "display_data"
    }
   ],
   "source": [
    "df.isna().sum().plot(kind='bar')"
   ]
  },
  {
   "cell_type": "markdown",
   "id": "a2d4c5af",
   "metadata": {},
   "source": [
    "Index of all the missing values"
   ]
  },
  {
   "cell_type": "code",
   "execution_count": 38,
   "id": "88c7e83c",
   "metadata": {},
   "outputs": [],
   "source": [
    "missing_index = df[pd.isna(df.beds)].index"
   ]
  },
  {
   "cell_type": "markdown",
   "id": "53906bb9",
   "metadata": {},
   "source": [
    "Our prediction for the missing values"
   ]
  },
  {
   "cell_type": "code",
   "execution_count": 39,
   "id": "d7fb6764",
   "metadata": {},
   "outputs": [],
   "source": [
    "missing_values_predicted = df[df['beds'].isna()]['bedrooms'].map(bedroom_dict_round)"
   ]
  },
  {
   "cell_type": "code",
   "execution_count": 40,
   "id": "d3737bc4",
   "metadata": {},
   "outputs": [
    {
     "data": {
      "text/plain": [
       "181     1.0\n",
       "308     1.0\n",
       "415     1.0\n",
       "467     1.0\n",
       "670     1.0\n",
       "778     1.0\n",
       "1040    1.0\n",
       "1060    1.0\n",
       "1184    1.0\n",
       "1226    2.0\n",
       "1279    1.0\n",
       "1377    1.0\n",
       "1378    1.0\n",
       "1431    1.0\n",
       "1433    1.0\n",
       "1442    1.0\n",
       "1444    1.0\n",
       "1455    1.0\n",
       "1471    1.0\n",
       "1485    1.0\n",
       "1514    1.0\n",
       "1532    1.0\n",
       "1568    1.0\n",
       "1569    1.0\n",
       "1584    1.0\n",
       "1609    1.0\n",
       "1677    1.0\n",
       "Name: bedrooms, dtype: float64"
      ]
     },
     "execution_count": 40,
     "metadata": {},
     "output_type": "execute_result"
    }
   ],
   "source": [
    "missing_values_predicted"
   ]
  },
  {
   "cell_type": "markdown",
   "id": "83c7865d",
   "metadata": {},
   "source": [
    "Filling in those missing values "
   ]
  },
  {
   "cell_type": "code",
   "execution_count": 41,
   "id": "126fd29d",
   "metadata": {},
   "outputs": [],
   "source": [
    "for i,j in enumerate(missing_index):\n",
    "    df.iloc[j,15] = missing_values_predicted.iloc[i]"
   ]
  },
  {
   "cell_type": "code",
   "execution_count": 42,
   "id": "975a4f73",
   "metadata": {},
   "outputs": [
    {
     "data": {
      "text/plain": [
       "<AxesSubplot:>"
      ]
     },
     "execution_count": 42,
     "metadata": {},
     "output_type": "execute_result"
    },
    {
     "data": {
      "image/png": "[encoded data removed]",
      "text/plain": [
       "<Figure size 432x288 with 1 Axes>"
      ]
     },
     "metadata": {
      "needs_background": "light"
     },
     "output_type": "display_data"
    }
   ],
   "source": [
    "df.isna().sum().plot(kind='bar')"
   ]
  },
  {
   "cell_type": "markdown",
   "id": "f8f093d5",
   "metadata": {},
   "source": [
    "### For the last column with missing values 'host_location'\n",
    "- There are a couple of options we have here \n",
    "- As there are only 3 missing values, we can just remove the rows, simple as that.\n",
    "- Or you can try to impute them with some method\n",
    "\n",
    "I am going to just remove the rows, feel free to experiment if you want"
   ]
  },
  {
   "cell_type": "code",
   "execution_count": 43,
   "id": "ec0e9ae4",
   "metadata": {},
   "outputs": [],
   "source": [
    "non_na_rows = df['host_location'].notna()"
   ]
  },
  {
   "cell_type": "code",
   "execution_count": 44,
   "id": "87a7fe04",
   "metadata": {},
   "outputs": [],
   "source": [
    "df = df[non_na_rows]\n",
    "df.reset_index(level=0, inplace=True)\n",
    "df.drop(['index'], axis=1, inplace=True)"
   ]
  },
  {
   "cell_type": "code",
   "execution_count": 45,
   "id": "86f7d9db",
   "metadata": {},
   "outputs": [
    {
     "data": {
      "text/plain": [
       "<AxesSubplot:>"
      ]
     },
     "execution_count": 45,
     "metadata": {},
     "output_type": "execute_result"
    },
    {
     "data": {
      "image/png": "[encoded data removed]",
      "text/plain": [
       "<Figure size 432x288 with 1 Axes>"
      ]
     },
     "metadata": {
      "needs_background": "light"
     },
     "output_type": "display_data"
    }
   ],
   "source": [
    "df.isna().sum().plot(kind='bar')"
   ]
  },
  {
   "cell_type": "markdown",
   "id": "8f63e0cb",
   "metadata": {},
   "source": [
    "## Finally, after all the various data imputation and cleaning, we have a clean dataset.\n",
    "- That we can create models on\n",
    "- That we can create more features on"
   ]
  },
  {
   "cell_type": "markdown",
   "id": "fd803f65",
   "metadata": {},
   "source": [
    "----------"
   ]
  },
  {
   "cell_type": "markdown",
   "id": "1c51733f",
   "metadata": {},
   "source": [
    "### Now that our data is clean, let's look at the data properties"
   ]
  },
  {
   "cell_type": "code",
   "execution_count": 46,
   "id": "dd66a7c1",
   "metadata": {},
   "outputs": [
    {
     "data": {
      "text/html": [
       "<div>\n",
       "<style scoped>\n",
       "    .dataframe tbody tr th:only-of-type {\n",
       "        vertical-align: middle;\n",
       "    }\n",
       "\n",
       "    .dataframe tbody tr th {\n",
       "        vertical-align: top;\n",
       "    }\n",
       "\n",
       "    .dataframe thead th {\n",
       "        text-align: right;\n",
       "    }\n",
       "</style>\n",
       "<table border=\"1\" class=\"dataframe\">\n",
       "  <thead>\n",
       "    <tr style=\"text-align: right;\">\n",
       "      <th></th>\n",
       "      <th>listing_id</th>\n",
       "      <th>available</th>\n",
       "      <th>price</th>\n",
       "      <th>adjusted_price</th>\n",
       "      <th>minimum_nights</th>\n",
       "      <th>maximum_nights</th>\n",
       "      <th>listing_url</th>\n",
       "      <th>name</th>\n",
       "      <th>latitude</th>\n",
       "      <th>longitude</th>\n",
       "      <th>property_type</th>\n",
       "      <th>room_type</th>\n",
       "      <th>accomodates</th>\n",
       "      <th>bathrooms_text</th>\n",
       "      <th>bedrooms</th>\n",
       "      <th>beds</th>\n",
       "      <th>amenities</th>\n",
       "      <th>host_id</th>\n",
       "      <th>host_name</th>\n",
       "      <th>host_since</th>\n",
       "      <th>host_location</th>\n",
       "      <th>total_reviews</th>\n",
       "      <th>days_since_review</th>\n",
       "      <th>comment_length</th>\n",
       "    </tr>\n",
       "  </thead>\n",
       "  <tbody>\n",
       "    <tr>\n",
       "      <th>0</th>\n",
       "      <td>50904.0</td>\n",
       "      <td>0.0</td>\n",
       "      <td>166.666667</td>\n",
       "      <td>158.666667</td>\n",
       "      <td>1.000000</td>\n",
       "      <td>60.0</td>\n",
       "      <td>https://www.airbnb.com/rooms/50904</td>\n",
       "      <td>aplace/antwerp: cosy suite - fashion district</td>\n",
       "      <td>51.218575</td>\n",
       "      <td>4.398631</td>\n",
       "      <td>Room in boutique hotel</td>\n",
       "      <td>Hotel room</td>\n",
       "      <td>2.0</td>\n",
       "      <td>1 private bath</td>\n",
       "      <td>1.0</td>\n",
       "      <td>1.0</td>\n",
       "      <td>[\"Kitchen\", \"Smoke alarm\", \"Hair dryer\", \"Keyp...</td>\n",
       "      <td>234077.0</td>\n",
       "      <td>Karin</td>\n",
       "      <td>2010-09-14</td>\n",
       "      <td>Antwerp, Flanders, Belgium</td>\n",
       "      <td>2.0</td>\n",
       "      <td>1358.500000</td>\n",
       "      <td>255.500000</td>\n",
       "    </tr>\n",
       "    <tr>\n",
       "      <th>1</th>\n",
       "      <td>891884.0</td>\n",
       "      <td>0.0</td>\n",
       "      <td>175.000000</td>\n",
       "      <td>175.000000</td>\n",
       "      <td>1.666667</td>\n",
       "      <td>1125.0</td>\n",
       "      <td>https://www.airbnb.com/rooms/891884</td>\n",
       "      <td>aplace/antwerp: amazing suite &amp; square view</td>\n",
       "      <td>51.218575</td>\n",
       "      <td>4.398631</td>\n",
       "      <td>Room in boutique hotel</td>\n",
       "      <td>Hotel room</td>\n",
       "      <td>2.0</td>\n",
       "      <td>1 private bath</td>\n",
       "      <td>1.0</td>\n",
       "      <td>1.0</td>\n",
       "      <td>[\"Refrigerator\", \"Kitchen\", \"Smoke alarm\", \"Ha...</td>\n",
       "      <td>234077.0</td>\n",
       "      <td>Karin</td>\n",
       "      <td>2010-09-14</td>\n",
       "      <td>Antwerp, Flanders, Belgium</td>\n",
       "      <td>2.0</td>\n",
       "      <td>619.000000</td>\n",
       "      <td>127.000000</td>\n",
       "    </tr>\n",
       "    <tr>\n",
       "      <th>2</th>\n",
       "      <td>891907.0</td>\n",
       "      <td>1.0</td>\n",
       "      <td>215.000000</td>\n",
       "      <td>215.000000</td>\n",
       "      <td>3.000000</td>\n",
       "      <td>1125.0</td>\n",
       "      <td>https://www.airbnb.com/rooms/891907</td>\n",
       "      <td>aplace/antwerp: stunning flat with square view</td>\n",
       "      <td>51.218575</td>\n",
       "      <td>4.398631</td>\n",
       "      <td>Entire rental unit</td>\n",
       "      <td>Entire home/apt</td>\n",
       "      <td>4.0</td>\n",
       "      <td>1.5 baths</td>\n",
       "      <td>2.0</td>\n",
       "      <td>2.0</td>\n",
       "      <td>[\"Refrigerator\", \"Kitchen\", \"Smoke alarm\", \"Ha...</td>\n",
       "      <td>234077.0</td>\n",
       "      <td>Karin</td>\n",
       "      <td>2010-09-14</td>\n",
       "      <td>Antwerp, Flanders, Belgium</td>\n",
       "      <td>6.0</td>\n",
       "      <td>1694.500000</td>\n",
       "      <td>300.166667</td>\n",
       "    </tr>\n",
       "    <tr>\n",
       "      <th>3</th>\n",
       "      <td>2543695.0</td>\n",
       "      <td>1.0</td>\n",
       "      <td>200.000000</td>\n",
       "      <td>200.000000</td>\n",
       "      <td>2.000000</td>\n",
       "      <td>1125.0</td>\n",
       "      <td>https://www.airbnb.com/rooms/2543695</td>\n",
       "      <td>aplace/antwerp: gorgeous flat with square view</td>\n",
       "      <td>51.218575</td>\n",
       "      <td>4.398631</td>\n",
       "      <td>Entire rental unit</td>\n",
       "      <td>Entire home/apt</td>\n",
       "      <td>4.0</td>\n",
       "      <td>1.5 baths</td>\n",
       "      <td>2.0</td>\n",
       "      <td>2.0</td>\n",
       "      <td>[\"Refrigerator\", \"Kitchen\", \"Smoke alarm\", \"Ha...</td>\n",
       "      <td>234077.0</td>\n",
       "      <td>Karin</td>\n",
       "      <td>2010-09-14</td>\n",
       "      <td>Antwerp, Flanders, Belgium</td>\n",
       "      <td>15.0</td>\n",
       "      <td>1603.866667</td>\n",
       "      <td>362.866667</td>\n",
       "    </tr>\n",
       "    <tr>\n",
       "      <th>4</th>\n",
       "      <td>116134.0</td>\n",
       "      <td>1.0</td>\n",
       "      <td>150.000000</td>\n",
       "      <td>150.000000</td>\n",
       "      <td>2.000000</td>\n",
       "      <td>1125.0</td>\n",
       "      <td>https://www.airbnb.com/rooms/116134</td>\n",
       "      <td>Spacious apartment nearby Mas</td>\n",
       "      <td>51.230510</td>\n",
       "      <td>4.405930</td>\n",
       "      <td>Entire rental unit</td>\n",
       "      <td>Entire home/apt</td>\n",
       "      <td>4.0</td>\n",
       "      <td>2.5 baths</td>\n",
       "      <td>2.0</td>\n",
       "      <td>2.0</td>\n",
       "      <td>[\"Refrigerator\", \"Elevator\", \"Paid street park...</td>\n",
       "      <td>586942.0</td>\n",
       "      <td>Paul</td>\n",
       "      <td>2011-05-14</td>\n",
       "      <td>Kapellen, Flanders, Belgium</td>\n",
       "      <td>120.0</td>\n",
       "      <td>1540.908333</td>\n",
       "      <td>265.266667</td>\n",
       "    </tr>\n",
       "  </tbody>\n",
       "</table>\n",
       "</div>"
      ],
      "text/plain": [
       "   listing_id  available       price  adjusted_price  minimum_nights  \\\n",
       "0     50904.0        0.0  166.666667      158.666667        1.000000   \n",
       "1    891884.0        0.0  175.000000      175.000000        1.666667   \n",
       "2    891907.0        1.0  215.000000      215.000000        3.000000   \n",
       "3   2543695.0        1.0  200.000000      200.000000        2.000000   \n",
       "4    116134.0        1.0  150.000000      150.000000        2.000000   \n",
       "\n",
       "   maximum_nights                           listing_url  \\\n",
       "0            60.0    https://www.airbnb.com/rooms/50904   \n",
       "1          1125.0   https://www.airbnb.com/rooms/891884   \n",
       "2          1125.0   https://www.airbnb.com/rooms/891907   \n",
       "3          1125.0  https://www.airbnb.com/rooms/2543695   \n",
       "4          1125.0   https://www.airbnb.com/rooms/116134   \n",
       "\n",
       "                                             name   latitude  longitude  \\\n",
       "0   aplace/antwerp: cosy suite - fashion district  51.218575   4.398631   \n",
       "1     aplace/antwerp: amazing suite & square view  51.218575   4.398631   \n",
       "2  aplace/antwerp: stunning flat with square view  51.218575   4.398631   \n",
       "3  aplace/antwerp: gorgeous flat with square view  51.218575   4.398631   \n",
       "4                   Spacious apartment nearby Mas  51.230510   4.405930   \n",
       "\n",
       "            property_type        room_type  accomodates  bathrooms_text  \\\n",
       "0  Room in boutique hotel       Hotel room          2.0  1 private bath   \n",
       "1  Room in boutique hotel       Hotel room          2.0  1 private bath   \n",
       "2      Entire rental unit  Entire home/apt          4.0       1.5 baths   \n",
       "3      Entire rental unit  Entire home/apt          4.0       1.5 baths   \n",
       "4      Entire rental unit  Entire home/apt          4.0       2.5 baths   \n",
       "\n",
       "   bedrooms  beds                                          amenities  \\\n",
       "0       1.0   1.0  [\"Kitchen\", \"Smoke alarm\", \"Hair dryer\", \"Keyp...   \n",
       "1       1.0   1.0  [\"Refrigerator\", \"Kitchen\", \"Smoke alarm\", \"Ha...   \n",
       "2       2.0   2.0  [\"Refrigerator\", \"Kitchen\", \"Smoke alarm\", \"Ha...   \n",
       "3       2.0   2.0  [\"Refrigerator\", \"Kitchen\", \"Smoke alarm\", \"Ha...   \n",
       "4       2.0   2.0  [\"Refrigerator\", \"Elevator\", \"Paid street park...   \n",
       "\n",
       "    host_id host_name  host_since                host_location  total_reviews  \\\n",
       "0  234077.0     Karin  2010-09-14   Antwerp, Flanders, Belgium            2.0   \n",
       "1  234077.0     Karin  2010-09-14   Antwerp, Flanders, Belgium            2.0   \n",
       "2  234077.0     Karin  2010-09-14   Antwerp, Flanders, Belgium            6.0   \n",
       "3  234077.0     Karin  2010-09-14   Antwerp, Flanders, Belgium           15.0   \n",
       "4  586942.0      Paul  2011-05-14  Kapellen, Flanders, Belgium          120.0   \n",
       "\n",
       "   days_since_review  comment_length  \n",
       "0        1358.500000      255.500000  \n",
       "1         619.000000      127.000000  \n",
       "2        1694.500000      300.166667  \n",
       "3        1603.866667      362.866667  \n",
       "4        1540.908333      265.266667  "
      ]
     },
     "execution_count": 46,
     "metadata": {},
     "output_type": "execute_result"
    }
   ],
   "source": [
    "df.head()"
   ]
  },
  {
   "cell_type": "code",
   "execution_count": 47,
   "id": "e1b7e154",
   "metadata": {},
   "outputs": [
    {
     "name": "stdout",
     "output_type": "stream",
     "text": [
      "<class 'pandas.core.frame.DataFrame'>\n",
      "RangeIndex: 1699 entries, 0 to 1698\n",
      "Data columns (total 24 columns):\n",
      " #   Column             Non-Null Count  Dtype  \n",
      "---  ------             --------------  -----  \n",
      " 0   listing_id         1699 non-null   float64\n",
      " 1   available          1699 non-null   float64\n",
      " 2   price              1699 non-null   float64\n",
      " 3   adjusted_price     1699 non-null   float64\n",
      " 4   minimum_nights     1699 non-null   float64\n",
      " 5   maximum_nights     1699 non-null   float64\n",
      " 6   listing_url        1699 non-null   object \n",
      " 7   name               1699 non-null   object \n",
      " 8   latitude           1699 non-null   float64\n",
      " 9   longitude          1699 non-null   float64\n",
      " 10  property_type      1699 non-null   object \n",
      " 11  room_type          1699 non-null   object \n",
      " 12  accomodates        1699 non-null   float64\n",
      " 13  bathrooms_text     1699 non-null   object \n",
      " 14  bedrooms           1699 non-null   float64\n",
      " 15  beds               1699 non-null   float64\n",
      " 16  amenities          1699 non-null   object \n",
      " 17  host_id            1699 non-null   float64\n",
      " 18  host_name          1699 non-null   object \n",
      " 19  host_since         1699 non-null   object \n",
      " 20  host_location      1699 non-null   object \n",
      " 21  total_reviews      1699 non-null   float64\n",
      " 22  days_since_review  1699 non-null   float64\n",
      " 23  comment_length     1699 non-null   float64\n",
      "dtypes: float64(15), object(9)\n",
      "memory usage: 318.7+ KB\n"
     ]
    }
   ],
   "source": [
    "df.info()"
   ]
  },
  {
   "cell_type": "markdown",
   "id": "f98734c3",
   "metadata": {},
   "source": [
    "#### Numeric columns"
   ]
  },
  {
   "cell_type": "code",
   "execution_count": 48,
   "id": "6d1cf14c",
   "metadata": {},
   "outputs": [
    {
     "data": {
      "text/html": [
       "<div>\n",
       "<style scoped>\n",
       "    .dataframe tbody tr th:only-of-type {\n",
       "        vertical-align: middle;\n",
       "    }\n",
       "\n",
       "    .dataframe tbody tr th {\n",
       "        vertical-align: top;\n",
       "    }\n",
       "\n",
       "    .dataframe thead th {\n",
       "        text-align: right;\n",
       "    }\n",
       "</style>\n",
       "<table border=\"1\" class=\"dataframe\">\n",
       "  <thead>\n",
       "    <tr style=\"text-align: right;\">\n",
       "      <th></th>\n",
       "      <th>listing_id</th>\n",
       "      <th>available</th>\n",
       "      <th>price</th>\n",
       "      <th>adjusted_price</th>\n",
       "      <th>minimum_nights</th>\n",
       "      <th>maximum_nights</th>\n",
       "      <th>latitude</th>\n",
       "      <th>longitude</th>\n",
       "      <th>accomodates</th>\n",
       "      <th>bedrooms</th>\n",
       "      <th>beds</th>\n",
       "      <th>host_id</th>\n",
       "      <th>total_reviews</th>\n",
       "      <th>days_since_review</th>\n",
       "      <th>comment_length</th>\n",
       "    </tr>\n",
       "  </thead>\n",
       "  <tbody>\n",
       "    <tr>\n",
       "      <th>count</th>\n",
       "      <td>1.699000e+03</td>\n",
       "      <td>1699.000000</td>\n",
       "      <td>1699.000000</td>\n",
       "      <td>1699.000000</td>\n",
       "      <td>1699.000000</td>\n",
       "      <td>1699.000000</td>\n",
       "      <td>1699.000000</td>\n",
       "      <td>1699.000000</td>\n",
       "      <td>1699.000000</td>\n",
       "      <td>1699.000000</td>\n",
       "      <td>1699.000000</td>\n",
       "      <td>1.699000e+03</td>\n",
       "      <td>1699.000000</td>\n",
       "      <td>1699.000000</td>\n",
       "      <td>1699.000000</td>\n",
       "    </tr>\n",
       "    <tr>\n",
       "      <th>mean</th>\n",
       "      <td>3.454408e+07</td>\n",
       "      <td>0.504022</td>\n",
       "      <td>116.050226</td>\n",
       "      <td>115.621150</td>\n",
       "      <td>4.984304</td>\n",
       "      <td>815.681577</td>\n",
       "      <td>51.214123</td>\n",
       "      <td>4.413115</td>\n",
       "      <td>3.770453</td>\n",
       "      <td>1.505003</td>\n",
       "      <td>2.203649</td>\n",
       "      <td>1.411752e+08</td>\n",
       "      <td>36.759859</td>\n",
       "      <td>926.861346</td>\n",
       "      <td>180.218010</td>\n",
       "    </tr>\n",
       "    <tr>\n",
       "      <th>std</th>\n",
       "      <td>1.526862e+07</td>\n",
       "      <td>0.499345</td>\n",
       "      <td>188.711087</td>\n",
       "      <td>187.904327</td>\n",
       "      <td>19.267865</td>\n",
       "      <td>519.442367</td>\n",
       "      <td>0.013800</td>\n",
       "      <td>0.019340</td>\n",
       "      <td>2.770626</td>\n",
       "      <td>1.054104</td>\n",
       "      <td>2.220678</td>\n",
       "      <td>1.285789e+08</td>\n",
       "      <td>62.071381</td>\n",
       "      <td>781.448221</td>\n",
       "      <td>116.353612</td>\n",
       "    </tr>\n",
       "    <tr>\n",
       "      <th>min</th>\n",
       "      <td>5.090400e+04</td>\n",
       "      <td>0.000000</td>\n",
       "      <td>14.000000</td>\n",
       "      <td>14.000000</td>\n",
       "      <td>1.000000</td>\n",
       "      <td>1.000000</td>\n",
       "      <td>51.160084</td>\n",
       "      <td>4.290770</td>\n",
       "      <td>1.000000</td>\n",
       "      <td>1.000000</td>\n",
       "      <td>1.000000</td>\n",
       "      <td>2.340770e+05</td>\n",
       "      <td>0.000000</td>\n",
       "      <td>110.000000</td>\n",
       "      <td>0.000000</td>\n",
       "    </tr>\n",
       "    <tr>\n",
       "      <th>25%</th>\n",
       "      <td>2.299728e+07</td>\n",
       "      <td>0.000000</td>\n",
       "      <td>60.000000</td>\n",
       "      <td>60.000000</td>\n",
       "      <td>1.000000</td>\n",
       "      <td>365.000000</td>\n",
       "      <td>51.208120</td>\n",
       "      <td>4.400260</td>\n",
       "      <td>2.000000</td>\n",
       "      <td>1.000000</td>\n",
       "      <td>1.000000</td>\n",
       "      <td>2.819556e+07</td>\n",
       "      <td>3.000000</td>\n",
       "      <td>283.896552</td>\n",
       "      <td>125.968750</td>\n",
       "    </tr>\n",
       "    <tr>\n",
       "      <th>50%</th>\n",
       "      <td>3.828111e+07</td>\n",
       "      <td>1.000000</td>\n",
       "      <td>80.000000</td>\n",
       "      <td>80.000000</td>\n",
       "      <td>2.000000</td>\n",
       "      <td>1125.000000</td>\n",
       "      <td>51.216650</td>\n",
       "      <td>4.409340</td>\n",
       "      <td>3.000000</td>\n",
       "      <td>1.000000</td>\n",
       "      <td>2.000000</td>\n",
       "      <td>1.027113e+08</td>\n",
       "      <td>13.000000</td>\n",
       "      <td>718.333333</td>\n",
       "      <td>180.689655</td>\n",
       "    </tr>\n",
       "    <tr>\n",
       "      <th>75%</th>\n",
       "      <td>4.813282e+07</td>\n",
       "      <td>1.000000</td>\n",
       "      <td>112.333333</td>\n",
       "      <td>112.333333</td>\n",
       "      <td>2.666667</td>\n",
       "      <td>1125.000000</td>\n",
       "      <td>51.220910</td>\n",
       "      <td>4.424790</td>\n",
       "      <td>4.000000</td>\n",
       "      <td>2.000000</td>\n",
       "      <td>3.000000</td>\n",
       "      <td>2.338721e+08</td>\n",
       "      <td>41.000000</td>\n",
       "      <td>1246.172944</td>\n",
       "      <td>230.316667</td>\n",
       "    </tr>\n",
       "    <tr>\n",
       "      <th>max</th>\n",
       "      <td>5.398332e+07</td>\n",
       "      <td>1.000000</td>\n",
       "      <td>5800.000000</td>\n",
       "      <td>5800.000000</td>\n",
       "      <td>500.000000</td>\n",
       "      <td>9999.000000</td>\n",
       "      <td>51.349400</td>\n",
       "      <td>4.483470</td>\n",
       "      <td>16.000000</td>\n",
       "      <td>20.000000</td>\n",
       "      <td>44.000000</td>\n",
       "      <td>4.373093e+08</td>\n",
       "      <td>648.000000</td>\n",
       "      <td>2720.132353</td>\n",
       "      <td>1436.000000</td>\n",
       "    </tr>\n",
       "  </tbody>\n",
       "</table>\n",
       "</div>"
      ],
      "text/plain": [
       "         listing_id    available        price  adjusted_price  minimum_nights  \\\n",
       "count  1.699000e+03  1699.000000  1699.000000     1699.000000     1699.000000   \n",
       "mean   3.454408e+07     0.504022   116.050226      115.621150        4.984304   \n",
       "std    1.526862e+07     0.499345   188.711087      187.904327       19.267865   \n",
       "min    5.090400e+04     0.000000    14.000000       14.000000        1.000000   \n",
       "25%    2.299728e+07     0.000000    60.000000       60.000000        1.000000   \n",
       "50%    3.828111e+07     1.000000    80.000000       80.000000        2.000000   \n",
       "75%    4.813282e+07     1.000000   112.333333      112.333333        2.666667   \n",
       "max    5.398332e+07     1.000000  5800.000000     5800.000000      500.000000   \n",
       "\n",
       "       maximum_nights     latitude    longitude  accomodates     bedrooms  \\\n",
       "count     1699.000000  1699.000000  1699.000000  1699.000000  1699.000000   \n",
       "mean       815.681577    51.214123     4.413115     3.770453     1.505003   \n",
       "std        519.442367     0.013800     0.019340     2.770626     1.054104   \n",
       "min          1.000000    51.160084     4.290770     1.000000     1.000000   \n",
       "25%        365.000000    51.208120     4.400260     2.000000     1.000000   \n",
       "50%       1125.000000    51.216650     4.409340     3.000000     1.000000   \n",
       "75%       1125.000000    51.220910     4.424790     4.000000     2.000000   \n",
       "max       9999.000000    51.349400     4.483470    16.000000    20.000000   \n",
       "\n",
       "              beds       host_id  total_reviews  days_since_review  \\\n",
       "count  1699.000000  1.699000e+03    1699.000000        1699.000000   \n",
       "mean      2.203649  1.411752e+08      36.759859         926.861346   \n",
       "std       2.220678  1.285789e+08      62.071381         781.448221   \n",
       "min       1.000000  2.340770e+05       0.000000         110.000000   \n",
       "25%       1.000000  2.819556e+07       3.000000         283.896552   \n",
       "50%       2.000000  1.027113e+08      13.000000         718.333333   \n",
       "75%       3.000000  2.338721e+08      41.000000        1246.172944   \n",
       "max      44.000000  4.373093e+08     648.000000        2720.132353   \n",
       "\n",
       "       comment_length  \n",
       "count     1699.000000  \n",
       "mean       180.218010  \n",
       "std        116.353612  \n",
       "min          0.000000  \n",
       "25%        125.968750  \n",
       "50%        180.689655  \n",
       "75%        230.316667  \n",
       "max       1436.000000  "
      ]
     },
     "execution_count": 48,
     "metadata": {},
     "output_type": "execute_result"
    }
   ],
   "source": [
    "df.describe()"
   ]
  },
  {
   "cell_type": "code",
   "execution_count": 49,
   "id": "5a6866f4",
   "metadata": {},
   "outputs": [
    {
     "data": {
      "text/html": [
       "<div>\n",
       "<style scoped>\n",
       "    .dataframe tbody tr th:only-of-type {\n",
       "        vertical-align: middle;\n",
       "    }\n",
       "\n",
       "    .dataframe tbody tr th {\n",
       "        vertical-align: top;\n",
       "    }\n",
       "\n",
       "    .dataframe thead th {\n",
       "        text-align: right;\n",
       "    }\n",
       "</style>\n",
       "<table border=\"1\" class=\"dataframe\">\n",
       "  <thead>\n",
       "    <tr style=\"text-align: right;\">\n",
       "      <th></th>\n",
       "      <th>listing_id</th>\n",
       "      <th>available</th>\n",
       "      <th>price</th>\n",
       "      <th>adjusted_price</th>\n",
       "      <th>minimum_nights</th>\n",
       "      <th>maximum_nights</th>\n",
       "      <th>latitude</th>\n",
       "      <th>longitude</th>\n",
       "      <th>accomodates</th>\n",
       "      <th>bedrooms</th>\n",
       "      <th>beds</th>\n",
       "      <th>host_id</th>\n",
       "      <th>total_reviews</th>\n",
       "      <th>days_since_review</th>\n",
       "      <th>comment_length</th>\n",
       "    </tr>\n",
       "  </thead>\n",
       "  <tbody>\n",
       "    <tr>\n",
       "      <th>count</th>\n",
       "      <td>1.699000e+03</td>\n",
       "      <td>1699.000000</td>\n",
       "      <td>1699.000000</td>\n",
       "      <td>1699.000000</td>\n",
       "      <td>1699.000000</td>\n",
       "      <td>1699.000000</td>\n",
       "      <td>1699.000000</td>\n",
       "      <td>1699.000000</td>\n",
       "      <td>1699.000000</td>\n",
       "      <td>1699.000000</td>\n",
       "      <td>1699.000000</td>\n",
       "      <td>1.699000e+03</td>\n",
       "      <td>1699.000000</td>\n",
       "      <td>1699.000000</td>\n",
       "      <td>1699.000000</td>\n",
       "    </tr>\n",
       "    <tr>\n",
       "      <th>mean</th>\n",
       "      <td>3.454408e+07</td>\n",
       "      <td>0.504022</td>\n",
       "      <td>116.050226</td>\n",
       "      <td>115.621150</td>\n",
       "      <td>4.984304</td>\n",
       "      <td>815.681577</td>\n",
       "      <td>51.214123</td>\n",
       "      <td>4.413115</td>\n",
       "      <td>3.770453</td>\n",
       "      <td>1.505003</td>\n",
       "      <td>2.203649</td>\n",
       "      <td>1.411752e+08</td>\n",
       "      <td>36.759859</td>\n",
       "      <td>926.861346</td>\n",
       "      <td>180.218010</td>\n",
       "    </tr>\n",
       "    <tr>\n",
       "      <th>std</th>\n",
       "      <td>1.526862e+07</td>\n",
       "      <td>0.499345</td>\n",
       "      <td>188.711087</td>\n",
       "      <td>187.904327</td>\n",
       "      <td>19.267865</td>\n",
       "      <td>519.442367</td>\n",
       "      <td>0.013800</td>\n",
       "      <td>0.019340</td>\n",
       "      <td>2.770626</td>\n",
       "      <td>1.054104</td>\n",
       "      <td>2.220678</td>\n",
       "      <td>1.285789e+08</td>\n",
       "      <td>62.071381</td>\n",
       "      <td>781.448221</td>\n",
       "      <td>116.353612</td>\n",
       "    </tr>\n",
       "    <tr>\n",
       "      <th>min</th>\n",
       "      <td>5.090400e+04</td>\n",
       "      <td>0.000000</td>\n",
       "      <td>14.000000</td>\n",
       "      <td>14.000000</td>\n",
       "      <td>1.000000</td>\n",
       "      <td>1.000000</td>\n",
       "      <td>51.160084</td>\n",
       "      <td>4.290770</td>\n",
       "      <td>1.000000</td>\n",
       "      <td>1.000000</td>\n",
       "      <td>1.000000</td>\n",
       "      <td>2.340770e+05</td>\n",
       "      <td>0.000000</td>\n",
       "      <td>110.000000</td>\n",
       "      <td>0.000000</td>\n",
       "    </tr>\n",
       "    <tr>\n",
       "      <th>10%</th>\n",
       "      <td>1.027352e+07</td>\n",
       "      <td>0.000000</td>\n",
       "      <td>45.000000</td>\n",
       "      <td>45.000000</td>\n",
       "      <td>1.000000</td>\n",
       "      <td>13.000000</td>\n",
       "      <td>51.198756</td>\n",
       "      <td>4.394420</td>\n",
       "      <td>2.000000</td>\n",
       "      <td>1.000000</td>\n",
       "      <td>1.000000</td>\n",
       "      <td>9.438572e+06</td>\n",
       "      <td>0.000000</td>\n",
       "      <td>179.647619</td>\n",
       "      <td>0.000000</td>\n",
       "    </tr>\n",
       "    <tr>\n",
       "      <th>40%</th>\n",
       "      <td>3.319326e+07</td>\n",
       "      <td>0.000000</td>\n",
       "      <td>73.000000</td>\n",
       "      <td>72.733333</td>\n",
       "      <td>1.666667</td>\n",
       "      <td>1125.000000</td>\n",
       "      <td>51.213332</td>\n",
       "      <td>4.405212</td>\n",
       "      <td>2.000000</td>\n",
       "      <td>1.000000</td>\n",
       "      <td>1.000000</td>\n",
       "      <td>5.262567e+07</td>\n",
       "      <td>8.000000</td>\n",
       "      <td>516.198519</td>\n",
       "      <td>160.665934</td>\n",
       "    </tr>\n",
       "    <tr>\n",
       "      <th>50%</th>\n",
       "      <td>3.828111e+07</td>\n",
       "      <td>1.000000</td>\n",
       "      <td>80.000000</td>\n",
       "      <td>80.000000</td>\n",
       "      <td>2.000000</td>\n",
       "      <td>1125.000000</td>\n",
       "      <td>51.216650</td>\n",
       "      <td>4.409340</td>\n",
       "      <td>3.000000</td>\n",
       "      <td>1.000000</td>\n",
       "      <td>2.000000</td>\n",
       "      <td>1.027113e+08</td>\n",
       "      <td>13.000000</td>\n",
       "      <td>718.333333</td>\n",
       "      <td>180.689655</td>\n",
       "    </tr>\n",
       "    <tr>\n",
       "      <th>60%</th>\n",
       "      <td>4.165281e+07</td>\n",
       "      <td>1.000000</td>\n",
       "      <td>90.000000</td>\n",
       "      <td>90.000000</td>\n",
       "      <td>2.000000</td>\n",
       "      <td>1125.000000</td>\n",
       "      <td>51.218488</td>\n",
       "      <td>4.416318</td>\n",
       "      <td>4.000000</td>\n",
       "      <td>1.000000</td>\n",
       "      <td>2.000000</td>\n",
       "      <td>1.647852e+08</td>\n",
       "      <td>21.000000</td>\n",
       "      <td>906.497030</td>\n",
       "      <td>198.406573</td>\n",
       "    </tr>\n",
       "    <tr>\n",
       "      <th>90%</th>\n",
       "      <td>5.201646e+07</td>\n",
       "      <td>1.000000</td>\n",
       "      <td>191.000000</td>\n",
       "      <td>190.000000</td>\n",
       "      <td>7.000000</td>\n",
       "      <td>1125.000000</td>\n",
       "      <td>51.225720</td>\n",
       "      <td>4.438714</td>\n",
       "      <td>7.000000</td>\n",
       "      <td>2.000000</td>\n",
       "      <td>4.000000</td>\n",
       "      <td>3.497191e+08</td>\n",
       "      <td>101.000000</td>\n",
       "      <td>2720.132353</td>\n",
       "      <td>289.963376</td>\n",
       "    </tr>\n",
       "    <tr>\n",
       "      <th>99%</th>\n",
       "      <td>5.376968e+07</td>\n",
       "      <td>1.000000</td>\n",
       "      <td>950.800000</td>\n",
       "      <td>950.400000</td>\n",
       "      <td>40.200000</td>\n",
       "      <td>1125.000000</td>\n",
       "      <td>51.250239</td>\n",
       "      <td>4.463852</td>\n",
       "      <td>14.020000</td>\n",
       "      <td>5.000000</td>\n",
       "      <td>9.020000</td>\n",
       "      <td>4.286115e+08</td>\n",
       "      <td>299.080000</td>\n",
       "      <td>2720.132353</td>\n",
       "      <td>481.986667</td>\n",
       "    </tr>\n",
       "    <tr>\n",
       "      <th>max</th>\n",
       "      <td>5.398332e+07</td>\n",
       "      <td>1.000000</td>\n",
       "      <td>5800.000000</td>\n",
       "      <td>5800.000000</td>\n",
       "      <td>500.000000</td>\n",
       "      <td>9999.000000</td>\n",
       "      <td>51.349400</td>\n",
       "      <td>4.483470</td>\n",
       "      <td>16.000000</td>\n",
       "      <td>20.000000</td>\n",
       "      <td>44.000000</td>\n",
       "      <td>4.373093e+08</td>\n",
       "      <td>648.000000</td>\n",
       "      <td>2720.132353</td>\n",
       "      <td>1436.000000</td>\n",
       "    </tr>\n",
       "  </tbody>\n",
       "</table>\n",
       "</div>"
      ],
      "text/plain": [
       "         listing_id    available        price  adjusted_price  minimum_nights  \\\n",
       "count  1.699000e+03  1699.000000  1699.000000     1699.000000     1699.000000   \n",
       "mean   3.454408e+07     0.504022   116.050226      115.621150        4.984304   \n",
       "std    1.526862e+07     0.499345   188.711087      187.904327       19.267865   \n",
       "min    5.090400e+04     0.000000    14.000000       14.000000        1.000000   \n",
       "10%    1.027352e+07     0.000000    45.000000       45.000000        1.000000   \n",
       "40%    3.319326e+07     0.000000    73.000000       72.733333        1.666667   \n",
       "50%    3.828111e+07     1.000000    80.000000       80.000000        2.000000   \n",
       "60%    4.165281e+07     1.000000    90.000000       90.000000        2.000000   \n",
       "90%    5.201646e+07     1.000000   191.000000      190.000000        7.000000   \n",
       "99%    5.376968e+07     1.000000   950.800000      950.400000       40.200000   \n",
       "max    5.398332e+07     1.000000  5800.000000     5800.000000      500.000000   \n",
       "\n",
       "       maximum_nights     latitude    longitude  accomodates     bedrooms  \\\n",
       "count     1699.000000  1699.000000  1699.000000  1699.000000  1699.000000   \n",
       "mean       815.681577    51.214123     4.413115     3.770453     1.505003   \n",
       "std        519.442367     0.013800     0.019340     2.770626     1.054104   \n",
       "min          1.000000    51.160084     4.290770     1.000000     1.000000   \n",
       "10%         13.000000    51.198756     4.394420     2.000000     1.000000   \n",
       "40%       1125.000000    51.213332     4.405212     2.000000     1.000000   \n",
       "50%       1125.000000    51.216650     4.409340     3.000000     1.000000   \n",
       "60%       1125.000000    51.218488     4.416318     4.000000     1.000000   \n",
       "90%       1125.000000    51.225720     4.438714     7.000000     2.000000   \n",
       "99%       1125.000000    51.250239     4.463852    14.020000     5.000000   \n",
       "max       9999.000000    51.349400     4.483470    16.000000    20.000000   \n",
       "\n",
       "              beds       host_id  total_reviews  days_since_review  \\\n",
       "count  1699.000000  1.699000e+03    1699.000000        1699.000000   \n",
       "mean      2.203649  1.411752e+08      36.759859         926.861346   \n",
       "std       2.220678  1.285789e+08      62.071381         781.448221   \n",
       "min       1.000000  2.340770e+05       0.000000         110.000000   \n",
       "10%       1.000000  9.438572e+06       0.000000         179.647619   \n",
       "40%       1.000000  5.262567e+07       8.000000         516.198519   \n",
       "50%       2.000000  1.027113e+08      13.000000         718.333333   \n",
       "60%       2.000000  1.647852e+08      21.000000         906.497030   \n",
       "90%       4.000000  3.497191e+08     101.000000        2720.132353   \n",
       "99%       9.020000  4.286115e+08     299.080000        2720.132353   \n",
       "max      44.000000  4.373093e+08     648.000000        2720.132353   \n",
       "\n",
       "       comment_length  \n",
       "count     1699.000000  \n",
       "mean       180.218010  \n",
       "std        116.353612  \n",
       "min          0.000000  \n",
       "10%          0.000000  \n",
       "40%        160.665934  \n",
       "50%        180.689655  \n",
       "60%        198.406573  \n",
       "90%        289.963376  \n",
       "99%        481.986667  \n",
       "max       1436.000000  "
      ]
     },
     "execution_count": 49,
     "metadata": {},
     "output_type": "execute_result"
    }
   ],
   "source": [
    "df.describe([.1,.4,.5,.6,.9,.99])"
   ]
  },
  {
   "cell_type": "code",
   "execution_count": 50,
   "id": "fa568fbc",
   "metadata": {},
   "outputs": [
    {
     "data": {
      "text/plain": [
       "<AxesSubplot:xlabel='comment_length', ylabel='Density'>"
      ]
     },
     "execution_count": 50,
     "metadata": {},
     "output_type": "execute_result"
    },
    {
     "data": {
      "image/png": "[encoded data removed]",
      "text/plain": [
       "<Figure size 1296x720 with 9 Axes>"
      ]
     },
     "metadata": {
      "needs_background": "light"
     },
     "output_type": "display_data"
    }
   ],
   "source": [
    "fig, axes = plt.subplots(3, 3, figsize=(18, 10))\n",
    " \n",
    "fig.suptitle('Probability Denstity function for continuous variables')\n",
    " \n",
    "\n",
    "sns.kdeplot(df['price'],ax=axes[0, 0])\n",
    "sns.kdeplot(df['accomodates'],ax=axes[0, 1])\n",
    "sns.kdeplot(df['bedrooms'],ax=axes[0, 2])\n",
    "\n",
    "sns.kdeplot(df['beds'],ax=axes[1, 0])\n",
    "sns.kdeplot(df['total_reviews'],ax=axes[1, 1])\n",
    "sns.kdeplot(df['days_since_review'],ax=axes[1, 2])\n",
    "\n",
    "\n",
    "sns.kdeplot(df['adjusted_price'],ax=axes[2, 0])\n",
    "sns.kdeplot(df['maximum_nights'],ax=axes[2, 1])\n",
    "sns.kdeplot(df['comment_length'],ax=axes[2, 2])"
   ]
  },
  {
   "cell_type": "markdown",
   "id": "06731546",
   "metadata": {},
   "source": [
    "## Observations\n",
    "- The average price for a room is 115. Most of it in the middle, high kurtosis - low skewness\n",
    "- An average room accomodates almost 3-4 people. We have good spread here. Not as dense as price\n",
    "- On Average, there are 1-2 bedrooms available on a property. With few having 2-3 and rarely we see 4-5.\n",
    "- There are about 1-2 beds on average for our listings.\n",
    "- There are about 36 reviews per listing_id, which is good.\n",
    "- We have 926 'days_since_review', which is poor. You see a gradual decrease but a bump for 2700 mark, this must be due to the way we filled in missing values, we have to be careful about this, if this messes up with the model, we might have to change the approach to fill in these missing values.\n",
    "- For comment length, i don't know how useful that will be, will know after we train the model"
   ]
  },
  {
   "cell_type": "code",
   "execution_count": 51,
   "id": "f6eade8a",
   "metadata": {},
   "outputs": [
    {
     "data": {
      "text/html": [
       "<div>\n",
       "<style scoped>\n",
       "    .dataframe tbody tr th:only-of-type {\n",
       "        vertical-align: middle;\n",
       "    }\n",
       "\n",
       "    .dataframe tbody tr th {\n",
       "        vertical-align: top;\n",
       "    }\n",
       "\n",
       "    .dataframe thead th {\n",
       "        text-align: right;\n",
       "    }\n",
       "</style>\n",
       "<table border=\"1\" class=\"dataframe\">\n",
       "  <thead>\n",
       "    <tr style=\"text-align: right;\">\n",
       "      <th></th>\n",
       "      <th>listing_id</th>\n",
       "      <th>available</th>\n",
       "      <th>price</th>\n",
       "      <th>adjusted_price</th>\n",
       "      <th>minimum_nights</th>\n",
       "      <th>maximum_nights</th>\n",
       "      <th>listing_url</th>\n",
       "      <th>name</th>\n",
       "      <th>latitude</th>\n",
       "      <th>longitude</th>\n",
       "      <th>property_type</th>\n",
       "      <th>room_type</th>\n",
       "      <th>accomodates</th>\n",
       "      <th>bathrooms_text</th>\n",
       "      <th>bedrooms</th>\n",
       "      <th>beds</th>\n",
       "      <th>amenities</th>\n",
       "      <th>host_id</th>\n",
       "      <th>host_name</th>\n",
       "      <th>host_since</th>\n",
       "      <th>host_location</th>\n",
       "      <th>total_reviews</th>\n",
       "      <th>days_since_review</th>\n",
       "      <th>comment_length</th>\n",
       "    </tr>\n",
       "  </thead>\n",
       "  <tbody>\n",
       "    <tr>\n",
       "      <th>0</th>\n",
       "      <td>50904.0</td>\n",
       "      <td>0.0</td>\n",
       "      <td>166.666667</td>\n",
       "      <td>158.666667</td>\n",
       "      <td>1.000000</td>\n",
       "      <td>60.0</td>\n",
       "      <td>https://www.airbnb.com/rooms/50904</td>\n",
       "      <td>aplace/antwerp: cosy suite - fashion district</td>\n",
       "      <td>51.218575</td>\n",
       "      <td>4.398631</td>\n",
       "      <td>Room in boutique hotel</td>\n",
       "      <td>Hotel room</td>\n",
       "      <td>2.0</td>\n",
       "      <td>1 private bath</td>\n",
       "      <td>1.0</td>\n",
       "      <td>1.0</td>\n",
       "      <td>[\"Kitchen\", \"Smoke alarm\", \"Hair dryer\", \"Keyp...</td>\n",
       "      <td>234077.0</td>\n",
       "      <td>Karin</td>\n",
       "      <td>2010-09-14</td>\n",
       "      <td>Antwerp, Flanders, Belgium</td>\n",
       "      <td>2.0</td>\n",
       "      <td>1358.500000</td>\n",
       "      <td>255.500000</td>\n",
       "    </tr>\n",
       "    <tr>\n",
       "      <th>1</th>\n",
       "      <td>891884.0</td>\n",
       "      <td>0.0</td>\n",
       "      <td>175.000000</td>\n",
       "      <td>175.000000</td>\n",
       "      <td>1.666667</td>\n",
       "      <td>1125.0</td>\n",
       "      <td>https://www.airbnb.com/rooms/891884</td>\n",
       "      <td>aplace/antwerp: amazing suite &amp; square view</td>\n",
       "      <td>51.218575</td>\n",
       "      <td>4.398631</td>\n",
       "      <td>Room in boutique hotel</td>\n",
       "      <td>Hotel room</td>\n",
       "      <td>2.0</td>\n",
       "      <td>1 private bath</td>\n",
       "      <td>1.0</td>\n",
       "      <td>1.0</td>\n",
       "      <td>[\"Refrigerator\", \"Kitchen\", \"Smoke alarm\", \"Ha...</td>\n",
       "      <td>234077.0</td>\n",
       "      <td>Karin</td>\n",
       "      <td>2010-09-14</td>\n",
       "      <td>Antwerp, Flanders, Belgium</td>\n",
       "      <td>2.0</td>\n",
       "      <td>619.000000</td>\n",
       "      <td>127.000000</td>\n",
       "    </tr>\n",
       "    <tr>\n",
       "      <th>2</th>\n",
       "      <td>891907.0</td>\n",
       "      <td>1.0</td>\n",
       "      <td>215.000000</td>\n",
       "      <td>215.000000</td>\n",
       "      <td>3.000000</td>\n",
       "      <td>1125.0</td>\n",
       "      <td>https://www.airbnb.com/rooms/891907</td>\n",
       "      <td>aplace/antwerp: stunning flat with square view</td>\n",
       "      <td>51.218575</td>\n",
       "      <td>4.398631</td>\n",
       "      <td>Entire rental unit</td>\n",
       "      <td>Entire home/apt</td>\n",
       "      <td>4.0</td>\n",
       "      <td>1.5 baths</td>\n",
       "      <td>2.0</td>\n",
       "      <td>2.0</td>\n",
       "      <td>[\"Refrigerator\", \"Kitchen\", \"Smoke alarm\", \"Ha...</td>\n",
       "      <td>234077.0</td>\n",
       "      <td>Karin</td>\n",
       "      <td>2010-09-14</td>\n",
       "      <td>Antwerp, Flanders, Belgium</td>\n",
       "      <td>6.0</td>\n",
       "      <td>1694.500000</td>\n",
       "      <td>300.166667</td>\n",
       "    </tr>\n",
       "    <tr>\n",
       "      <th>3</th>\n",
       "      <td>2543695.0</td>\n",
       "      <td>1.0</td>\n",
       "      <td>200.000000</td>\n",
       "      <td>200.000000</td>\n",
       "      <td>2.000000</td>\n",
       "      <td>1125.0</td>\n",
       "      <td>https://www.airbnb.com/rooms/2543695</td>\n",
       "      <td>aplace/antwerp: gorgeous flat with square view</td>\n",
       "      <td>51.218575</td>\n",
       "      <td>4.398631</td>\n",
       "      <td>Entire rental unit</td>\n",
       "      <td>Entire home/apt</td>\n",
       "      <td>4.0</td>\n",
       "      <td>1.5 baths</td>\n",
       "      <td>2.0</td>\n",
       "      <td>2.0</td>\n",
       "      <td>[\"Refrigerator\", \"Kitchen\", \"Smoke alarm\", \"Ha...</td>\n",
       "      <td>234077.0</td>\n",
       "      <td>Karin</td>\n",
       "      <td>2010-09-14</td>\n",
       "      <td>Antwerp, Flanders, Belgium</td>\n",
       "      <td>15.0</td>\n",
       "      <td>1603.866667</td>\n",
       "      <td>362.866667</td>\n",
       "    </tr>\n",
       "    <tr>\n",
       "      <th>4</th>\n",
       "      <td>116134.0</td>\n",
       "      <td>1.0</td>\n",
       "      <td>150.000000</td>\n",
       "      <td>150.000000</td>\n",
       "      <td>2.000000</td>\n",
       "      <td>1125.0</td>\n",
       "      <td>https://www.airbnb.com/rooms/116134</td>\n",
       "      <td>Spacious apartment nearby Mas</td>\n",
       "      <td>51.230510</td>\n",
       "      <td>4.405930</td>\n",
       "      <td>Entire rental unit</td>\n",
       "      <td>Entire home/apt</td>\n",
       "      <td>4.0</td>\n",
       "      <td>2.5 baths</td>\n",
       "      <td>2.0</td>\n",
       "      <td>2.0</td>\n",
       "      <td>[\"Refrigerator\", \"Elevator\", \"Paid street park...</td>\n",
       "      <td>586942.0</td>\n",
       "      <td>Paul</td>\n",
       "      <td>2011-05-14</td>\n",
       "      <td>Kapellen, Flanders, Belgium</td>\n",
       "      <td>120.0</td>\n",
       "      <td>1540.908333</td>\n",
       "      <td>265.266667</td>\n",
       "    </tr>\n",
       "  </tbody>\n",
       "</table>\n",
       "</div>"
      ],
      "text/plain": [
       "   listing_id  available       price  adjusted_price  minimum_nights  \\\n",
       "0     50904.0        0.0  166.666667      158.666667        1.000000   \n",
       "1    891884.0        0.0  175.000000      175.000000        1.666667   \n",
       "2    891907.0        1.0  215.000000      215.000000        3.000000   \n",
       "3   2543695.0        1.0  200.000000      200.000000        2.000000   \n",
       "4    116134.0        1.0  150.000000      150.000000        2.000000   \n",
       "\n",
       "   maximum_nights                           listing_url  \\\n",
       "0            60.0    https://www.airbnb.com/rooms/50904   \n",
       "1          1125.0   https://www.airbnb.com/rooms/891884   \n",
       "2          1125.0   https://www.airbnb.com/rooms/891907   \n",
       "3          1125.0  https://www.airbnb.com/rooms/2543695   \n",
       "4          1125.0   https://www.airbnb.com/rooms/116134   \n",
       "\n",
       "                                             name   latitude  longitude  \\\n",
       "0   aplace/antwerp: cosy suite - fashion district  51.218575   4.398631   \n",
       "1     aplace/antwerp: amazing suite & square view  51.218575   4.398631   \n",
       "2  aplace/antwerp: stunning flat with square view  51.218575   4.398631   \n",
       "3  aplace/antwerp: gorgeous flat with square view  51.218575   4.398631   \n",
       "4                   Spacious apartment nearby Mas  51.230510   4.405930   \n",
       "\n",
       "            property_type        room_type  accomodates  bathrooms_text  \\\n",
       "0  Room in boutique hotel       Hotel room          2.0  1 private bath   \n",
       "1  Room in boutique hotel       Hotel room          2.0  1 private bath   \n",
       "2      Entire rental unit  Entire home/apt          4.0       1.5 baths   \n",
       "3      Entire rental unit  Entire home/apt          4.0       1.5 baths   \n",
       "4      Entire rental unit  Entire home/apt          4.0       2.5 baths   \n",
       "\n",
       "   bedrooms  beds                                          amenities  \\\n",
       "0       1.0   1.0  [\"Kitchen\", \"Smoke alarm\", \"Hair dryer\", \"Keyp...   \n",
       "1       1.0   1.0  [\"Refrigerator\", \"Kitchen\", \"Smoke alarm\", \"Ha...   \n",
       "2       2.0   2.0  [\"Refrigerator\", \"Kitchen\", \"Smoke alarm\", \"Ha...   \n",
       "3       2.0   2.0  [\"Refrigerator\", \"Kitchen\", \"Smoke alarm\", \"Ha...   \n",
       "4       2.0   2.0  [\"Refrigerator\", \"Elevator\", \"Paid street park...   \n",
       "\n",
       "    host_id host_name  host_since                host_location  total_reviews  \\\n",
       "0  234077.0     Karin  2010-09-14   Antwerp, Flanders, Belgium            2.0   \n",
       "1  234077.0     Karin  2010-09-14   Antwerp, Flanders, Belgium            2.0   \n",
       "2  234077.0     Karin  2010-09-14   Antwerp, Flanders, Belgium            6.0   \n",
       "3  234077.0     Karin  2010-09-14   Antwerp, Flanders, Belgium           15.0   \n",
       "4  586942.0      Paul  2011-05-14  Kapellen, Flanders, Belgium          120.0   \n",
       "\n",
       "   days_since_review  comment_length  \n",
       "0        1358.500000      255.500000  \n",
       "1         619.000000      127.000000  \n",
       "2        1694.500000      300.166667  \n",
       "3        1603.866667      362.866667  \n",
       "4        1540.908333      265.266667  "
      ]
     },
     "execution_count": 51,
     "metadata": {},
     "output_type": "execute_result"
    }
   ],
   "source": [
    "df.head()"
   ]
  },
  {
   "cell_type": "code",
   "execution_count": 52,
   "id": "636d7ee4",
   "metadata": {},
   "outputs": [
    {
     "data": {
      "text/plain": [
       "<AxesSubplot:xlabel='property_type'>"
      ]
     },
     "execution_count": 52,
     "metadata": {},
     "output_type": "execute_result"
    },
    {
     "data": {
      "image/png": "[encoded data removed]",
      "text/plain": [
       "<Figure size 1296x720 with 6 Axes>"
      ]
     },
     "metadata": {
      "needs_background": "light"
     },
     "output_type": "display_data"
    }
   ],
   "source": [
    "fig, axes = plt.subplots(2, 3, figsize=(18, 10))\n",
    " \n",
    "fig.suptitle('Bar Charts for Categorical Variable')\n",
    "\n",
    "df.groupby('beds').count()['listing_id'].plot(kind='bar',ax=axes[0, 0])\n",
    "df.groupby('bedrooms').count()['listing_id'].plot(kind='bar',ax=axes[0, 1])\n",
    "df.groupby('accomodates').count()['listing_id'].plot(kind='bar',ax=axes[0, 2])\n",
    "\n",
    "df.groupby('room_type').count()['listing_id'].plot(kind='bar',ax=axes[1, 0])\n",
    "df.groupby('bathrooms_text').count()['listing_id'].plot(kind='bar',ax=axes[1, 1])\n",
    "df.groupby('property_type').count()['listing_id'].plot(kind='bar',ax=axes[1, 2])"
   ]
  },
  {
   "cell_type": "markdown",
   "id": "d080c465",
   "metadata": {},
   "source": [
    "## Observations\n",
    "- We have a pareto distribution for the number of beds available. \n",
    "- The number of bedrooms also follow the beds distribution (pareto)\n",
    "- For accomodate, most of the values are centered around 2, with less values at 4 and a spike at 12. Will need to look into this.\n",
    "- Room types are dominated by the entire home rather than a hotel room or private room. This is to be expected as this is AirBnb.\n",
    "- Bathroom_text is very sparsely distributed and something needs to be done to make this column better usable.\n",
    "- Same goes for property_type, Too sparsely distributed and somehow needs to resized."
   ]
  },
  {
   "cell_type": "markdown",
   "id": "e563fd5a",
   "metadata": {},
   "source": [
    "Saving the clean dataframe to a csv"
   ]
  },
  {
   "cell_type": "code",
   "execution_count": 54,
   "id": "5597a8ac",
   "metadata": {},
   "outputs": [],
   "source": [
    "df.to_csv('cleaned_combined_airbnb.csv')"
   ]
  },
  {
   "cell_type": "code",
   "execution_count": null,
   "id": "8d6d23e7",
   "metadata": {},
   "outputs": [],
   "source": []
  },
  {
   "cell_type": "code",
   "execution_count": null,
   "id": "e83739ae",
   "metadata": {},
   "outputs": [],
   "source": []
  },
  {
   "cell_type": "code",
   "execution_count": null,
   "id": "57cc4fd2",
   "metadata": {},
   "outputs": [],
   "source": []
  },
  {
   "cell_type": "code",
   "execution_count": null,
   "id": "d30a7a79",
   "metadata": {},
   "outputs": [],
   "source": []
  }
 ],
 "metadata": {
  "kernelspec": {
   "display_name": "Python 3 (ipykernel)",
   "language": "python",
   "name": "python3"
  },
  "language_info": {
   "codemirror_mode": {
    "name": "ipython",
    "version": 3
   },
   "file_extension": ".py",
   "mimetype": "text/x-python",
   "name": "python",
   "nbconvert_exporter": "python",
   "pygments_lexer": "ipython3",
   "version": "3.7.11"
  }
 },
 "nbformat": 4,
 "nbformat_minor": 5
}
