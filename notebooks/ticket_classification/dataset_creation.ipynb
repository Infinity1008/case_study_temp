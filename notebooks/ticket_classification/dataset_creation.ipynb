{
 "cells": [
  {
   "cell_type": "code",
   "execution_count": 1,
   "id": "d42d45ed-65f9-4460-a5d3-91aead7e9e17",
   "metadata": {},
   "outputs": [],
   "source": [
    "import pandas as pd\n",
    "import json\n",
    "url1 = \"https://raw.githubusercontent.com/IBM/support-ticket-classification/master/data/Bank_Accounts.csv\"\n",
    "url2 = \"https://raw.githubusercontent.com/IBM/support-ticket-classification/master/data/Mortgage.csv\"\n",
    "url3 = \"https://raw.githubusercontent.com/IBM/support-ticket-classification/master/data/credit_card_tickets.csv\"\n",
    "url4 = \"https://raw.githubusercontent.com/IBM/support-ticket-classification/master/data/loans.csv\"\n",
    "url5 = \"https://raw.githubusercontent.com/IBM/support-ticket-classification/master/data/test_data.csv\""
   ]
  },
  {
   "cell_type": "code",
   "execution_count": 2,
   "id": "23b3089e-1098-4a4f-ab87-58ffcb979f42",
   "metadata": {},
   "outputs": [],
   "source": [
    "bank_acc = pd.read_csv(url1,header=None)\n",
    "mortgage = pd.read_csv(url2,header=None)\n",
    "credit_card = pd.read_csv(url3,header=None)\n",
    "loans = pd.read_csv(url4,header=None)\n",
    "test = pd.read_csv(url5,header=None)"
   ]
  },
  {
   "cell_type": "code",
   "execution_count": 3,
   "id": "d59f78e0-ee30-4d28-88ab-1d229aead38d",
   "metadata": {},
   "outputs": [],
   "source": [
    "## Create an id for each complaint type\n",
    "bank_complaints = bank_acc[1].unique().tolist()\n",
    "mortgage_complaints = mortgage[1].unique().tolist()\n",
    "credit_complaints = credit_card[1].unique().tolist()\n",
    "loan_complaints = loans[1].unique().tolist()"
   ]
  },
  {
   "cell_type": "code",
   "execution_count": 4,
   "id": "a26bc644-f43e-425e-af49-e37c12665a5b",
   "metadata": {},
   "outputs": [],
   "source": [
    "def get_complaint_dict(complaints,suffix):\n",
    "    mapping = {}\n",
    "    for idx,complaint in enumerate(complaints):\n",
    "        k = f'{suffix}_{idx}'\n",
    "        mapping[complaint] = k\n",
    "    return mapping"
   ]
  },
  {
   "cell_type": "code",
   "execution_count": 5,
   "id": "ec33a28d-c397-4c3f-8ca4-16241a60d40f",
   "metadata": {},
   "outputs": [],
   "source": [
    "bank_mapping = get_complaint_dict(bank_complaints,\"bc\")\n",
    "mortgage_mapping = get_complaint_dict(mortgage_complaints,\"mc\")\n",
    "credit_mapping = get_complaint_dict(credit_complaints,\"cc\")\n",
    "loan_mapping = get_complaint_dict(loan_complaints,\"lc\")"
   ]
  },
  {
   "cell_type": "code",
   "execution_count": 6,
   "id": "b9a62b2f-51d6-437d-b013-fdd748f4507e",
   "metadata": {},
   "outputs": [],
   "source": [
    "bank_acc['complaint_id'] = bank_acc[1].map(bank_mapping)\n",
    "mortgage['complaint_id'] = mortgage[1].map(mortgage_mapping)\n",
    "credit_card['complaint_id'] = credit_card[1].map(credit_mapping)\n",
    "loans['complaint_id'] = loans[1].map(loan_mapping)"
   ]
  },
  {
   "cell_type": "code",
   "execution_count": 7,
   "id": "c9cd9a41-369e-465b-8332-95ed62a7f3f1",
   "metadata": {},
   "outputs": [],
   "source": [
    "def get_data_dict(data: list)->list:\n",
    "    complete_data = []\n",
    "    for d in data:\n",
    "        for row in d.sample(frac=1).itertuples():\n",
    "            record = {}\n",
    "            record['text'] = row[1]\n",
    "            record['complaint_id'] = row[3]\n",
    "            complete_data.append(record)\n",
    "    return complete_data"
   ]
  },
  {
   "cell_type": "code",
   "execution_count": 8,
   "id": "bc01395b-e1be-426d-a564-0c2a6be8d119",
   "metadata": {},
   "outputs": [],
   "source": [
    "all_data = get_data_dict([bank_acc,mortgage,credit_card,loans])"
   ]
  },
  {
   "cell_type": "code",
   "execution_count": 9,
   "id": "ba57f8b0-698c-42e3-a9bb-0342cc3ac1b6",
   "metadata": {},
   "outputs": [],
   "source": [
    "mappings = {}\n",
    "for maps in [bank_mapping,mortgage_mapping,credit_mapping,loan_mapping]:\n",
    "    mappings.update(maps)"
   ]
  },
  {
   "cell_type": "code",
   "execution_count": 10,
   "id": "2517be48-c81f-4218-85e5-376565d2b87c",
   "metadata": {},
   "outputs": [],
   "source": [
    "all_mappings = {}\n",
    "all_mappings['all'] = mappings"
   ]
  },
  {
   "cell_type": "code",
   "execution_count": 11,
   "id": "69c6ea41-5a6b-4a98-ac84-332944dbd0a0",
   "metadata": {},
   "outputs": [],
   "source": [
    "complete_data = {}\n",
    "complete_data['data'] = all_data"
   ]
  },
  {
   "cell_type": "code",
   "execution_count": 12,
   "id": "f1581fd3-6ee0-4279-b720-813586170418",
   "metadata": {},
   "outputs": [],
   "source": [
    "with open(\"../../data/ticket_classification/mappings.json\",\"w\", encoding='utf-8') as f:\n",
    "    json.dump(all_mappings,f,indent=4)"
   ]
  },
  {
   "cell_type": "code",
   "execution_count": 13,
   "id": "a84aee6a-5050-457f-8e61-782284aef7be",
   "metadata": {},
   "outputs": [],
   "source": [
    "with open(\"../../data/ticket_classification/complaints.json\",\"w\",encoding=\"latin1\") as f:\n",
    "    json.dump(complete_data,f,indent=4)"
   ]
  },
  {
   "cell_type": "code",
   "execution_count": 14,
   "id": "2e986c89-bcda-4d01-87db-9bb24006b0b2",
   "metadata": {},
   "outputs": [
    {
     "data": {
      "text/plain": [
       "400"
      ]
     },
     "execution_count": 14,
     "metadata": {},
     "output_type": "execute_result"
    }
   ],
   "source": [
    "bank_acc.shape[0]+loans.shape[0]+credit_card.shape[0]+mortgage.shape[0]"
   ]
  },
  {
   "cell_type": "code",
   "execution_count": 15,
   "id": "db27e889-9f76-447d-a5f6-adb6bdf604be",
   "metadata": {},
   "outputs": [],
   "source": [
    "test.to_csv(\"../../data/ticket_classification/test.csv\",index=False)"
   ]
  },
  {
   "cell_type": "code",
   "execution_count": null,
   "id": "f81ff690-c3e0-46ef-920f-548a0190c4a2",
   "metadata": {},
   "outputs": [],
   "source": []
  }
 ],
 "metadata": {
  "kernelspec": {
   "display_name": "Python 3 (ipykernel)",
   "language": "python",
   "name": "python3"
  },
  "language_info": {
   "codemirror_mode": {
    "name": "ipython",
    "version": 3
   },
   "file_extension": ".py",
   "mimetype": "text/x-python",
   "name": "python",
   "nbconvert_exporter": "python",
   "pygments_lexer": "ipython3",
   "version": "3.9.10"
  }
 },
 "nbformat": 4,
 "nbformat_minor": 5
}
