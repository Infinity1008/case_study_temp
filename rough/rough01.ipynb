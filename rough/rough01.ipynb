{
 "cells": [
  {
   "cell_type": "markdown",
   "id": "5e8de5b9",
   "metadata": {},
   "source": [
    "# AirBnB Case Study"
   ]
  },
  {
   "cell_type": "markdown",
   "id": "a503bca1",
   "metadata": {},
   "source": [
    "This is a sample solution to the case study problem named 'AirBnB case study'. This solution is one of the many potential ways to solve this case study. Please take these solutions as more of a 'guidance' rather than a 'fixed/perfect' solution. You can take away how to solve for certain issues, but should try to iterate and create/innovate new ways to solve the same issues your way. "
   ]
  },
  {
   "cell_type": "markdown",
   "id": "81c5b1f9",
   "metadata": {},
   "source": [
    "--------------"
   ]
  },
  {
   "cell_type": "markdown",
   "id": "ec4f4f85",
   "metadata": {},
   "source": [
    "## Importing Libraries"
   ]
  },
  {
   "cell_type": "code",
   "execution_count": 219,
   "id": "9e1a57d9",
   "metadata": {},
   "outputs": [],
   "source": [
    "import pandas as pd\n",
    "import matplotlib.pyplot as plt\n",
    "import seaborn as sns"
   ]
  },
  {
   "cell_type": "markdown",
   "id": "f25c715a",
   "metadata": {},
   "source": [
    "## Importing the data from the database."
   ]
  },
  {
   "cell_type": "code",
   "execution_count": 220,
   "id": "6639953e",
   "metadata": {},
   "outputs": [],
   "source": [
    "df_listings = pd.read_sql_table('listings', 'sqlite:///data/airbnb/airbnb.db')\n",
    "df_reviews = pd.read_sql_table('reviews', 'sqlite:///data/airbnb/airbnb.db')\n",
    "df_hosts = pd.read_sql_table('hosts', 'sqlite:///data/airbnb/airbnb.db')\n",
    "df_calendar = pd.read_sql_table('calendar', 'sqlite:///data/airbnb/airbnb.db')"
   ]
  },
  {
   "cell_type": "markdown",
   "id": "70e6930d",
   "metadata": {},
   "source": [
    "------------"
   ]
  },
  {
   "cell_type": "markdown",
   "id": "25d556a1",
   "metadata": {},
   "source": [
    "### Just looking at the data headers and missing values"
   ]
  },
  {
   "cell_type": "markdown",
   "id": "d4c8435d",
   "metadata": {},
   "source": [
    "#### df_listings"
   ]
  },
  {
   "cell_type": "code",
   "execution_count": 221,
   "id": "4a2f1a4f",
   "metadata": {},
   "outputs": [
    {
     "data": {
      "text/html": [
       "<div>\n",
       "<style scoped>\n",
       "    .dataframe tbody tr th:only-of-type {\n",
       "        vertical-align: middle;\n",
       "    }\n",
       "\n",
       "    .dataframe tbody tr th {\n",
       "        vertical-align: top;\n",
       "    }\n",
       "\n",
       "    .dataframe thead th {\n",
       "        text-align: right;\n",
       "    }\n",
       "</style>\n",
       "<table border=\"1\" class=\"dataframe\">\n",
       "  <thead>\n",
       "    <tr style=\"text-align: right;\">\n",
       "      <th></th>\n",
       "      <th>listing_id</th>\n",
       "      <th>listing_url</th>\n",
       "      <th>name</th>\n",
       "      <th>description</th>\n",
       "      <th>latitude</th>\n",
       "      <th>longitude</th>\n",
       "      <th>property_type</th>\n",
       "      <th>room_type</th>\n",
       "      <th>accomodates</th>\n",
       "      <th>bathrooms_text</th>\n",
       "      <th>bedrooms</th>\n",
       "      <th>beds</th>\n",
       "      <th>amenities</th>\n",
       "      <th>host_id</th>\n",
       "    </tr>\n",
       "  </thead>\n",
       "  <tbody>\n",
       "    <tr>\n",
       "      <th>0</th>\n",
       "      <td>50904</td>\n",
       "      <td>https://www.airbnb.com/rooms/50904</td>\n",
       "      <td>aplace/antwerp: cosy suite - fashion district</td>\n",
       "      <td>Decorated in a vintage style combined with a f...</td>\n",
       "      <td>51.218575</td>\n",
       "      <td>4.398631</td>\n",
       "      <td>Room in boutique hotel</td>\n",
       "      <td>Hotel room</td>\n",
       "      <td>2</td>\n",
       "      <td>1 private bath</td>\n",
       "      <td>1.0</td>\n",
       "      <td>1.0</td>\n",
       "      <td>[\"Kitchen\", \"Smoke alarm\", \"Hair dryer\", \"Keyp...</td>\n",
       "      <td>234077</td>\n",
       "    </tr>\n",
       "    <tr>\n",
       "      <th>1</th>\n",
       "      <td>116134</td>\n",
       "      <td>https://www.airbnb.com/rooms/116134</td>\n",
       "      <td>Spacious apartment nearby Mas</td>\n",
       "      <td>Enjoy your stay at our 4 person apartment in t...</td>\n",
       "      <td>51.230510</td>\n",
       "      <td>4.405930</td>\n",
       "      <td>Entire rental unit</td>\n",
       "      <td>Entire home/apt</td>\n",
       "      <td>4</td>\n",
       "      <td>2.5 baths</td>\n",
       "      <td>2.0</td>\n",
       "      <td>2.0</td>\n",
       "      <td>[\"Refrigerator\", \"Elevator\", \"Paid street park...</td>\n",
       "      <td>586942</td>\n",
       "    </tr>\n",
       "    <tr>\n",
       "      <th>2</th>\n",
       "      <td>218916</td>\n",
       "      <td>https://www.airbnb.com/rooms/218916</td>\n",
       "      <td>Apartment with terrace in trendy Zurenborg</td>\n",
       "      <td>Do you enjoy authentic places with a lot of ch...</td>\n",
       "      <td>51.206330</td>\n",
       "      <td>4.429420</td>\n",
       "      <td>Entire condominium (condo)</td>\n",
       "      <td>Entire home/apt</td>\n",
       "      <td>5</td>\n",
       "      <td>1 bath</td>\n",
       "      <td>1.0</td>\n",
       "      <td>3.0</td>\n",
       "      <td>[\"Paid street parking off premises\", \"Kitchen\"...</td>\n",
       "      <td>915664</td>\n",
       "    </tr>\n",
       "    <tr>\n",
       "      <th>3</th>\n",
       "      <td>224333</td>\n",
       "      <td>https://www.airbnb.com/rooms/224333</td>\n",
       "      <td>Large stylish room in 1930s house + garden</td>\n",
       "      <td>Large bedroom in classic 1930s house. Kitchen,...</td>\n",
       "      <td>51.197720</td>\n",
       "      <td>4.458530</td>\n",
       "      <td>Private room in residential home</td>\n",
       "      <td>Private room</td>\n",
       "      <td>2</td>\n",
       "      <td>2 shared baths</td>\n",
       "      <td>1.0</td>\n",
       "      <td>1.0</td>\n",
       "      <td>[\"Fire extinguisher\", \"Backyard\", \"Long term s...</td>\n",
       "      <td>1167377</td>\n",
       "    </tr>\n",
       "    <tr>\n",
       "      <th>4</th>\n",
       "      <td>224682</td>\n",
       "      <td>https://www.airbnb.com/rooms/224682</td>\n",
       "      <td>APARTMENT ROSCAM - OLD CENTRE ANTWERP</td>\n",
       "      <td>&lt;b&gt;The space&lt;/b&gt;&lt;br /&gt;Apartment \"Roscam\" is a ...</td>\n",
       "      <td>51.217220</td>\n",
       "      <td>4.397900</td>\n",
       "      <td>Entire rental unit</td>\n",
       "      <td>Entire home/apt</td>\n",
       "      <td>3</td>\n",
       "      <td>1 bath</td>\n",
       "      <td>1.0</td>\n",
       "      <td>2.0</td>\n",
       "      <td>[\"Refrigerator\", \"Kitchen\", \"Smoke alarm\", \"Sh...</td>\n",
       "      <td>1263933</td>\n",
       "    </tr>\n",
       "  </tbody>\n",
       "</table>\n",
       "</div>"
      ],
      "text/plain": [
       "   listing_id                          listing_url  \\\n",
       "0       50904   https://www.airbnb.com/rooms/50904   \n",
       "1      116134  https://www.airbnb.com/rooms/116134   \n",
       "2      218916  https://www.airbnb.com/rooms/218916   \n",
       "3      224333  https://www.airbnb.com/rooms/224333   \n",
       "4      224682  https://www.airbnb.com/rooms/224682   \n",
       "\n",
       "                                            name  \\\n",
       "0  aplace/antwerp: cosy suite - fashion district   \n",
       "1                  Spacious apartment nearby Mas   \n",
       "2     Apartment with terrace in trendy Zurenborg   \n",
       "3     Large stylish room in 1930s house + garden   \n",
       "4          APARTMENT ROSCAM - OLD CENTRE ANTWERP   \n",
       "\n",
       "                                         description   latitude  longitude  \\\n",
       "0  Decorated in a vintage style combined with a f...  51.218575   4.398631   \n",
       "1  Enjoy your stay at our 4 person apartment in t...  51.230510   4.405930   \n",
       "2  Do you enjoy authentic places with a lot of ch...  51.206330   4.429420   \n",
       "3  Large bedroom in classic 1930s house. Kitchen,...  51.197720   4.458530   \n",
       "4  <b>The space</b><br />Apartment \"Roscam\" is a ...  51.217220   4.397900   \n",
       "\n",
       "                      property_type        room_type  accomodates  \\\n",
       "0            Room in boutique hotel       Hotel room            2   \n",
       "1                Entire rental unit  Entire home/apt            4   \n",
       "2        Entire condominium (condo)  Entire home/apt            5   \n",
       "3  Private room in residential home     Private room            2   \n",
       "4                Entire rental unit  Entire home/apt            3   \n",
       "\n",
       "   bathrooms_text  bedrooms  beds  \\\n",
       "0  1 private bath       1.0   1.0   \n",
       "1       2.5 baths       2.0   2.0   \n",
       "2          1 bath       1.0   3.0   \n",
       "3  2 shared baths       1.0   1.0   \n",
       "4          1 bath       1.0   2.0   \n",
       "\n",
       "                                           amenities  host_id  \n",
       "0  [\"Kitchen\", \"Smoke alarm\", \"Hair dryer\", \"Keyp...   234077  \n",
       "1  [\"Refrigerator\", \"Elevator\", \"Paid street park...   586942  \n",
       "2  [\"Paid street parking off premises\", \"Kitchen\"...   915664  \n",
       "3  [\"Fire extinguisher\", \"Backyard\", \"Long term s...  1167377  \n",
       "4  [\"Refrigerator\", \"Kitchen\", \"Smoke alarm\", \"Sh...  1263933  "
      ]
     },
     "execution_count": 221,
     "metadata": {},
     "output_type": "execute_result"
    }
   ],
   "source": [
    "df_listings.head()"
   ]
  },
  {
   "cell_type": "code",
   "execution_count": 222,
   "id": "eab85988",
   "metadata": {},
   "outputs": [
    {
     "data": {
      "text/plain": [
       "<AxesSubplot:>"
      ]
     },
     "execution_count": 222,
     "metadata": {},
     "output_type": "execute_result"
    },
    {
     "data": {
      "image/png": "[encoded data removed]",
      "text/plain": [
       "<Figure size 432x288 with 1 Axes>"
      ]
     },
     "metadata": {
      "needs_background": "light"
     },
     "output_type": "display_data"
    }
   ],
   "source": [
    "df_listings.isna().sum().plot(kind='bar')"
   ]
  },
  {
   "cell_type": "code",
   "execution_count": 223,
   "id": "25389dfa",
   "metadata": {},
   "outputs": [
    {
     "data": {
      "text/plain": [
       "(1749, 14)"
      ]
     },
     "execution_count": 223,
     "metadata": {},
     "output_type": "execute_result"
    }
   ],
   "source": [
    "df_listings.shape"
   ]
  },
  {
   "cell_type": "markdown",
   "id": "7053bed1",
   "metadata": {},
   "source": [
    "#### df_reviews"
   ]
  },
  {
   "cell_type": "code",
   "execution_count": 224,
   "id": "d9ad5a8a",
   "metadata": {},
   "outputs": [
    {
     "data": {
      "text/html": [
       "<div>\n",
       "<style scoped>\n",
       "    .dataframe tbody tr th:only-of-type {\n",
       "        vertical-align: middle;\n",
       "    }\n",
       "\n",
       "    .dataframe tbody tr th {\n",
       "        vertical-align: top;\n",
       "    }\n",
       "\n",
       "    .dataframe thead th {\n",
       "        text-align: right;\n",
       "    }\n",
       "</style>\n",
       "<table border=\"1\" class=\"dataframe\">\n",
       "  <thead>\n",
       "    <tr style=\"text-align: right;\">\n",
       "      <th></th>\n",
       "      <th>review_id</th>\n",
       "      <th>listing_id</th>\n",
       "      <th>date</th>\n",
       "      <th>reviewer_id</th>\n",
       "      <th>reviewer_name</th>\n",
       "      <th>comments</th>\n",
       "    </tr>\n",
       "  </thead>\n",
       "  <tbody>\n",
       "    <tr>\n",
       "      <th>0</th>\n",
       "      <td>1</td>\n",
       "      <td>50904</td>\n",
       "      <td>2015-05-06</td>\n",
       "      <td>19482395</td>\n",
       "      <td>Jihae</td>\n",
       "      <td>Karin’s “Aplace” is absolutely beautiful and c...</td>\n",
       "    </tr>\n",
       "    <tr>\n",
       "      <th>1</th>\n",
       "      <td>2</td>\n",
       "      <td>50904</td>\n",
       "      <td>2021-10-10</td>\n",
       "      <td>333559</td>\n",
       "      <td>Emilie</td>\n",
       "      <td>Karin is a wonderful host, she was really help...</td>\n",
       "    </tr>\n",
       "    <tr>\n",
       "      <th>2</th>\n",
       "      <td>3</td>\n",
       "      <td>116134</td>\n",
       "      <td>2012-03-05</td>\n",
       "      <td>928644</td>\n",
       "      <td>Aurélien</td>\n",
       "      <td>Amazing flat, really close from the MAS Musem,...</td>\n",
       "    </tr>\n",
       "    <tr>\n",
       "      <th>3</th>\n",
       "      <td>4</td>\n",
       "      <td>116134</td>\n",
       "      <td>2012-05-25</td>\n",
       "      <td>231288</td>\n",
       "      <td>Gail</td>\n",
       "      <td>This is a well equipped, very comfortable apar...</td>\n",
       "    </tr>\n",
       "    <tr>\n",
       "      <th>4</th>\n",
       "      <td>5</td>\n",
       "      <td>116134</td>\n",
       "      <td>2013-09-03</td>\n",
       "      <td>7984251</td>\n",
       "      <td>Marcel</td>\n",
       "      <td>This is a very nice appartement. We really lik...</td>\n",
       "    </tr>\n",
       "  </tbody>\n",
       "</table>\n",
       "</div>"
      ],
      "text/plain": [
       "   review_id  listing_id       date  reviewer_id reviewer_name  \\\n",
       "0          1       50904 2015-05-06     19482395         Jihae   \n",
       "1          2       50904 2021-10-10       333559        Emilie   \n",
       "2          3      116134 2012-03-05       928644      Aurélien   \n",
       "3          4      116134 2012-05-25       231288          Gail   \n",
       "4          5      116134 2013-09-03      7984251        Marcel   \n",
       "\n",
       "                                            comments  \n",
       "0  Karin’s “Aplace” is absolutely beautiful and c...  \n",
       "1  Karin is a wonderful host, she was really help...  \n",
       "2  Amazing flat, really close from the MAS Musem,...  \n",
       "3  This is a well equipped, very comfortable apar...  \n",
       "4  This is a very nice appartement. We really lik...  "
      ]
     },
     "execution_count": 224,
     "metadata": {},
     "output_type": "execute_result"
    }
   ],
   "source": [
    "df_reviews.head()"
   ]
  },
  {
   "cell_type": "code",
   "execution_count": 225,
   "id": "a5248532",
   "metadata": {},
   "outputs": [
    {
     "data": {
      "text/plain": [
       "<AxesSubplot:>"
      ]
     },
     "execution_count": 225,
     "metadata": {},
     "output_type": "execute_result"
    },
    {
     "data": {
      "image/png": "[encoded data removed]",
      "text/plain": [
       "<Figure size 432x288 with 1 Axes>"
      ]
     },
     "metadata": {
      "needs_background": "light"
     },
     "output_type": "display_data"
    }
   ],
   "source": [
    "df_reviews.isna().sum().plot(kind='bar')"
   ]
  },
  {
   "cell_type": "code",
   "execution_count": 226,
   "id": "c15ccc30",
   "metadata": {},
   "outputs": [
    {
     "data": {
      "text/plain": [
       "(62987, 6)"
      ]
     },
     "execution_count": 226,
     "metadata": {},
     "output_type": "execute_result"
    }
   ],
   "source": [
    "df_reviews.shape"
   ]
  },
  {
   "cell_type": "markdown",
   "id": "9526ed0b",
   "metadata": {},
   "source": [
    "#### df_hosts"
   ]
  },
  {
   "cell_type": "code",
   "execution_count": 227,
   "id": "3e0fd3cb",
   "metadata": {},
   "outputs": [
    {
     "data": {
      "text/html": [
       "<div>\n",
       "<style scoped>\n",
       "    .dataframe tbody tr th:only-of-type {\n",
       "        vertical-align: middle;\n",
       "    }\n",
       "\n",
       "    .dataframe tbody tr th {\n",
       "        vertical-align: top;\n",
       "    }\n",
       "\n",
       "    .dataframe thead th {\n",
       "        text-align: right;\n",
       "    }\n",
       "</style>\n",
       "<table border=\"1\" class=\"dataframe\">\n",
       "  <thead>\n",
       "    <tr style=\"text-align: right;\">\n",
       "      <th></th>\n",
       "      <th>host_id</th>\n",
       "      <th>host_name</th>\n",
       "      <th>host_since</th>\n",
       "      <th>host_location</th>\n",
       "      <th>host_about</th>\n",
       "    </tr>\n",
       "  </thead>\n",
       "  <tbody>\n",
       "    <tr>\n",
       "      <th>0</th>\n",
       "      <td>234077</td>\n",
       "      <td>Karin</td>\n",
       "      <td>2010-09-14</td>\n",
       "      <td>Antwerp, Flanders, Belgium</td>\n",
       "      <td>Ever since my childhood I dreamt of having my ...</td>\n",
       "    </tr>\n",
       "    <tr>\n",
       "      <th>1</th>\n",
       "      <td>334804</td>\n",
       "      <td>Ann</td>\n",
       "      <td>2011-01-04</td>\n",
       "      <td>Antwerp, Flemish Region, Belgium</td>\n",
       "      <td>Ciao, \\r\\nlooking forward to meet you!\\r\\nI lo...</td>\n",
       "    </tr>\n",
       "    <tr>\n",
       "      <th>2</th>\n",
       "      <td>413052</td>\n",
       "      <td>Valérie</td>\n",
       "      <td>2011-02-27</td>\n",
       "      <td>Antwerp, Flanders, Belgium</td>\n",
       "      <td>None</td>\n",
       "    </tr>\n",
       "    <tr>\n",
       "      <th>3</th>\n",
       "      <td>452791</td>\n",
       "      <td>Tatiana</td>\n",
       "      <td>2011-03-20</td>\n",
       "      <td>Antwerp, Flanders, Belgium</td>\n",
       "      <td>World traveler with a penchant for adrenaline ...</td>\n",
       "    </tr>\n",
       "    <tr>\n",
       "      <th>4</th>\n",
       "      <td>462975</td>\n",
       "      <td>Els</td>\n",
       "      <td>2011-03-25</td>\n",
       "      <td>Edegem, Flanders, Belgium</td>\n",
       "      <td>I studied languages and cultural anthropology ...</td>\n",
       "    </tr>\n",
       "  </tbody>\n",
       "</table>\n",
       "</div>"
      ],
      "text/plain": [
       "   host_id host_name host_since                     host_location  \\\n",
       "0   234077     Karin 2010-09-14        Antwerp, Flanders, Belgium   \n",
       "1   334804       Ann 2011-01-04  Antwerp, Flemish Region, Belgium   \n",
       "2   413052   Valérie 2011-02-27        Antwerp, Flanders, Belgium   \n",
       "3   452791   Tatiana 2011-03-20        Antwerp, Flanders, Belgium   \n",
       "4   462975       Els 2011-03-25         Edegem, Flanders, Belgium   \n",
       "\n",
       "                                          host_about  \n",
       "0  Ever since my childhood I dreamt of having my ...  \n",
       "1  Ciao, \\r\\nlooking forward to meet you!\\r\\nI lo...  \n",
       "2                                               None  \n",
       "3  World traveler with a penchant for adrenaline ...  \n",
       "4  I studied languages and cultural anthropology ...  "
      ]
     },
     "execution_count": 227,
     "metadata": {},
     "output_type": "execute_result"
    }
   ],
   "source": [
    "df_hosts.head()"
   ]
  },
  {
   "cell_type": "code",
   "execution_count": 228,
   "id": "85f9b033",
   "metadata": {},
   "outputs": [
    {
     "data": {
      "text/plain": [
       "<AxesSubplot:>"
      ]
     },
     "execution_count": 228,
     "metadata": {},
     "output_type": "execute_result"
    },
    {
     "data": {
      "image/png": "[encoded data removed]",
      "text/plain": [
       "<Figure size 432x288 with 1 Axes>"
      ]
     },
     "metadata": {
      "needs_background": "light"
     },
     "output_type": "display_data"
    }
   ],
   "source": [
    "df_hosts.isna().sum().plot(kind='bar')"
   ]
  },
  {
   "cell_type": "code",
   "execution_count": 229,
   "id": "453063cc",
   "metadata": {},
   "outputs": [
    {
     "data": {
      "text/plain": [
       "(1111, 5)"
      ]
     },
     "execution_count": 229,
     "metadata": {},
     "output_type": "execute_result"
    }
   ],
   "source": [
    "df_hosts.shape"
   ]
  },
  {
   "cell_type": "markdown",
   "id": "711e7079",
   "metadata": {},
   "source": [
    "#### df_calendar"
   ]
  },
  {
   "cell_type": "code",
   "execution_count": 230,
   "id": "23957ae9",
   "metadata": {},
   "outputs": [
    {
     "data": {
      "text/html": [
       "<div>\n",
       "<style scoped>\n",
       "    .dataframe tbody tr th:only-of-type {\n",
       "        vertical-align: middle;\n",
       "    }\n",
       "\n",
       "    .dataframe tbody tr th {\n",
       "        vertical-align: top;\n",
       "    }\n",
       "\n",
       "    .dataframe thead th {\n",
       "        text-align: right;\n",
       "    }\n",
       "</style>\n",
       "<table border=\"1\" class=\"dataframe\">\n",
       "  <thead>\n",
       "    <tr style=\"text-align: right;\">\n",
       "      <th></th>\n",
       "      <th>calender_id</th>\n",
       "      <th>listing_id</th>\n",
       "      <th>date</th>\n",
       "      <th>available</th>\n",
       "      <th>price</th>\n",
       "      <th>adjusted_price</th>\n",
       "      <th>minimum_nights</th>\n",
       "      <th>maximum_nights</th>\n",
       "    </tr>\n",
       "  </thead>\n",
       "  <tbody>\n",
       "    <tr>\n",
       "      <th>0</th>\n",
       "      <td>1</td>\n",
       "      <td>40334325</td>\n",
       "      <td>2022-08-03</td>\n",
       "      <td>False</td>\n",
       "      <td>56.0</td>\n",
       "      <td>56.0</td>\n",
       "      <td>3</td>\n",
       "      <td>5</td>\n",
       "    </tr>\n",
       "    <tr>\n",
       "      <th>1</th>\n",
       "      <td>2</td>\n",
       "      <td>22742449</td>\n",
       "      <td>2022-11-13</td>\n",
       "      <td>True</td>\n",
       "      <td>95.0</td>\n",
       "      <td>95.0</td>\n",
       "      <td>2</td>\n",
       "      <td>99</td>\n",
       "    </tr>\n",
       "    <tr>\n",
       "      <th>2</th>\n",
       "      <td>3</td>\n",
       "      <td>34621717</td>\n",
       "      <td>2022-04-17</td>\n",
       "      <td>False</td>\n",
       "      <td>75.0</td>\n",
       "      <td>75.0</td>\n",
       "      <td>2</td>\n",
       "      <td>1125</td>\n",
       "    </tr>\n",
       "    <tr>\n",
       "      <th>3</th>\n",
       "      <td>4</td>\n",
       "      <td>38281744</td>\n",
       "      <td>2022-01-31</td>\n",
       "      <td>True</td>\n",
       "      <td>150.0</td>\n",
       "      <td>150.0</td>\n",
       "      <td>1</td>\n",
       "      <td>1000</td>\n",
       "    </tr>\n",
       "    <tr>\n",
       "      <th>4</th>\n",
       "      <td>5</td>\n",
       "      <td>18835003</td>\n",
       "      <td>2022-05-21</td>\n",
       "      <td>False</td>\n",
       "      <td>100.0</td>\n",
       "      <td>100.0</td>\n",
       "      <td>2</td>\n",
       "      <td>1125</td>\n",
       "    </tr>\n",
       "  </tbody>\n",
       "</table>\n",
       "</div>"
      ],
      "text/plain": [
       "   calender_id  listing_id       date  available  price  adjusted_price  \\\n",
       "0            1    40334325 2022-08-03      False   56.0            56.0   \n",
       "1            2    22742449 2022-11-13       True   95.0            95.0   \n",
       "2            3    34621717 2022-04-17      False   75.0            75.0   \n",
       "3            4    38281744 2022-01-31       True  150.0           150.0   \n",
       "4            5    18835003 2022-05-21      False  100.0           100.0   \n",
       "\n",
       "   minimum_nights  maximum_nights  \n",
       "0               3               5  \n",
       "1               2              99  \n",
       "2               2            1125  \n",
       "3               1            1000  \n",
       "4               2            1125  "
      ]
     },
     "execution_count": 230,
     "metadata": {},
     "output_type": "execute_result"
    }
   ],
   "source": [
    "df_calendar.head()"
   ]
  },
  {
   "cell_type": "code",
   "execution_count": 231,
   "id": "f66c33f4",
   "metadata": {},
   "outputs": [
    {
     "data": {
      "text/plain": [
       "<AxesSubplot:>"
      ]
     },
     "execution_count": 231,
     "metadata": {},
     "output_type": "execute_result"
    },
    {
     "data": {
      "image/png": "[encoded data removed]",
      "text/plain": [
       "<Figure size 432x288 with 1 Axes>"
      ]
     },
     "metadata": {
      "needs_background": "light"
     },
     "output_type": "display_data"
    }
   ],
   "source": [
    "df_calendar.isna().sum().plot(kind='bar')"
   ]
  },
  {
   "cell_type": "code",
   "execution_count": 232,
   "id": "7d205df4",
   "metadata": {},
   "outputs": [
    {
     "data": {
      "text/plain": [
       "(319192, 8)"
      ]
     },
     "execution_count": 232,
     "metadata": {},
     "output_type": "execute_result"
    }
   ],
   "source": [
    "df_calendar.shape"
   ]
  },
  {
   "cell_type": "markdown",
   "id": "9f1e4214",
   "metadata": {},
   "source": [
    "-------"
   ]
  },
  {
   "cell_type": "code",
   "execution_count": 233,
   "id": "0b67cb86",
   "metadata": {},
   "outputs": [
    {
     "data": {
      "text/plain": [
       "1749"
      ]
     },
     "execution_count": 233,
     "metadata": {},
     "output_type": "execute_result"
    }
   ],
   "source": [
    "df_calendar['listing_id'].nunique()"
   ]
  },
  {
   "cell_type": "markdown",
   "id": "510d0603",
   "metadata": {},
   "source": [
    "## Calendar table\n",
    "As can be seen, with the above dataset is that there are only 1749 unique listings in our dataset, whereas the total number of calendar_id is about 3.2 Lac. Meaning that one listing_id was listed on multiple days. \n",
    "\n",
    "But, for our model to work, what we need is to have one price for every listing_id\n",
    "\n",
    "**To do this, we can follow multiple ways**\n",
    "1. We can just take the mean for every listing_id\n",
    "\n",
    "- But with that approach we do not factor in the recency bias that might have been introduced in the data. The price 5 years ago, is not as relevant today as the price 1 month ago. \n",
    "\n",
    "2. We can take the mean for last couple of months\n",
    "- So if we want to factor in that approach maybe we can take only the average prices of the last 3-5 months. That can be a solution\n",
    "\n",
    "3. You can also take an weighted average\n",
    "- If you would rather not leave the earlier price points out and want to include them all in your average price calculation, you can even take all the price points but give less 'weightage' to the old prices while averaging."
   ]
  },
  {
   "cell_type": "markdown",
   "id": "611ad12b",
   "metadata": {},
   "source": [
    "### Taking average of all values that exist (First approach)"
   ]
  },
  {
   "cell_type": "code",
   "execution_count": 234,
   "id": "1d558b09",
   "metadata": {},
   "outputs": [
    {
     "data": {
      "text/html": [
       "<div>\n",
       "<style scoped>\n",
       "    .dataframe tbody tr th:only-of-type {\n",
       "        vertical-align: middle;\n",
       "    }\n",
       "\n",
       "    .dataframe tbody tr th {\n",
       "        vertical-align: top;\n",
       "    }\n",
       "\n",
       "    .dataframe thead th {\n",
       "        text-align: right;\n",
       "    }\n",
       "</style>\n",
       "<table border=\"1\" class=\"dataframe\">\n",
       "  <thead>\n",
       "    <tr style=\"text-align: right;\">\n",
       "      <th></th>\n",
       "      <th>calender_id</th>\n",
       "      <th>available</th>\n",
       "      <th>price</th>\n",
       "      <th>adjusted_price</th>\n",
       "      <th>minimum_nights</th>\n",
       "      <th>maximum_nights</th>\n",
       "    </tr>\n",
       "    <tr>\n",
       "      <th>listing_id</th>\n",
       "      <th></th>\n",
       "      <th></th>\n",
       "      <th></th>\n",
       "      <th></th>\n",
       "      <th></th>\n",
       "      <th></th>\n",
       "    </tr>\n",
       "  </thead>\n",
       "  <tbody>\n",
       "    <tr>\n",
       "      <th>50904</th>\n",
       "      <td>167467.313187</td>\n",
       "      <td>0.725275</td>\n",
       "      <td>165.329670</td>\n",
       "      <td>160.241758</td>\n",
       "      <td>1.0</td>\n",
       "      <td>60.0</td>\n",
       "    </tr>\n",
       "    <tr>\n",
       "      <th>116134</th>\n",
       "      <td>160630.434146</td>\n",
       "      <td>0.814634</td>\n",
       "      <td>150.000000</td>\n",
       "      <td>150.000000</td>\n",
       "      <td>2.0</td>\n",
       "      <td>1125.0</td>\n",
       "    </tr>\n",
       "    <tr>\n",
       "      <th>218916</th>\n",
       "      <td>168487.049180</td>\n",
       "      <td>0.000000</td>\n",
       "      <td>85.000000</td>\n",
       "      <td>85.000000</td>\n",
       "      <td>1.0</td>\n",
       "      <td>50.0</td>\n",
       "    </tr>\n",
       "    <tr>\n",
       "      <th>224333</th>\n",
       "      <td>162076.883598</td>\n",
       "      <td>0.925926</td>\n",
       "      <td>16.000000</td>\n",
       "      <td>16.000000</td>\n",
       "      <td>14.0</td>\n",
       "      <td>365.0</td>\n",
       "    </tr>\n",
       "    <tr>\n",
       "      <th>224682</th>\n",
       "      <td>154916.494318</td>\n",
       "      <td>0.852273</td>\n",
       "      <td>87.272727</td>\n",
       "      <td>87.272727</td>\n",
       "      <td>2.0</td>\n",
       "      <td>30.0</td>\n",
       "    </tr>\n",
       "    <tr>\n",
       "      <th>...</th>\n",
       "      <td>...</td>\n",
       "      <td>...</td>\n",
       "      <td>...</td>\n",
       "      <td>...</td>\n",
       "      <td>...</td>\n",
       "      <td>...</td>\n",
       "    </tr>\n",
       "    <tr>\n",
       "      <th>53916524</th>\n",
       "      <td>162814.806763</td>\n",
       "      <td>0.937198</td>\n",
       "      <td>88.000000</td>\n",
       "      <td>88.000000</td>\n",
       "      <td>3.0</td>\n",
       "      <td>365.0</td>\n",
       "    </tr>\n",
       "    <tr>\n",
       "      <th>53928545</th>\n",
       "      <td>145458.251282</td>\n",
       "      <td>1.000000</td>\n",
       "      <td>49.000000</td>\n",
       "      <td>49.000000</td>\n",
       "      <td>20.0</td>\n",
       "      <td>1125.0</td>\n",
       "    </tr>\n",
       "    <tr>\n",
       "      <th>53929354</th>\n",
       "      <td>165054.617143</td>\n",
       "      <td>0.988571</td>\n",
       "      <td>90.000000</td>\n",
       "      <td>90.000000</td>\n",
       "      <td>1.0</td>\n",
       "      <td>365.0</td>\n",
       "    </tr>\n",
       "    <tr>\n",
       "      <th>53949105</th>\n",
       "      <td>154555.357143</td>\n",
       "      <td>0.846154</td>\n",
       "      <td>990.000000</td>\n",
       "      <td>990.000000</td>\n",
       "      <td>2.0</td>\n",
       "      <td>1125.0</td>\n",
       "    </tr>\n",
       "    <tr>\n",
       "      <th>53983318</th>\n",
       "      <td>164151.270115</td>\n",
       "      <td>0.988506</td>\n",
       "      <td>150.000000</td>\n",
       "      <td>150.000000</td>\n",
       "      <td>3.0</td>\n",
       "      <td>365.0</td>\n",
       "    </tr>\n",
       "  </tbody>\n",
       "</table>\n",
       "<p>1749 rows × 6 columns</p>\n",
       "</div>"
      ],
      "text/plain": [
       "              calender_id  available       price  adjusted_price  \\\n",
       "listing_id                                                         \n",
       "50904       167467.313187   0.725275  165.329670      160.241758   \n",
       "116134      160630.434146   0.814634  150.000000      150.000000   \n",
       "218916      168487.049180   0.000000   85.000000       85.000000   \n",
       "224333      162076.883598   0.925926   16.000000       16.000000   \n",
       "224682      154916.494318   0.852273   87.272727       87.272727   \n",
       "...                   ...        ...         ...             ...   \n",
       "53916524    162814.806763   0.937198   88.000000       88.000000   \n",
       "53928545    145458.251282   1.000000   49.000000       49.000000   \n",
       "53929354    165054.617143   0.988571   90.000000       90.000000   \n",
       "53949105    154555.357143   0.846154  990.000000      990.000000   \n",
       "53983318    164151.270115   0.988506  150.000000      150.000000   \n",
       "\n",
       "            minimum_nights  maximum_nights  \n",
       "listing_id                                  \n",
       "50904                  1.0            60.0  \n",
       "116134                 2.0          1125.0  \n",
       "218916                 1.0            50.0  \n",
       "224333                14.0           365.0  \n",
       "224682                 2.0            30.0  \n",
       "...                    ...             ...  \n",
       "53916524               3.0           365.0  \n",
       "53928545              20.0          1125.0  \n",
       "53929354               1.0           365.0  \n",
       "53949105               2.0          1125.0  \n",
       "53983318               3.0           365.0  \n",
       "\n",
       "[1749 rows x 6 columns]"
      ]
     },
     "execution_count": 234,
     "metadata": {},
     "output_type": "execute_result"
    }
   ],
   "source": [
    "df_calendar.groupby('listing_id').mean()"
   ]
  },
  {
   "cell_type": "markdown",
   "id": "71832fe9",
   "metadata": {},
   "source": [
    "### The last price approach"
   ]
  },
  {
   "cell_type": "code",
   "execution_count": 235,
   "id": "df9a7199",
   "metadata": {},
   "outputs": [
    {
     "data": {
      "text/html": [
       "<div>\n",
       "<style scoped>\n",
       "    .dataframe tbody tr th:only-of-type {\n",
       "        vertical-align: middle;\n",
       "    }\n",
       "\n",
       "    .dataframe tbody tr th {\n",
       "        vertical-align: top;\n",
       "    }\n",
       "\n",
       "    .dataframe thead th {\n",
       "        text-align: right;\n",
       "    }\n",
       "</style>\n",
       "<table border=\"1\" class=\"dataframe\">\n",
       "  <thead>\n",
       "    <tr style=\"text-align: right;\">\n",
       "      <th></th>\n",
       "      <th>calender_id</th>\n",
       "      <th>listing_id</th>\n",
       "      <th>date</th>\n",
       "      <th>available</th>\n",
       "      <th>price</th>\n",
       "      <th>adjusted_price</th>\n",
       "      <th>minimum_nights</th>\n",
       "      <th>maximum_nights</th>\n",
       "    </tr>\n",
       "  </thead>\n",
       "  <tbody>\n",
       "    <tr>\n",
       "      <th>105846</th>\n",
       "      <td>105847</td>\n",
       "      <td>41096855</td>\n",
       "      <td>2022-12-11</td>\n",
       "      <td>True</td>\n",
       "      <td>59.0</td>\n",
       "      <td>59.0</td>\n",
       "      <td>1</td>\n",
       "      <td>21</td>\n",
       "    </tr>\n",
       "    <tr>\n",
       "      <th>2405</th>\n",
       "      <td>2406</td>\n",
       "      <td>33192413</td>\n",
       "      <td>2022-12-15</td>\n",
       "      <td>False</td>\n",
       "      <td>34.0</td>\n",
       "      <td>34.0</td>\n",
       "      <td>1</td>\n",
       "      <td>1125</td>\n",
       "    </tr>\n",
       "    <tr>\n",
       "      <th>54351</th>\n",
       "      <td>54352</td>\n",
       "      <td>53035756</td>\n",
       "      <td>2022-12-15</td>\n",
       "      <td>True</td>\n",
       "      <td>55.0</td>\n",
       "      <td>55.0</td>\n",
       "      <td>1</td>\n",
       "      <td>1125</td>\n",
       "    </tr>\n",
       "    <tr>\n",
       "      <th>198581</th>\n",
       "      <td>198582</td>\n",
       "      <td>39905365</td>\n",
       "      <td>2022-12-16</td>\n",
       "      <td>True</td>\n",
       "      <td>40.0</td>\n",
       "      <td>40.0</td>\n",
       "      <td>13</td>\n",
       "      <td>1125</td>\n",
       "    </tr>\n",
       "    <tr>\n",
       "      <th>179920</th>\n",
       "      <td>179921</td>\n",
       "      <td>35906015</td>\n",
       "      <td>2022-12-16</td>\n",
       "      <td>True</td>\n",
       "      <td>129.0</td>\n",
       "      <td>129.0</td>\n",
       "      <td>1</td>\n",
       "      <td>13</td>\n",
       "    </tr>\n",
       "    <tr>\n",
       "      <th>...</th>\n",
       "      <td>...</td>\n",
       "      <td>...</td>\n",
       "      <td>...</td>\n",
       "      <td>...</td>\n",
       "      <td>...</td>\n",
       "      <td>...</td>\n",
       "      <td>...</td>\n",
       "      <td>...</td>\n",
       "    </tr>\n",
       "    <tr>\n",
       "      <th>196873</th>\n",
       "      <td>196874</td>\n",
       "      <td>38547626</td>\n",
       "      <td>2022-12-25</td>\n",
       "      <td>False</td>\n",
       "      <td>68.0</td>\n",
       "      <td>68.0</td>\n",
       "      <td>2</td>\n",
       "      <td>1125</td>\n",
       "    </tr>\n",
       "    <tr>\n",
       "      <th>115452</th>\n",
       "      <td>115453</td>\n",
       "      <td>12746696</td>\n",
       "      <td>2022-12-25</td>\n",
       "      <td>False</td>\n",
       "      <td>96.0</td>\n",
       "      <td>96.0</td>\n",
       "      <td>2</td>\n",
       "      <td>1125</td>\n",
       "    </tr>\n",
       "    <tr>\n",
       "      <th>253381</th>\n",
       "      <td>253382</td>\n",
       "      <td>51123661</td>\n",
       "      <td>2022-12-25</td>\n",
       "      <td>True</td>\n",
       "      <td>175.0</td>\n",
       "      <td>175.0</td>\n",
       "      <td>1</td>\n",
       "      <td>365</td>\n",
       "    </tr>\n",
       "    <tr>\n",
       "      <th>253370</th>\n",
       "      <td>253371</td>\n",
       "      <td>40628338</td>\n",
       "      <td>2022-12-25</td>\n",
       "      <td>False</td>\n",
       "      <td>80.0</td>\n",
       "      <td>80.0</td>\n",
       "      <td>1</td>\n",
       "      <td>1125</td>\n",
       "    </tr>\n",
       "    <tr>\n",
       "      <th>314793</th>\n",
       "      <td>314794</td>\n",
       "      <td>53913084</td>\n",
       "      <td>2022-12-25</td>\n",
       "      <td>True</td>\n",
       "      <td>358.0</td>\n",
       "      <td>358.0</td>\n",
       "      <td>7</td>\n",
       "      <td>28</td>\n",
       "    </tr>\n",
       "  </tbody>\n",
       "</table>\n",
       "<p>1749 rows × 8 columns</p>\n",
       "</div>"
      ],
      "text/plain": [
       "        calender_id  listing_id       date  available  price  adjusted_price  \\\n",
       "105846       105847    41096855 2022-12-11       True   59.0            59.0   \n",
       "2405           2406    33192413 2022-12-15      False   34.0            34.0   \n",
       "54351         54352    53035756 2022-12-15       True   55.0            55.0   \n",
       "198581       198582    39905365 2022-12-16       True   40.0            40.0   \n",
       "179920       179921    35906015 2022-12-16       True  129.0           129.0   \n",
       "...             ...         ...        ...        ...    ...             ...   \n",
       "196873       196874    38547626 2022-12-25      False   68.0            68.0   \n",
       "115452       115453    12746696 2022-12-25      False   96.0            96.0   \n",
       "253381       253382    51123661 2022-12-25       True  175.0           175.0   \n",
       "253370       253371    40628338 2022-12-25      False   80.0            80.0   \n",
       "314793       314794    53913084 2022-12-25       True  358.0           358.0   \n",
       "\n",
       "        minimum_nights  maximum_nights  \n",
       "105846               1              21  \n",
       "2405                 1            1125  \n",
       "54351                1            1125  \n",
       "198581              13            1125  \n",
       "179920               1              13  \n",
       "...                ...             ...  \n",
       "196873               2            1125  \n",
       "115452               2            1125  \n",
       "253381               1             365  \n",
       "253370               1            1125  \n",
       "314793               7              28  \n",
       "\n",
       "[1749 rows x 8 columns]"
      ]
     },
     "execution_count": 235,
     "metadata": {},
     "output_type": "execute_result"
    }
   ],
   "source": [
    "df_calendar.sort_values('date').groupby('listing_id').tail(1)"
   ]
  },
  {
   "cell_type": "markdown",
   "id": "9dc6fe06",
   "metadata": {},
   "source": [
    "### The last 3 values sorted by date.\n",
    "\n",
    "We are taking the last 3 prices when the property was listed, you can take last 2,4. This is upto you. Here i am taking the last 3 listed prices per listing_id"
   ]
  },
  {
   "cell_type": "code",
   "execution_count": 236,
   "id": "09f81aec",
   "metadata": {},
   "outputs": [
    {
     "data": {
      "text/html": [
       "<div>\n",
       "<style scoped>\n",
       "    .dataframe tbody tr th:only-of-type {\n",
       "        vertical-align: middle;\n",
       "    }\n",
       "\n",
       "    .dataframe tbody tr th {\n",
       "        vertical-align: top;\n",
       "    }\n",
       "\n",
       "    .dataframe thead th {\n",
       "        text-align: right;\n",
       "    }\n",
       "</style>\n",
       "<table border=\"1\" class=\"dataframe\">\n",
       "  <thead>\n",
       "    <tr style=\"text-align: right;\">\n",
       "      <th></th>\n",
       "      <th>calender_id</th>\n",
       "      <th>listing_id</th>\n",
       "      <th>date</th>\n",
       "      <th>available</th>\n",
       "      <th>price</th>\n",
       "      <th>adjusted_price</th>\n",
       "      <th>minimum_nights</th>\n",
       "      <th>maximum_nights</th>\n",
       "    </tr>\n",
       "  </thead>\n",
       "  <tbody>\n",
       "    <tr>\n",
       "      <th>277844</th>\n",
       "      <td>277845</td>\n",
       "      <td>33414044</td>\n",
       "      <td>2022-12-05</td>\n",
       "      <td>True</td>\n",
       "      <td>116.0</td>\n",
       "      <td>116.0</td>\n",
       "      <td>2</td>\n",
       "      <td>1125</td>\n",
       "    </tr>\n",
       "    <tr>\n",
       "      <th>21839</th>\n",
       "      <td>21840</td>\n",
       "      <td>33192413</td>\n",
       "      <td>2022-12-06</td>\n",
       "      <td>False</td>\n",
       "      <td>34.0</td>\n",
       "      <td>34.0</td>\n",
       "      <td>1</td>\n",
       "      <td>1125</td>\n",
       "    </tr>\n",
       "    <tr>\n",
       "      <th>312912</th>\n",
       "      <td>312913</td>\n",
       "      <td>33192413</td>\n",
       "      <td>2022-12-07</td>\n",
       "      <td>False</td>\n",
       "      <td>34.0</td>\n",
       "      <td>34.0</td>\n",
       "      <td>1</td>\n",
       "      <td>1125</td>\n",
       "    </tr>\n",
       "    <tr>\n",
       "      <th>217570</th>\n",
       "      <td>217571</td>\n",
       "      <td>33414044</td>\n",
       "      <td>2022-12-07</td>\n",
       "      <td>True</td>\n",
       "      <td>116.0</td>\n",
       "      <td>116.0</td>\n",
       "      <td>2</td>\n",
       "      <td>1125</td>\n",
       "    </tr>\n",
       "    <tr>\n",
       "      <th>171392</th>\n",
       "      <td>171393</td>\n",
       "      <td>33716554</td>\n",
       "      <td>2022-12-08</td>\n",
       "      <td>False</td>\n",
       "      <td>75.0</td>\n",
       "      <td>75.0</td>\n",
       "      <td>2</td>\n",
       "      <td>1125</td>\n",
       "    </tr>\n",
       "    <tr>\n",
       "      <th>...</th>\n",
       "      <td>...</td>\n",
       "      <td>...</td>\n",
       "      <td>...</td>\n",
       "      <td>...</td>\n",
       "      <td>...</td>\n",
       "      <td>...</td>\n",
       "      <td>...</td>\n",
       "      <td>...</td>\n",
       "    </tr>\n",
       "    <tr>\n",
       "      <th>196873</th>\n",
       "      <td>196874</td>\n",
       "      <td>38547626</td>\n",
       "      <td>2022-12-25</td>\n",
       "      <td>False</td>\n",
       "      <td>68.0</td>\n",
       "      <td>68.0</td>\n",
       "      <td>2</td>\n",
       "      <td>1125</td>\n",
       "    </tr>\n",
       "    <tr>\n",
       "      <th>115452</th>\n",
       "      <td>115453</td>\n",
       "      <td>12746696</td>\n",
       "      <td>2022-12-25</td>\n",
       "      <td>False</td>\n",
       "      <td>96.0</td>\n",
       "      <td>96.0</td>\n",
       "      <td>2</td>\n",
       "      <td>1125</td>\n",
       "    </tr>\n",
       "    <tr>\n",
       "      <th>253381</th>\n",
       "      <td>253382</td>\n",
       "      <td>51123661</td>\n",
       "      <td>2022-12-25</td>\n",
       "      <td>True</td>\n",
       "      <td>175.0</td>\n",
       "      <td>175.0</td>\n",
       "      <td>1</td>\n",
       "      <td>365</td>\n",
       "    </tr>\n",
       "    <tr>\n",
       "      <th>253370</th>\n",
       "      <td>253371</td>\n",
       "      <td>40628338</td>\n",
       "      <td>2022-12-25</td>\n",
       "      <td>False</td>\n",
       "      <td>80.0</td>\n",
       "      <td>80.0</td>\n",
       "      <td>1</td>\n",
       "      <td>1125</td>\n",
       "    </tr>\n",
       "    <tr>\n",
       "      <th>314793</th>\n",
       "      <td>314794</td>\n",
       "      <td>53913084</td>\n",
       "      <td>2022-12-25</td>\n",
       "      <td>True</td>\n",
       "      <td>358.0</td>\n",
       "      <td>358.0</td>\n",
       "      <td>7</td>\n",
       "      <td>28</td>\n",
       "    </tr>\n",
       "  </tbody>\n",
       "</table>\n",
       "<p>5247 rows × 8 columns</p>\n",
       "</div>"
      ],
      "text/plain": [
       "        calender_id  listing_id       date  available  price  adjusted_price  \\\n",
       "277844       277845    33414044 2022-12-05       True  116.0           116.0   \n",
       "21839         21840    33192413 2022-12-06      False   34.0            34.0   \n",
       "312912       312913    33192413 2022-12-07      False   34.0            34.0   \n",
       "217570       217571    33414044 2022-12-07       True  116.0           116.0   \n",
       "171392       171393    33716554 2022-12-08      False   75.0            75.0   \n",
       "...             ...         ...        ...        ...    ...             ...   \n",
       "196873       196874    38547626 2022-12-25      False   68.0            68.0   \n",
       "115452       115453    12746696 2022-12-25      False   96.0            96.0   \n",
       "253381       253382    51123661 2022-12-25       True  175.0           175.0   \n",
       "253370       253371    40628338 2022-12-25      False   80.0            80.0   \n",
       "314793       314794    53913084 2022-12-25       True  358.0           358.0   \n",
       "\n",
       "        minimum_nights  maximum_nights  \n",
       "277844               2            1125  \n",
       "21839                1            1125  \n",
       "312912               1            1125  \n",
       "217570               2            1125  \n",
       "171392               2            1125  \n",
       "...                ...             ...  \n",
       "196873               2            1125  \n",
       "115452               2            1125  \n",
       "253381               1             365  \n",
       "253370               1            1125  \n",
       "314793               7              28  \n",
       "\n",
       "[5247 rows x 8 columns]"
      ]
     },
     "execution_count": 236,
     "metadata": {},
     "output_type": "execute_result"
    }
   ],
   "source": [
    "df_calendar.sort_values('date').groupby('listing_id').tail(3)"
   ]
  },
  {
   "cell_type": "code",
   "execution_count": 237,
   "id": "1bad2df6",
   "metadata": {},
   "outputs": [],
   "source": [
    "# The last 3 values sorted by date\n",
    "df_calendar_last_3 = df_calendar.sort_values('date').groupby('listing_id').tail(3)"
   ]
  },
  {
   "cell_type": "code",
   "execution_count": 238,
   "id": "6614441e",
   "metadata": {},
   "outputs": [
    {
     "data": {
      "text/html": [
       "<div>\n",
       "<style scoped>\n",
       "    .dataframe tbody tr th:only-of-type {\n",
       "        vertical-align: middle;\n",
       "    }\n",
       "\n",
       "    .dataframe tbody tr th {\n",
       "        vertical-align: top;\n",
       "    }\n",
       "\n",
       "    .dataframe thead th {\n",
       "        text-align: right;\n",
       "    }\n",
       "</style>\n",
       "<table border=\"1\" class=\"dataframe\">\n",
       "  <thead>\n",
       "    <tr style=\"text-align: right;\">\n",
       "      <th></th>\n",
       "      <th>calender_id</th>\n",
       "      <th>listing_id</th>\n",
       "      <th>date</th>\n",
       "      <th>available</th>\n",
       "      <th>price</th>\n",
       "      <th>adjusted_price</th>\n",
       "      <th>minimum_nights</th>\n",
       "      <th>maximum_nights</th>\n",
       "    </tr>\n",
       "  </thead>\n",
       "  <tbody>\n",
       "    <tr>\n",
       "      <th>277844</th>\n",
       "      <td>277845</td>\n",
       "      <td>33414044</td>\n",
       "      <td>2022-12-05</td>\n",
       "      <td>True</td>\n",
       "      <td>116.0</td>\n",
       "      <td>116.0</td>\n",
       "      <td>2</td>\n",
       "      <td>1125</td>\n",
       "    </tr>\n",
       "    <tr>\n",
       "      <th>21839</th>\n",
       "      <td>21840</td>\n",
       "      <td>33192413</td>\n",
       "      <td>2022-12-06</td>\n",
       "      <td>False</td>\n",
       "      <td>34.0</td>\n",
       "      <td>34.0</td>\n",
       "      <td>1</td>\n",
       "      <td>1125</td>\n",
       "    </tr>\n",
       "    <tr>\n",
       "      <th>312912</th>\n",
       "      <td>312913</td>\n",
       "      <td>33192413</td>\n",
       "      <td>2022-12-07</td>\n",
       "      <td>False</td>\n",
       "      <td>34.0</td>\n",
       "      <td>34.0</td>\n",
       "      <td>1</td>\n",
       "      <td>1125</td>\n",
       "    </tr>\n",
       "    <tr>\n",
       "      <th>217570</th>\n",
       "      <td>217571</td>\n",
       "      <td>33414044</td>\n",
       "      <td>2022-12-07</td>\n",
       "      <td>True</td>\n",
       "      <td>116.0</td>\n",
       "      <td>116.0</td>\n",
       "      <td>2</td>\n",
       "      <td>1125</td>\n",
       "    </tr>\n",
       "    <tr>\n",
       "      <th>171392</th>\n",
       "      <td>171393</td>\n",
       "      <td>33716554</td>\n",
       "      <td>2022-12-08</td>\n",
       "      <td>False</td>\n",
       "      <td>75.0</td>\n",
       "      <td>75.0</td>\n",
       "      <td>2</td>\n",
       "      <td>1125</td>\n",
       "    </tr>\n",
       "    <tr>\n",
       "      <th>...</th>\n",
       "      <td>...</td>\n",
       "      <td>...</td>\n",
       "      <td>...</td>\n",
       "      <td>...</td>\n",
       "      <td>...</td>\n",
       "      <td>...</td>\n",
       "      <td>...</td>\n",
       "      <td>...</td>\n",
       "    </tr>\n",
       "    <tr>\n",
       "      <th>196873</th>\n",
       "      <td>196874</td>\n",
       "      <td>38547626</td>\n",
       "      <td>2022-12-25</td>\n",
       "      <td>False</td>\n",
       "      <td>68.0</td>\n",
       "      <td>68.0</td>\n",
       "      <td>2</td>\n",
       "      <td>1125</td>\n",
       "    </tr>\n",
       "    <tr>\n",
       "      <th>115452</th>\n",
       "      <td>115453</td>\n",
       "      <td>12746696</td>\n",
       "      <td>2022-12-25</td>\n",
       "      <td>False</td>\n",
       "      <td>96.0</td>\n",
       "      <td>96.0</td>\n",
       "      <td>2</td>\n",
       "      <td>1125</td>\n",
       "    </tr>\n",
       "    <tr>\n",
       "      <th>253381</th>\n",
       "      <td>253382</td>\n",
       "      <td>51123661</td>\n",
       "      <td>2022-12-25</td>\n",
       "      <td>True</td>\n",
       "      <td>175.0</td>\n",
       "      <td>175.0</td>\n",
       "      <td>1</td>\n",
       "      <td>365</td>\n",
       "    </tr>\n",
       "    <tr>\n",
       "      <th>253370</th>\n",
       "      <td>253371</td>\n",
       "      <td>40628338</td>\n",
       "      <td>2022-12-25</td>\n",
       "      <td>False</td>\n",
       "      <td>80.0</td>\n",
       "      <td>80.0</td>\n",
       "      <td>1</td>\n",
       "      <td>1125</td>\n",
       "    </tr>\n",
       "    <tr>\n",
       "      <th>314793</th>\n",
       "      <td>314794</td>\n",
       "      <td>53913084</td>\n",
       "      <td>2022-12-25</td>\n",
       "      <td>True</td>\n",
       "      <td>358.0</td>\n",
       "      <td>358.0</td>\n",
       "      <td>7</td>\n",
       "      <td>28</td>\n",
       "    </tr>\n",
       "  </tbody>\n",
       "</table>\n",
       "<p>5247 rows × 8 columns</p>\n",
       "</div>"
      ],
      "text/plain": [
       "        calender_id  listing_id       date  available  price  adjusted_price  \\\n",
       "277844       277845    33414044 2022-12-05       True  116.0           116.0   \n",
       "21839         21840    33192413 2022-12-06      False   34.0            34.0   \n",
       "312912       312913    33192413 2022-12-07      False   34.0            34.0   \n",
       "217570       217571    33414044 2022-12-07       True  116.0           116.0   \n",
       "171392       171393    33716554 2022-12-08      False   75.0            75.0   \n",
       "...             ...         ...        ...        ...    ...             ...   \n",
       "196873       196874    38547626 2022-12-25      False   68.0            68.0   \n",
       "115452       115453    12746696 2022-12-25      False   96.0            96.0   \n",
       "253381       253382    51123661 2022-12-25       True  175.0           175.0   \n",
       "253370       253371    40628338 2022-12-25      False   80.0            80.0   \n",
       "314793       314794    53913084 2022-12-25       True  358.0           358.0   \n",
       "\n",
       "        minimum_nights  maximum_nights  \n",
       "277844               2            1125  \n",
       "21839                1            1125  \n",
       "312912               1            1125  \n",
       "217570               2            1125  \n",
       "171392               2            1125  \n",
       "...                ...             ...  \n",
       "196873               2            1125  \n",
       "115452               2            1125  \n",
       "253381               1             365  \n",
       "253370               1            1125  \n",
       "314793               7              28  \n",
       "\n",
       "[5247 rows x 8 columns]"
      ]
     },
     "execution_count": 238,
     "metadata": {},
     "output_type": "execute_result"
    }
   ],
   "source": [
    "df_calendar_last_3"
   ]
  },
  {
   "cell_type": "markdown",
   "id": "9aab5386",
   "metadata": {},
   "source": [
    "### Checking if it worked the way we intended it to."
   ]
  },
  {
   "cell_type": "code",
   "execution_count": 239,
   "id": "78dfd8ca",
   "metadata": {},
   "outputs": [
    {
     "data": {
      "text/html": [
       "<div>\n",
       "<style scoped>\n",
       "    .dataframe tbody tr th:only-of-type {\n",
       "        vertical-align: middle;\n",
       "    }\n",
       "\n",
       "    .dataframe tbody tr th {\n",
       "        vertical-align: top;\n",
       "    }\n",
       "\n",
       "    .dataframe thead th {\n",
       "        text-align: right;\n",
       "    }\n",
       "</style>\n",
       "<table border=\"1\" class=\"dataframe\">\n",
       "  <thead>\n",
       "    <tr style=\"text-align: right;\">\n",
       "      <th></th>\n",
       "      <th>calender_id</th>\n",
       "      <th>listing_id</th>\n",
       "      <th>date</th>\n",
       "      <th>available</th>\n",
       "      <th>price</th>\n",
       "      <th>adjusted_price</th>\n",
       "      <th>minimum_nights</th>\n",
       "      <th>maximum_nights</th>\n",
       "    </tr>\n",
       "  </thead>\n",
       "  <tbody>\n",
       "    <tr>\n",
       "      <th>266494</th>\n",
       "      <td>266495</td>\n",
       "      <td>40628338</td>\n",
       "      <td>2022-12-22</td>\n",
       "      <td>False</td>\n",
       "      <td>80.0</td>\n",
       "      <td>80.0</td>\n",
       "      <td>1</td>\n",
       "      <td>1125</td>\n",
       "    </tr>\n",
       "    <tr>\n",
       "      <th>136278</th>\n",
       "      <td>136279</td>\n",
       "      <td>40628338</td>\n",
       "      <td>2022-12-23</td>\n",
       "      <td>False</td>\n",
       "      <td>80.0</td>\n",
       "      <td>80.0</td>\n",
       "      <td>2</td>\n",
       "      <td>1125</td>\n",
       "    </tr>\n",
       "    <tr>\n",
       "      <th>253370</th>\n",
       "      <td>253371</td>\n",
       "      <td>40628338</td>\n",
       "      <td>2022-12-25</td>\n",
       "      <td>False</td>\n",
       "      <td>80.0</td>\n",
       "      <td>80.0</td>\n",
       "      <td>1</td>\n",
       "      <td>1125</td>\n",
       "    </tr>\n",
       "  </tbody>\n",
       "</table>\n",
       "</div>"
      ],
      "text/plain": [
       "        calender_id  listing_id       date  available  price  adjusted_price  \\\n",
       "266494       266495    40628338 2022-12-22      False   80.0            80.0   \n",
       "136278       136279    40628338 2022-12-23      False   80.0            80.0   \n",
       "253370       253371    40628338 2022-12-25      False   80.0            80.0   \n",
       "\n",
       "        minimum_nights  maximum_nights  \n",
       "266494               1            1125  \n",
       "136278               2            1125  \n",
       "253370               1            1125  "
      ]
     },
     "execution_count": 239,
     "metadata": {},
     "output_type": "execute_result"
    }
   ],
   "source": [
    "df_calendar_last_3[df_calendar_last_3['listing_id'] == 40628338]"
   ]
  },
  {
   "cell_type": "markdown",
   "id": "b027746d",
   "metadata": {},
   "source": [
    "#### As we can see for a particular listing_id we are only fetching the last 3 rows sorted by date\n",
    "\n",
    "Now, for this session i am going to use the last 3 prices as my final table, this is subjective, you may do otherwise if you wish to."
   ]
  },
  {
   "cell_type": "code",
   "execution_count": 240,
   "id": "3deed4c3",
   "metadata": {},
   "outputs": [
    {
     "data": {
      "text/html": [
       "<div>\n",
       "<style scoped>\n",
       "    .dataframe tbody tr th:only-of-type {\n",
       "        vertical-align: middle;\n",
       "    }\n",
       "\n",
       "    .dataframe tbody tr th {\n",
       "        vertical-align: top;\n",
       "    }\n",
       "\n",
       "    .dataframe thead th {\n",
       "        text-align: right;\n",
       "    }\n",
       "</style>\n",
       "<table border=\"1\" class=\"dataframe\">\n",
       "  <thead>\n",
       "    <tr style=\"text-align: right;\">\n",
       "      <th></th>\n",
       "      <th>calender_id</th>\n",
       "      <th>listing_id</th>\n",
       "      <th>date</th>\n",
       "      <th>available</th>\n",
       "      <th>price</th>\n",
       "      <th>adjusted_price</th>\n",
       "      <th>minimum_nights</th>\n",
       "      <th>maximum_nights</th>\n",
       "    </tr>\n",
       "  </thead>\n",
       "  <tbody>\n",
       "    <tr>\n",
       "      <th>277844</th>\n",
       "      <td>277845</td>\n",
       "      <td>33414044</td>\n",
       "      <td>2022-12-05</td>\n",
       "      <td>True</td>\n",
       "      <td>116.0</td>\n",
       "      <td>116.0</td>\n",
       "      <td>2</td>\n",
       "      <td>1125</td>\n",
       "    </tr>\n",
       "    <tr>\n",
       "      <th>21839</th>\n",
       "      <td>21840</td>\n",
       "      <td>33192413</td>\n",
       "      <td>2022-12-06</td>\n",
       "      <td>False</td>\n",
       "      <td>34.0</td>\n",
       "      <td>34.0</td>\n",
       "      <td>1</td>\n",
       "      <td>1125</td>\n",
       "    </tr>\n",
       "    <tr>\n",
       "      <th>312912</th>\n",
       "      <td>312913</td>\n",
       "      <td>33192413</td>\n",
       "      <td>2022-12-07</td>\n",
       "      <td>False</td>\n",
       "      <td>34.0</td>\n",
       "      <td>34.0</td>\n",
       "      <td>1</td>\n",
       "      <td>1125</td>\n",
       "    </tr>\n",
       "    <tr>\n",
       "      <th>217570</th>\n",
       "      <td>217571</td>\n",
       "      <td>33414044</td>\n",
       "      <td>2022-12-07</td>\n",
       "      <td>True</td>\n",
       "      <td>116.0</td>\n",
       "      <td>116.0</td>\n",
       "      <td>2</td>\n",
       "      <td>1125</td>\n",
       "    </tr>\n",
       "    <tr>\n",
       "      <th>171392</th>\n",
       "      <td>171393</td>\n",
       "      <td>33716554</td>\n",
       "      <td>2022-12-08</td>\n",
       "      <td>False</td>\n",
       "      <td>75.0</td>\n",
       "      <td>75.0</td>\n",
       "      <td>2</td>\n",
       "      <td>1125</td>\n",
       "    </tr>\n",
       "  </tbody>\n",
       "</table>\n",
       "</div>"
      ],
      "text/plain": [
       "        calender_id  listing_id       date  available  price  adjusted_price  \\\n",
       "277844       277845    33414044 2022-12-05       True  116.0           116.0   \n",
       "21839         21840    33192413 2022-12-06      False   34.0            34.0   \n",
       "312912       312913    33192413 2022-12-07      False   34.0            34.0   \n",
       "217570       217571    33414044 2022-12-07       True  116.0           116.0   \n",
       "171392       171393    33716554 2022-12-08      False   75.0            75.0   \n",
       "\n",
       "        minimum_nights  maximum_nights  \n",
       "277844               2            1125  \n",
       "21839                1            1125  \n",
       "312912               1            1125  \n",
       "217570               2            1125  \n",
       "171392               2            1125  "
      ]
     },
     "execution_count": 240,
     "metadata": {},
     "output_type": "execute_result"
    }
   ],
   "source": [
    "df_calendar_last_3.head()"
   ]
  },
  {
   "cell_type": "code",
   "execution_count": 241,
   "id": "2718606b",
   "metadata": {},
   "outputs": [],
   "source": [
    "df_calendar_last_3.reset_index(level=0, inplace=True)"
   ]
  },
  {
   "cell_type": "code",
   "execution_count": 242,
   "id": "5a7d6ad8",
   "metadata": {},
   "outputs": [
    {
     "data": {
      "text/html": [
       "<div>\n",
       "<style scoped>\n",
       "    .dataframe tbody tr th:only-of-type {\n",
       "        vertical-align: middle;\n",
       "    }\n",
       "\n",
       "    .dataframe tbody tr th {\n",
       "        vertical-align: top;\n",
       "    }\n",
       "\n",
       "    .dataframe thead th {\n",
       "        text-align: right;\n",
       "    }\n",
       "</style>\n",
       "<table border=\"1\" class=\"dataframe\">\n",
       "  <thead>\n",
       "    <tr style=\"text-align: right;\">\n",
       "      <th></th>\n",
       "      <th>calender_id</th>\n",
       "      <th>listing_id</th>\n",
       "      <th>date</th>\n",
       "      <th>available</th>\n",
       "      <th>price</th>\n",
       "      <th>adjusted_price</th>\n",
       "      <th>minimum_nights</th>\n",
       "      <th>maximum_nights</th>\n",
       "    </tr>\n",
       "  </thead>\n",
       "  <tbody>\n",
       "    <tr>\n",
       "      <th>0</th>\n",
       "      <td>277845</td>\n",
       "      <td>33414044</td>\n",
       "      <td>2022-12-05</td>\n",
       "      <td>True</td>\n",
       "      <td>116.0</td>\n",
       "      <td>116.0</td>\n",
       "      <td>2</td>\n",
       "      <td>1125</td>\n",
       "    </tr>\n",
       "    <tr>\n",
       "      <th>1</th>\n",
       "      <td>21840</td>\n",
       "      <td>33192413</td>\n",
       "      <td>2022-12-06</td>\n",
       "      <td>False</td>\n",
       "      <td>34.0</td>\n",
       "      <td>34.0</td>\n",
       "      <td>1</td>\n",
       "      <td>1125</td>\n",
       "    </tr>\n",
       "    <tr>\n",
       "      <th>2</th>\n",
       "      <td>312913</td>\n",
       "      <td>33192413</td>\n",
       "      <td>2022-12-07</td>\n",
       "      <td>False</td>\n",
       "      <td>34.0</td>\n",
       "      <td>34.0</td>\n",
       "      <td>1</td>\n",
       "      <td>1125</td>\n",
       "    </tr>\n",
       "    <tr>\n",
       "      <th>3</th>\n",
       "      <td>217571</td>\n",
       "      <td>33414044</td>\n",
       "      <td>2022-12-07</td>\n",
       "      <td>True</td>\n",
       "      <td>116.0</td>\n",
       "      <td>116.0</td>\n",
       "      <td>2</td>\n",
       "      <td>1125</td>\n",
       "    </tr>\n",
       "    <tr>\n",
       "      <th>4</th>\n",
       "      <td>171393</td>\n",
       "      <td>33716554</td>\n",
       "      <td>2022-12-08</td>\n",
       "      <td>False</td>\n",
       "      <td>75.0</td>\n",
       "      <td>75.0</td>\n",
       "      <td>2</td>\n",
       "      <td>1125</td>\n",
       "    </tr>\n",
       "    <tr>\n",
       "      <th>...</th>\n",
       "      <td>...</td>\n",
       "      <td>...</td>\n",
       "      <td>...</td>\n",
       "      <td>...</td>\n",
       "      <td>...</td>\n",
       "      <td>...</td>\n",
       "      <td>...</td>\n",
       "      <td>...</td>\n",
       "    </tr>\n",
       "    <tr>\n",
       "      <th>5242</th>\n",
       "      <td>196874</td>\n",
       "      <td>38547626</td>\n",
       "      <td>2022-12-25</td>\n",
       "      <td>False</td>\n",
       "      <td>68.0</td>\n",
       "      <td>68.0</td>\n",
       "      <td>2</td>\n",
       "      <td>1125</td>\n",
       "    </tr>\n",
       "    <tr>\n",
       "      <th>5243</th>\n",
       "      <td>115453</td>\n",
       "      <td>12746696</td>\n",
       "      <td>2022-12-25</td>\n",
       "      <td>False</td>\n",
       "      <td>96.0</td>\n",
       "      <td>96.0</td>\n",
       "      <td>2</td>\n",
       "      <td>1125</td>\n",
       "    </tr>\n",
       "    <tr>\n",
       "      <th>5244</th>\n",
       "      <td>253382</td>\n",
       "      <td>51123661</td>\n",
       "      <td>2022-12-25</td>\n",
       "      <td>True</td>\n",
       "      <td>175.0</td>\n",
       "      <td>175.0</td>\n",
       "      <td>1</td>\n",
       "      <td>365</td>\n",
       "    </tr>\n",
       "    <tr>\n",
       "      <th>5245</th>\n",
       "      <td>253371</td>\n",
       "      <td>40628338</td>\n",
       "      <td>2022-12-25</td>\n",
       "      <td>False</td>\n",
       "      <td>80.0</td>\n",
       "      <td>80.0</td>\n",
       "      <td>1</td>\n",
       "      <td>1125</td>\n",
       "    </tr>\n",
       "    <tr>\n",
       "      <th>5246</th>\n",
       "      <td>314794</td>\n",
       "      <td>53913084</td>\n",
       "      <td>2022-12-25</td>\n",
       "      <td>True</td>\n",
       "      <td>358.0</td>\n",
       "      <td>358.0</td>\n",
       "      <td>7</td>\n",
       "      <td>28</td>\n",
       "    </tr>\n",
       "  </tbody>\n",
       "</table>\n",
       "<p>5247 rows × 8 columns</p>\n",
       "</div>"
      ],
      "text/plain": [
       "      calender_id  listing_id       date  available  price  adjusted_price  \\\n",
       "0          277845    33414044 2022-12-05       True  116.0           116.0   \n",
       "1           21840    33192413 2022-12-06      False   34.0            34.0   \n",
       "2          312913    33192413 2022-12-07      False   34.0            34.0   \n",
       "3          217571    33414044 2022-12-07       True  116.0           116.0   \n",
       "4          171393    33716554 2022-12-08      False   75.0            75.0   \n",
       "...           ...         ...        ...        ...    ...             ...   \n",
       "5242       196874    38547626 2022-12-25      False   68.0            68.0   \n",
       "5243       115453    12746696 2022-12-25      False   96.0            96.0   \n",
       "5244       253382    51123661 2022-12-25       True  175.0           175.0   \n",
       "5245       253371    40628338 2022-12-25      False   80.0            80.0   \n",
       "5246       314794    53913084 2022-12-25       True  358.0           358.0   \n",
       "\n",
       "      minimum_nights  maximum_nights  \n",
       "0                  2            1125  \n",
       "1                  1            1125  \n",
       "2                  1            1125  \n",
       "3                  2            1125  \n",
       "4                  2            1125  \n",
       "...              ...             ...  \n",
       "5242               2            1125  \n",
       "5243               2            1125  \n",
       "5244               1             365  \n",
       "5245               1            1125  \n",
       "5246               7              28  \n",
       "\n",
       "[5247 rows x 8 columns]"
      ]
     },
     "execution_count": 242,
     "metadata": {},
     "output_type": "execute_result"
    }
   ],
   "source": [
    "# Dropping the extra index column\n",
    "df_calendar_last_3.drop(['index'],axis=1)"
   ]
  },
  {
   "cell_type": "code",
   "execution_count": 243,
   "id": "1f2b424c",
   "metadata": {},
   "outputs": [
    {
     "data": {
      "text/html": [
       "<div>\n",
       "<style scoped>\n",
       "    .dataframe tbody tr th:only-of-type {\n",
       "        vertical-align: middle;\n",
       "    }\n",
       "\n",
       "    .dataframe tbody tr th {\n",
       "        vertical-align: top;\n",
       "    }\n",
       "\n",
       "    .dataframe thead th {\n",
       "        text-align: right;\n",
       "    }\n",
       "</style>\n",
       "<table border=\"1\" class=\"dataframe\">\n",
       "  <thead>\n",
       "    <tr style=\"text-align: right;\">\n",
       "      <th></th>\n",
       "      <th>index</th>\n",
       "      <th>calender_id</th>\n",
       "      <th>listing_id</th>\n",
       "      <th>date</th>\n",
       "      <th>available</th>\n",
       "      <th>price</th>\n",
       "      <th>adjusted_price</th>\n",
       "      <th>minimum_nights</th>\n",
       "      <th>maximum_nights</th>\n",
       "    </tr>\n",
       "  </thead>\n",
       "  <tbody>\n",
       "    <tr>\n",
       "      <th>0</th>\n",
       "      <td>277844</td>\n",
       "      <td>277845</td>\n",
       "      <td>33414044</td>\n",
       "      <td>2022-12-05</td>\n",
       "      <td>True</td>\n",
       "      <td>116.0</td>\n",
       "      <td>116.0</td>\n",
       "      <td>2</td>\n",
       "      <td>1125</td>\n",
       "    </tr>\n",
       "    <tr>\n",
       "      <th>1</th>\n",
       "      <td>21839</td>\n",
       "      <td>21840</td>\n",
       "      <td>33192413</td>\n",
       "      <td>2022-12-06</td>\n",
       "      <td>False</td>\n",
       "      <td>34.0</td>\n",
       "      <td>34.0</td>\n",
       "      <td>1</td>\n",
       "      <td>1125</td>\n",
       "    </tr>\n",
       "    <tr>\n",
       "      <th>2</th>\n",
       "      <td>312912</td>\n",
       "      <td>312913</td>\n",
       "      <td>33192413</td>\n",
       "      <td>2022-12-07</td>\n",
       "      <td>False</td>\n",
       "      <td>34.0</td>\n",
       "      <td>34.0</td>\n",
       "      <td>1</td>\n",
       "      <td>1125</td>\n",
       "    </tr>\n",
       "    <tr>\n",
       "      <th>3</th>\n",
       "      <td>217570</td>\n",
       "      <td>217571</td>\n",
       "      <td>33414044</td>\n",
       "      <td>2022-12-07</td>\n",
       "      <td>True</td>\n",
       "      <td>116.0</td>\n",
       "      <td>116.0</td>\n",
       "      <td>2</td>\n",
       "      <td>1125</td>\n",
       "    </tr>\n",
       "    <tr>\n",
       "      <th>4</th>\n",
       "      <td>171392</td>\n",
       "      <td>171393</td>\n",
       "      <td>33716554</td>\n",
       "      <td>2022-12-08</td>\n",
       "      <td>False</td>\n",
       "      <td>75.0</td>\n",
       "      <td>75.0</td>\n",
       "      <td>2</td>\n",
       "      <td>1125</td>\n",
       "    </tr>\n",
       "  </tbody>\n",
       "</table>\n",
       "</div>"
      ],
      "text/plain": [
       "    index  calender_id  listing_id       date  available  price  \\\n",
       "0  277844       277845    33414044 2022-12-05       True  116.0   \n",
       "1   21839        21840    33192413 2022-12-06      False   34.0   \n",
       "2  312912       312913    33192413 2022-12-07      False   34.0   \n",
       "3  217570       217571    33414044 2022-12-07       True  116.0   \n",
       "4  171392       171393    33716554 2022-12-08      False   75.0   \n",
       "\n",
       "   adjusted_price  minimum_nights  maximum_nights  \n",
       "0           116.0               2            1125  \n",
       "1            34.0               1            1125  \n",
       "2            34.0               1            1125  \n",
       "3           116.0               2            1125  \n",
       "4            75.0               2            1125  "
      ]
     },
     "execution_count": 243,
     "metadata": {},
     "output_type": "execute_result"
    }
   ],
   "source": [
    "df_calendar_last_3.head()"
   ]
  },
  {
   "cell_type": "code",
   "execution_count": 244,
   "id": "4c490390",
   "metadata": {},
   "outputs": [
    {
     "data": {
      "text/plain": [
       "<AxesSubplot:>"
      ]
     },
     "execution_count": 244,
     "metadata": {},
     "output_type": "execute_result"
    },
    {
     "data": {
      "image/png": "[encoded data removed]",
      "text/plain": [
       "<Figure size 432x288 with 1 Axes>"
      ]
     },
     "metadata": {
      "needs_background": "light"
     },
     "output_type": "display_data"
    }
   ],
   "source": [
    "df_calendar_last_3.isna().sum().plot(kind='bar')"
   ]
  },
  {
   "cell_type": "code",
   "execution_count": 245,
   "id": "2ea9707c",
   "metadata": {},
   "outputs": [
    {
     "data": {
      "text/html": [
       "<div>\n",
       "<style scoped>\n",
       "    .dataframe tbody tr th:only-of-type {\n",
       "        vertical-align: middle;\n",
       "    }\n",
       "\n",
       "    .dataframe tbody tr th {\n",
       "        vertical-align: top;\n",
       "    }\n",
       "\n",
       "    .dataframe thead th {\n",
       "        text-align: right;\n",
       "    }\n",
       "</style>\n",
       "<table border=\"1\" class=\"dataframe\">\n",
       "  <thead>\n",
       "    <tr style=\"text-align: right;\">\n",
       "      <th></th>\n",
       "      <th>index</th>\n",
       "      <th>calender_id</th>\n",
       "      <th>listing_id</th>\n",
       "      <th>date</th>\n",
       "      <th>available</th>\n",
       "      <th>price</th>\n",
       "      <th>adjusted_price</th>\n",
       "      <th>minimum_nights</th>\n",
       "      <th>maximum_nights</th>\n",
       "    </tr>\n",
       "  </thead>\n",
       "  <tbody>\n",
       "    <tr>\n",
       "      <th>1189</th>\n",
       "      <td>127948</td>\n",
       "      <td>127949</td>\n",
       "      <td>45416364</td>\n",
       "      <td>2022-12-20</td>\n",
       "      <td>False</td>\n",
       "      <td>NaN</td>\n",
       "      <td>NaN</td>\n",
       "      <td>30</td>\n",
       "      <td>1125</td>\n",
       "    </tr>\n",
       "    <tr>\n",
       "      <th>1586</th>\n",
       "      <td>164594</td>\n",
       "      <td>164595</td>\n",
       "      <td>45416364</td>\n",
       "      <td>2022-12-21</td>\n",
       "      <td>False</td>\n",
       "      <td>NaN</td>\n",
       "      <td>NaN</td>\n",
       "      <td>30</td>\n",
       "      <td>1125</td>\n",
       "    </tr>\n",
       "    <tr>\n",
       "      <th>3962</th>\n",
       "      <td>257968</td>\n",
       "      <td>257969</td>\n",
       "      <td>45416364</td>\n",
       "      <td>2022-12-24</td>\n",
       "      <td>False</td>\n",
       "      <td>NaN</td>\n",
       "      <td>NaN</td>\n",
       "      <td>30</td>\n",
       "      <td>1125</td>\n",
       "    </tr>\n",
       "  </tbody>\n",
       "</table>\n",
       "</div>"
      ],
      "text/plain": [
       "       index  calender_id  listing_id       date  available  price  \\\n",
       "1189  127948       127949    45416364 2022-12-20      False    NaN   \n",
       "1586  164594       164595    45416364 2022-12-21      False    NaN   \n",
       "3962  257968       257969    45416364 2022-12-24      False    NaN   \n",
       "\n",
       "      adjusted_price  minimum_nights  maximum_nights  \n",
       "1189             NaN              30            1125  \n",
       "1586             NaN              30            1125  \n",
       "3962             NaN              30            1125  "
      ]
     },
     "execution_count": 245,
     "metadata": {},
     "output_type": "execute_result"
    }
   ],
   "source": [
    "df_calendar_last_3[df_calendar_last_3['price'].isna()]"
   ]
  },
  {
   "cell_type": "markdown",
   "id": "a53f2e89",
   "metadata": {},
   "source": [
    "We have a listing_id, which has no price available, we should drop this id, as we can't model any price for this."
   ]
  },
  {
   "cell_type": "markdown",
   "id": "8ad23512",
   "metadata": {},
   "source": [
    "### Let's drop these rows with empty price, as they will not be useful at all while modeling"
   ]
  },
  {
   "cell_type": "code",
   "execution_count": 246,
   "id": "49bd415c",
   "metadata": {},
   "outputs": [
    {
     "data": {
      "text/plain": [
       "(5247, 9)"
      ]
     },
     "execution_count": 246,
     "metadata": {},
     "output_type": "execute_result"
    }
   ],
   "source": [
    "df_calendar_last_3.shape"
   ]
  },
  {
   "cell_type": "code",
   "execution_count": 247,
   "id": "88a5038e",
   "metadata": {},
   "outputs": [
    {
     "data": {
      "text/plain": [
       "(5244, 9)"
      ]
     },
     "execution_count": 247,
     "metadata": {},
     "output_type": "execute_result"
    }
   ],
   "source": [
    "df_calendar_last_3.dropna().shape"
   ]
  },
  {
   "cell_type": "code",
   "execution_count": 248,
   "id": "418dbf0a",
   "metadata": {},
   "outputs": [],
   "source": [
    "df_calendar_last_3 = df_calendar_last_3.dropna()"
   ]
  },
  {
   "cell_type": "markdown",
   "id": "f08171a2",
   "metadata": {},
   "source": [
    "### Now that for every listing_id we have last 3 values, we can average them into 1."
   ]
  },
  {
   "cell_type": "code",
   "execution_count": 249,
   "id": "bc302603",
   "metadata": {},
   "outputs": [],
   "source": [
    "df_calendar_last_3_mean = df_calendar_last_3.groupby('listing_id').mean()"
   ]
  },
  {
   "cell_type": "code",
   "execution_count": 250,
   "id": "0a1c36bf",
   "metadata": {},
   "outputs": [],
   "source": [
    "df_calendar_last_3_mean.reset_index(level=0, inplace=True)"
   ]
  },
  {
   "cell_type": "code",
   "execution_count": 251,
   "id": "d56222ba",
   "metadata": {},
   "outputs": [
    {
     "data": {
      "text/html": [
       "<div>\n",
       "<style scoped>\n",
       "    .dataframe tbody tr th:only-of-type {\n",
       "        vertical-align: middle;\n",
       "    }\n",
       "\n",
       "    .dataframe tbody tr th {\n",
       "        vertical-align: top;\n",
       "    }\n",
       "\n",
       "    .dataframe thead th {\n",
       "        text-align: right;\n",
       "    }\n",
       "</style>\n",
       "<table border=\"1\" class=\"dataframe\">\n",
       "  <thead>\n",
       "    <tr style=\"text-align: right;\">\n",
       "      <th></th>\n",
       "      <th>listing_id</th>\n",
       "      <th>index</th>\n",
       "      <th>calender_id</th>\n",
       "      <th>available</th>\n",
       "      <th>price</th>\n",
       "      <th>adjusted_price</th>\n",
       "      <th>minimum_nights</th>\n",
       "      <th>maximum_nights</th>\n",
       "    </tr>\n",
       "  </thead>\n",
       "  <tbody>\n",
       "    <tr>\n",
       "      <th>0</th>\n",
       "      <td>50904</td>\n",
       "      <td>166028.333333</td>\n",
       "      <td>166029.333333</td>\n",
       "      <td>0.0</td>\n",
       "      <td>166.666667</td>\n",
       "      <td>158.666667</td>\n",
       "      <td>1.0</td>\n",
       "      <td>60.0</td>\n",
       "    </tr>\n",
       "    <tr>\n",
       "      <th>1</th>\n",
       "      <td>116134</td>\n",
       "      <td>173486.666667</td>\n",
       "      <td>173487.666667</td>\n",
       "      <td>1.0</td>\n",
       "      <td>150.000000</td>\n",
       "      <td>150.000000</td>\n",
       "      <td>2.0</td>\n",
       "      <td>1125.0</td>\n",
       "    </tr>\n",
       "    <tr>\n",
       "      <th>2</th>\n",
       "      <td>218916</td>\n",
       "      <td>163470.333333</td>\n",
       "      <td>163471.333333</td>\n",
       "      <td>0.0</td>\n",
       "      <td>85.000000</td>\n",
       "      <td>85.000000</td>\n",
       "      <td>1.0</td>\n",
       "      <td>50.0</td>\n",
       "    </tr>\n",
       "    <tr>\n",
       "      <th>3</th>\n",
       "      <td>224333</td>\n",
       "      <td>193002.333333</td>\n",
       "      <td>193003.333333</td>\n",
       "      <td>1.0</td>\n",
       "      <td>16.000000</td>\n",
       "      <td>16.000000</td>\n",
       "      <td>14.0</td>\n",
       "      <td>365.0</td>\n",
       "    </tr>\n",
       "    <tr>\n",
       "      <th>4</th>\n",
       "      <td>224682</td>\n",
       "      <td>111237.333333</td>\n",
       "      <td>111238.333333</td>\n",
       "      <td>1.0</td>\n",
       "      <td>85.000000</td>\n",
       "      <td>85.000000</td>\n",
       "      <td>2.0</td>\n",
       "      <td>30.0</td>\n",
       "    </tr>\n",
       "    <tr>\n",
       "      <th>...</th>\n",
       "      <td>...</td>\n",
       "      <td>...</td>\n",
       "      <td>...</td>\n",
       "      <td>...</td>\n",
       "      <td>...</td>\n",
       "      <td>...</td>\n",
       "      <td>...</td>\n",
       "      <td>...</td>\n",
       "    </tr>\n",
       "    <tr>\n",
       "      <th>1743</th>\n",
       "      <td>53916524</td>\n",
       "      <td>65967.000000</td>\n",
       "      <td>65968.000000</td>\n",
       "      <td>1.0</td>\n",
       "      <td>88.000000</td>\n",
       "      <td>88.000000</td>\n",
       "      <td>3.0</td>\n",
       "      <td>365.0</td>\n",
       "    </tr>\n",
       "    <tr>\n",
       "      <th>1744</th>\n",
       "      <td>53928545</td>\n",
       "      <td>120817.666667</td>\n",
       "      <td>120818.666667</td>\n",
       "      <td>1.0</td>\n",
       "      <td>49.000000</td>\n",
       "      <td>49.000000</td>\n",
       "      <td>20.0</td>\n",
       "      <td>1125.0</td>\n",
       "    </tr>\n",
       "    <tr>\n",
       "      <th>1745</th>\n",
       "      <td>53929354</td>\n",
       "      <td>163446.666667</td>\n",
       "      <td>163447.666667</td>\n",
       "      <td>1.0</td>\n",
       "      <td>90.000000</td>\n",
       "      <td>90.000000</td>\n",
       "      <td>1.0</td>\n",
       "      <td>365.0</td>\n",
       "    </tr>\n",
       "    <tr>\n",
       "      <th>1746</th>\n",
       "      <td>53949105</td>\n",
       "      <td>191384.000000</td>\n",
       "      <td>191385.000000</td>\n",
       "      <td>1.0</td>\n",
       "      <td>990.000000</td>\n",
       "      <td>990.000000</td>\n",
       "      <td>2.0</td>\n",
       "      <td>1125.0</td>\n",
       "    </tr>\n",
       "    <tr>\n",
       "      <th>1747</th>\n",
       "      <td>53983318</td>\n",
       "      <td>156373.333333</td>\n",
       "      <td>156374.333333</td>\n",
       "      <td>1.0</td>\n",
       "      <td>150.000000</td>\n",
       "      <td>150.000000</td>\n",
       "      <td>3.0</td>\n",
       "      <td>365.0</td>\n",
       "    </tr>\n",
       "  </tbody>\n",
       "</table>\n",
       "<p>1748 rows × 8 columns</p>\n",
       "</div>"
      ],
      "text/plain": [
       "      listing_id          index    calender_id  available       price  \\\n",
       "0          50904  166028.333333  166029.333333        0.0  166.666667   \n",
       "1         116134  173486.666667  173487.666667        1.0  150.000000   \n",
       "2         218916  163470.333333  163471.333333        0.0   85.000000   \n",
       "3         224333  193002.333333  193003.333333        1.0   16.000000   \n",
       "4         224682  111237.333333  111238.333333        1.0   85.000000   \n",
       "...          ...            ...            ...        ...         ...   \n",
       "1743    53916524   65967.000000   65968.000000        1.0   88.000000   \n",
       "1744    53928545  120817.666667  120818.666667        1.0   49.000000   \n",
       "1745    53929354  163446.666667  163447.666667        1.0   90.000000   \n",
       "1746    53949105  191384.000000  191385.000000        1.0  990.000000   \n",
       "1747    53983318  156373.333333  156374.333333        1.0  150.000000   \n",
       "\n",
       "      adjusted_price  minimum_nights  maximum_nights  \n",
       "0         158.666667             1.0            60.0  \n",
       "1         150.000000             2.0          1125.0  \n",
       "2          85.000000             1.0            50.0  \n",
       "3          16.000000            14.0           365.0  \n",
       "4          85.000000             2.0            30.0  \n",
       "...              ...             ...             ...  \n",
       "1743       88.000000             3.0           365.0  \n",
       "1744       49.000000            20.0          1125.0  \n",
       "1745       90.000000             1.0           365.0  \n",
       "1746      990.000000             2.0          1125.0  \n",
       "1747      150.000000             3.0           365.0  \n",
       "\n",
       "[1748 rows x 8 columns]"
      ]
     },
     "execution_count": 251,
     "metadata": {},
     "output_type": "execute_result"
    }
   ],
   "source": [
    "df_calendar_last_3_mean"
   ]
  },
  {
   "cell_type": "code",
   "execution_count": 252,
   "id": "2e720fc4",
   "metadata": {},
   "outputs": [
    {
     "data": {
      "text/html": [
       "<div>\n",
       "<style scoped>\n",
       "    .dataframe tbody tr th:only-of-type {\n",
       "        vertical-align: middle;\n",
       "    }\n",
       "\n",
       "    .dataframe tbody tr th {\n",
       "        vertical-align: top;\n",
       "    }\n",
       "\n",
       "    .dataframe thead th {\n",
       "        text-align: right;\n",
       "    }\n",
       "</style>\n",
       "<table border=\"1\" class=\"dataframe\">\n",
       "  <thead>\n",
       "    <tr style=\"text-align: right;\">\n",
       "      <th></th>\n",
       "      <th>listing_id</th>\n",
       "      <th>calender_id</th>\n",
       "      <th>available</th>\n",
       "      <th>price</th>\n",
       "      <th>adjusted_price</th>\n",
       "      <th>minimum_nights</th>\n",
       "      <th>maximum_nights</th>\n",
       "    </tr>\n",
       "  </thead>\n",
       "  <tbody>\n",
       "    <tr>\n",
       "      <th>0</th>\n",
       "      <td>50904</td>\n",
       "      <td>166029.333333</td>\n",
       "      <td>0.0</td>\n",
       "      <td>166.666667</td>\n",
       "      <td>158.666667</td>\n",
       "      <td>1.0</td>\n",
       "      <td>60.0</td>\n",
       "    </tr>\n",
       "    <tr>\n",
       "      <th>1</th>\n",
       "      <td>116134</td>\n",
       "      <td>173487.666667</td>\n",
       "      <td>1.0</td>\n",
       "      <td>150.000000</td>\n",
       "      <td>150.000000</td>\n",
       "      <td>2.0</td>\n",
       "      <td>1125.0</td>\n",
       "    </tr>\n",
       "    <tr>\n",
       "      <th>2</th>\n",
       "      <td>218916</td>\n",
       "      <td>163471.333333</td>\n",
       "      <td>0.0</td>\n",
       "      <td>85.000000</td>\n",
       "      <td>85.000000</td>\n",
       "      <td>1.0</td>\n",
       "      <td>50.0</td>\n",
       "    </tr>\n",
       "    <tr>\n",
       "      <th>3</th>\n",
       "      <td>224333</td>\n",
       "      <td>193003.333333</td>\n",
       "      <td>1.0</td>\n",
       "      <td>16.000000</td>\n",
       "      <td>16.000000</td>\n",
       "      <td>14.0</td>\n",
       "      <td>365.0</td>\n",
       "    </tr>\n",
       "    <tr>\n",
       "      <th>4</th>\n",
       "      <td>224682</td>\n",
       "      <td>111238.333333</td>\n",
       "      <td>1.0</td>\n",
       "      <td>85.000000</td>\n",
       "      <td>85.000000</td>\n",
       "      <td>2.0</td>\n",
       "      <td>30.0</td>\n",
       "    </tr>\n",
       "    <tr>\n",
       "      <th>...</th>\n",
       "      <td>...</td>\n",
       "      <td>...</td>\n",
       "      <td>...</td>\n",
       "      <td>...</td>\n",
       "      <td>...</td>\n",
       "      <td>...</td>\n",
       "      <td>...</td>\n",
       "    </tr>\n",
       "    <tr>\n",
       "      <th>1743</th>\n",
       "      <td>53916524</td>\n",
       "      <td>65968.000000</td>\n",
       "      <td>1.0</td>\n",
       "      <td>88.000000</td>\n",
       "      <td>88.000000</td>\n",
       "      <td>3.0</td>\n",
       "      <td>365.0</td>\n",
       "    </tr>\n",
       "    <tr>\n",
       "      <th>1744</th>\n",
       "      <td>53928545</td>\n",
       "      <td>120818.666667</td>\n",
       "      <td>1.0</td>\n",
       "      <td>49.000000</td>\n",
       "      <td>49.000000</td>\n",
       "      <td>20.0</td>\n",
       "      <td>1125.0</td>\n",
       "    </tr>\n",
       "    <tr>\n",
       "      <th>1745</th>\n",
       "      <td>53929354</td>\n",
       "      <td>163447.666667</td>\n",
       "      <td>1.0</td>\n",
       "      <td>90.000000</td>\n",
       "      <td>90.000000</td>\n",
       "      <td>1.0</td>\n",
       "      <td>365.0</td>\n",
       "    </tr>\n",
       "    <tr>\n",
       "      <th>1746</th>\n",
       "      <td>53949105</td>\n",
       "      <td>191385.000000</td>\n",
       "      <td>1.0</td>\n",
       "      <td>990.000000</td>\n",
       "      <td>990.000000</td>\n",
       "      <td>2.0</td>\n",
       "      <td>1125.0</td>\n",
       "    </tr>\n",
       "    <tr>\n",
       "      <th>1747</th>\n",
       "      <td>53983318</td>\n",
       "      <td>156374.333333</td>\n",
       "      <td>1.0</td>\n",
       "      <td>150.000000</td>\n",
       "      <td>150.000000</td>\n",
       "      <td>3.0</td>\n",
       "      <td>365.0</td>\n",
       "    </tr>\n",
       "  </tbody>\n",
       "</table>\n",
       "<p>1748 rows × 7 columns</p>\n",
       "</div>"
      ],
      "text/plain": [
       "      listing_id    calender_id  available       price  adjusted_price  \\\n",
       "0          50904  166029.333333        0.0  166.666667      158.666667   \n",
       "1         116134  173487.666667        1.0  150.000000      150.000000   \n",
       "2         218916  163471.333333        0.0   85.000000       85.000000   \n",
       "3         224333  193003.333333        1.0   16.000000       16.000000   \n",
       "4         224682  111238.333333        1.0   85.000000       85.000000   \n",
       "...          ...            ...        ...         ...             ...   \n",
       "1743    53916524   65968.000000        1.0   88.000000       88.000000   \n",
       "1744    53928545  120818.666667        1.0   49.000000       49.000000   \n",
       "1745    53929354  163447.666667        1.0   90.000000       90.000000   \n",
       "1746    53949105  191385.000000        1.0  990.000000      990.000000   \n",
       "1747    53983318  156374.333333        1.0  150.000000      150.000000   \n",
       "\n",
       "      minimum_nights  maximum_nights  \n",
       "0                1.0            60.0  \n",
       "1                2.0          1125.0  \n",
       "2                1.0            50.0  \n",
       "3               14.0           365.0  \n",
       "4                2.0            30.0  \n",
       "...              ...             ...  \n",
       "1743             3.0           365.0  \n",
       "1744            20.0          1125.0  \n",
       "1745             1.0           365.0  \n",
       "1746             2.0          1125.0  \n",
       "1747             3.0           365.0  \n",
       "\n",
       "[1748 rows x 7 columns]"
      ]
     },
     "execution_count": 252,
     "metadata": {},
     "output_type": "execute_result"
    }
   ],
   "source": [
    "df_calendar_last_3_mean.drop(['index'],axis=1)"
   ]
  },
  {
   "cell_type": "code",
   "execution_count": 253,
   "id": "128b67f3",
   "metadata": {},
   "outputs": [
    {
     "data": {
      "text/plain": [
       "1748"
      ]
     },
     "execution_count": 253,
     "metadata": {},
     "output_type": "execute_result"
    }
   ],
   "source": [
    "df_calendar_last_3_mean['listing_id'].nunique()"
   ]
  },
  {
   "cell_type": "markdown",
   "id": "6b83ca34",
   "metadata": {},
   "source": [
    "As we can see, now we have a new dataframe with 1748 unique listing_id which we wanted and the value for these id's are the mean of the last 3 values sorted by date. The reason we have 1 less listing_id is that we had an listing_id where we did not have any price point."
   ]
  },
  {
   "cell_type": "markdown",
   "id": "fe216fb7",
   "metadata": {},
   "source": [
    "## Now to look at other tables"
   ]
  },
  {
   "cell_type": "markdown",
   "id": "c8522134",
   "metadata": {},
   "source": [
    "### df_hosts"
   ]
  },
  {
   "cell_type": "code",
   "execution_count": 254,
   "id": "b1940905",
   "metadata": {},
   "outputs": [
    {
     "data": {
      "text/html": [
       "<div>\n",
       "<style scoped>\n",
       "    .dataframe tbody tr th:only-of-type {\n",
       "        vertical-align: middle;\n",
       "    }\n",
       "\n",
       "    .dataframe tbody tr th {\n",
       "        vertical-align: top;\n",
       "    }\n",
       "\n",
       "    .dataframe thead th {\n",
       "        text-align: right;\n",
       "    }\n",
       "</style>\n",
       "<table border=\"1\" class=\"dataframe\">\n",
       "  <thead>\n",
       "    <tr style=\"text-align: right;\">\n",
       "      <th></th>\n",
       "      <th>host_id</th>\n",
       "      <th>host_name</th>\n",
       "      <th>host_since</th>\n",
       "      <th>host_location</th>\n",
       "      <th>host_about</th>\n",
       "    </tr>\n",
       "  </thead>\n",
       "  <tbody>\n",
       "    <tr>\n",
       "      <th>0</th>\n",
       "      <td>234077</td>\n",
       "      <td>Karin</td>\n",
       "      <td>2010-09-14</td>\n",
       "      <td>Antwerp, Flanders, Belgium</td>\n",
       "      <td>Ever since my childhood I dreamt of having my ...</td>\n",
       "    </tr>\n",
       "    <tr>\n",
       "      <th>1</th>\n",
       "      <td>334804</td>\n",
       "      <td>Ann</td>\n",
       "      <td>2011-01-04</td>\n",
       "      <td>Antwerp, Flemish Region, Belgium</td>\n",
       "      <td>Ciao, \\r\\nlooking forward to meet you!\\r\\nI lo...</td>\n",
       "    </tr>\n",
       "    <tr>\n",
       "      <th>2</th>\n",
       "      <td>413052</td>\n",
       "      <td>Valérie</td>\n",
       "      <td>2011-02-27</td>\n",
       "      <td>Antwerp, Flanders, Belgium</td>\n",
       "      <td>None</td>\n",
       "    </tr>\n",
       "    <tr>\n",
       "      <th>3</th>\n",
       "      <td>452791</td>\n",
       "      <td>Tatiana</td>\n",
       "      <td>2011-03-20</td>\n",
       "      <td>Antwerp, Flanders, Belgium</td>\n",
       "      <td>World traveler with a penchant for adrenaline ...</td>\n",
       "    </tr>\n",
       "    <tr>\n",
       "      <th>4</th>\n",
       "      <td>462975</td>\n",
       "      <td>Els</td>\n",
       "      <td>2011-03-25</td>\n",
       "      <td>Edegem, Flanders, Belgium</td>\n",
       "      <td>I studied languages and cultural anthropology ...</td>\n",
       "    </tr>\n",
       "  </tbody>\n",
       "</table>\n",
       "</div>"
      ],
      "text/plain": [
       "   host_id host_name host_since                     host_location  \\\n",
       "0   234077     Karin 2010-09-14        Antwerp, Flanders, Belgium   \n",
       "1   334804       Ann 2011-01-04  Antwerp, Flemish Region, Belgium   \n",
       "2   413052   Valérie 2011-02-27        Antwerp, Flanders, Belgium   \n",
       "3   452791   Tatiana 2011-03-20        Antwerp, Flanders, Belgium   \n",
       "4   462975       Els 2011-03-25         Edegem, Flanders, Belgium   \n",
       "\n",
       "                                          host_about  \n",
       "0  Ever since my childhood I dreamt of having my ...  \n",
       "1  Ciao, \\r\\nlooking forward to meet you!\\r\\nI lo...  \n",
       "2                                               None  \n",
       "3  World traveler with a penchant for adrenaline ...  \n",
       "4  I studied languages and cultural anthropology ...  "
      ]
     },
     "execution_count": 254,
     "metadata": {},
     "output_type": "execute_result"
    }
   ],
   "source": [
    "# Let's look at the host table first\n",
    "df_hosts.head()"
   ]
  },
  {
   "cell_type": "code",
   "execution_count": 255,
   "id": "a17787a4",
   "metadata": {},
   "outputs": [
    {
     "data": {
      "text/html": [
       "<div>\n",
       "<style scoped>\n",
       "    .dataframe tbody tr th:only-of-type {\n",
       "        vertical-align: middle;\n",
       "    }\n",
       "\n",
       "    .dataframe tbody tr th {\n",
       "        vertical-align: top;\n",
       "    }\n",
       "\n",
       "    .dataframe thead th {\n",
       "        text-align: right;\n",
       "    }\n",
       "</style>\n",
       "<table border=\"1\" class=\"dataframe\">\n",
       "  <thead>\n",
       "    <tr style=\"text-align: right;\">\n",
       "      <th></th>\n",
       "      <th>host_id</th>\n",
       "    </tr>\n",
       "  </thead>\n",
       "  <tbody>\n",
       "    <tr>\n",
       "      <th>count</th>\n",
       "      <td>1.111000e+03</td>\n",
       "    </tr>\n",
       "    <tr>\n",
       "      <th>mean</th>\n",
       "      <td>1.268568e+08</td>\n",
       "    </tr>\n",
       "    <tr>\n",
       "      <th>std</th>\n",
       "      <td>1.282286e+08</td>\n",
       "    </tr>\n",
       "    <tr>\n",
       "      <th>min</th>\n",
       "      <td>2.340770e+05</td>\n",
       "    </tr>\n",
       "    <tr>\n",
       "      <th>25%</th>\n",
       "      <td>2.361567e+07</td>\n",
       "    </tr>\n",
       "    <tr>\n",
       "      <th>50%</th>\n",
       "      <td>6.618861e+07</td>\n",
       "    </tr>\n",
       "    <tr>\n",
       "      <th>75%</th>\n",
       "      <td>2.143271e+08</td>\n",
       "    </tr>\n",
       "    <tr>\n",
       "      <th>max</th>\n",
       "      <td>4.373093e+08</td>\n",
       "    </tr>\n",
       "  </tbody>\n",
       "</table>\n",
       "</div>"
      ],
      "text/plain": [
       "            host_id\n",
       "count  1.111000e+03\n",
       "mean   1.268568e+08\n",
       "std    1.282286e+08\n",
       "min    2.340770e+05\n",
       "25%    2.361567e+07\n",
       "50%    6.618861e+07\n",
       "75%    2.143271e+08\n",
       "max    4.373093e+08"
      ]
     },
     "execution_count": 255,
     "metadata": {},
     "output_type": "execute_result"
    }
   ],
   "source": [
    "df_hosts.describe()"
   ]
  },
  {
   "cell_type": "code",
   "execution_count": 256,
   "id": "696966d8",
   "metadata": {},
   "outputs": [
    {
     "data": {
      "text/plain": [
       "<AxesSubplot:>"
      ]
     },
     "execution_count": 256,
     "metadata": {},
     "output_type": "execute_result"
    },
    {
     "data": {
      "image/png": "[encoded data removed]",
      "text/plain": [
       "<Figure size 432x288 with 1 Axes>"
      ]
     },
     "metadata": {
      "needs_background": "light"
     },
     "output_type": "display_data"
    }
   ],
   "source": [
    "df_hosts.isna().sum().plot(kind='bar')"
   ]
  },
  {
   "cell_type": "code",
   "execution_count": 257,
   "id": "496817a7",
   "metadata": {},
   "outputs": [
    {
     "data": {
      "text/plain": [
       "(1111, 5)"
      ]
     },
     "execution_count": 257,
     "metadata": {},
     "output_type": "execute_result"
    }
   ],
   "source": [
    "df_hosts.shape\n",
    "# So we have a total of 1111 hosts"
   ]
  },
  {
   "cell_type": "code",
   "execution_count": 258,
   "id": "042d1b3e",
   "metadata": {},
   "outputs": [
    {
     "data": {
      "text/plain": [
       "1111"
      ]
     },
     "execution_count": 258,
     "metadata": {},
     "output_type": "execute_result"
    }
   ],
   "source": [
    "df_hosts['host_id'].nunique()"
   ]
  },
  {
   "cell_type": "markdown",
   "id": "7798fde1",
   "metadata": {},
   "source": [
    "- This also shows us that there are no duplicate values in the host table, this will help us when we are trying to join the tables.\n",
    "- Some of the things that we can think of right of the bat is the host since column, we can create a new column that specifies the total months/years since joining. So, let's do just that"
   ]
  },
  {
   "cell_type": "code",
   "execution_count": 259,
   "id": "0ac076fd",
   "metadata": {},
   "outputs": [],
   "source": [
    "# df_hosts['host_since']"
   ]
  },
  {
   "cell_type": "code",
   "execution_count": 260,
   "id": "288a48b6",
   "metadata": {},
   "outputs": [],
   "source": [
    "# basedate = pd.Timestamp('2022-04-12')\n",
    "# days_since_joined = abs(df_hosts['host_since'] - basedate).dt.days\n",
    "# days_since_joined"
   ]
  },
  {
   "cell_type": "code",
   "execution_count": 261,
   "id": "5b767c9b",
   "metadata": {},
   "outputs": [],
   "source": [
    "# df_hosts['days_since_joined'] = days_since_joined"
   ]
  },
  {
   "cell_type": "code",
   "execution_count": 262,
   "id": "6d270ba5",
   "metadata": {},
   "outputs": [],
   "source": [
    "# sns.kdeplot(df_hosts['days_since_joined'])"
   ]
  },
  {
   "cell_type": "code",
   "execution_count": 263,
   "id": "422c30ca",
   "metadata": {},
   "outputs": [],
   "source": [
    "# for i in df_hosts['host_location'].unique():\n",
    "#     print(i)"
   ]
  },
  {
   "cell_type": "code",
   "execution_count": 264,
   "id": "5866bd4d",
   "metadata": {},
   "outputs": [],
   "source": [
    "# def return_country(x):\n",
    "#     try:\n",
    "#         text_list = x.split(',')\n",
    "#         if len(text_list) == 3:\n",
    "#             return text_list[2]\n",
    "#         else:\n",
    "#             return text_list[0]\n",
    "#     except:\n",
    "#         return None\n",
    "        \n",
    "# def return_state(x):\n",
    "#     try:        \n",
    "#         text_list = x.split(',')\n",
    "#         if len(text_list) == 3:\n",
    "#             return text_list[1]\n",
    "#         else:\n",
    "#             return None\n",
    "#     except:\n",
    "#         return None\n",
    "    \n",
    "# def return_city(x):\n",
    "#     try:        \n",
    "#         text_list = x.split(',')\n",
    "#         if len(text_list) == 3:\n",
    "#             return text_list[0]\n",
    "#         else:\n",
    "#             return None\n",
    "#     except:\n",
    "#         return None"
   ]
  },
  {
   "cell_type": "code",
   "execution_count": 265,
   "id": "4e323d0e",
   "metadata": {},
   "outputs": [],
   "source": [
    "# df_hosts['host_location_country'] = df_hosts['host_location'].apply(return_country)\n",
    "# df_hosts['host_location_state'] = df_hosts['host_location'].apply(return_state)\n",
    "# df_hosts['host_location_city'] = df_hosts['host_location'].apply(return_city)"
   ]
  },
  {
   "cell_type": "code",
   "execution_count": 266,
   "id": "bf9a9277",
   "metadata": {},
   "outputs": [],
   "source": [
    "# df_hosts.head()"
   ]
  },
  {
   "cell_type": "code",
   "execution_count": 267,
   "id": "c552ea32",
   "metadata": {},
   "outputs": [],
   "source": [
    "# df_hosts.groupby('host_location_country').count()"
   ]
  },
  {
   "cell_type": "code",
   "execution_count": 268,
   "id": "b2a64023",
   "metadata": {},
   "outputs": [],
   "source": [
    "# df_hosts['host_location_country'].nunique()"
   ]
  },
  {
   "cell_type": "code",
   "execution_count": 269,
   "id": "2d7b3cad",
   "metadata": {},
   "outputs": [],
   "source": [
    "# country_dic = {\n",
    "#     'The Netherlands': 'Netherlands',\n",
    "#     'Zeeland': 'Netherlands',\n",
    "#     'BE': 'Belgium',\n",
    "#     'Belgium': 'Belgium',\n",
    "#     'België': 'Belgium',\n",
    "#     'DK': 'Denmark',\n",
    "#     'EE': 'Estonia',\n",
    "#     'ES': 'Spain',\n",
    "#     'FR' : 'France',\n",
    "#     'GB': 'United Kingdom',\n",
    "#     'IT': 'Italy',\n",
    "#     'NL': 'Netherlands',\n",
    "#     'TR': 'Turkey',\n",
    "#     'US': 'United States'\n",
    "#     }"
   ]
  },
  {
   "cell_type": "code",
   "execution_count": 270,
   "id": "592a3153",
   "metadata": {},
   "outputs": [],
   "source": [
    "# df_hosts['host_location_country']"
   ]
  },
  {
   "cell_type": "code",
   "execution_count": 271,
   "id": "54b8cc25",
   "metadata": {},
   "outputs": [],
   "source": [
    "# df_hosts['host_location_country'] = df_hosts['host_location_country'].map(country_dic).fillna(df_hosts['host_location_country'])"
   ]
  },
  {
   "cell_type": "code",
   "execution_count": 272,
   "id": "db2f9866",
   "metadata": {},
   "outputs": [],
   "source": [
    "# df_hosts.groupby('host_location_country').count()"
   ]
  },
  {
   "cell_type": "code",
   "execution_count": 273,
   "id": "3ee0ad6f",
   "metadata": {},
   "outputs": [],
   "source": [
    "# df_hosts.head()"
   ]
  },
  {
   "cell_type": "markdown",
   "id": "6aa5adad",
   "metadata": {},
   "source": [
    "# todo - A lot of data cleaning needs to be done here"
   ]
  },
  {
   "cell_type": "markdown",
   "id": "7c59249e",
   "metadata": {},
   "source": [
    "### todo - a nlp layer of sentence embedding with glove/word2vec can be used to give the text a single 300D embedding."
   ]
  },
  {
   "cell_type": "markdown",
   "id": "ccef3753",
   "metadata": {},
   "source": [
    "## df_reviews"
   ]
  },
  {
   "cell_type": "code",
   "execution_count": 274,
   "id": "b1d1e88f",
   "metadata": {},
   "outputs": [
    {
     "data": {
      "text/html": [
       "<div>\n",
       "<style scoped>\n",
       "    .dataframe tbody tr th:only-of-type {\n",
       "        vertical-align: middle;\n",
       "    }\n",
       "\n",
       "    .dataframe tbody tr th {\n",
       "        vertical-align: top;\n",
       "    }\n",
       "\n",
       "    .dataframe thead th {\n",
       "        text-align: right;\n",
       "    }\n",
       "</style>\n",
       "<table border=\"1\" class=\"dataframe\">\n",
       "  <thead>\n",
       "    <tr style=\"text-align: right;\">\n",
       "      <th></th>\n",
       "      <th>review_id</th>\n",
       "      <th>listing_id</th>\n",
       "      <th>date</th>\n",
       "      <th>reviewer_id</th>\n",
       "      <th>reviewer_name</th>\n",
       "      <th>comments</th>\n",
       "    </tr>\n",
       "  </thead>\n",
       "  <tbody>\n",
       "    <tr>\n",
       "      <th>0</th>\n",
       "      <td>1</td>\n",
       "      <td>50904</td>\n",
       "      <td>2015-05-06</td>\n",
       "      <td>19482395</td>\n",
       "      <td>Jihae</td>\n",
       "      <td>Karin’s “Aplace” is absolutely beautiful and c...</td>\n",
       "    </tr>\n",
       "    <tr>\n",
       "      <th>1</th>\n",
       "      <td>2</td>\n",
       "      <td>50904</td>\n",
       "      <td>2021-10-10</td>\n",
       "      <td>333559</td>\n",
       "      <td>Emilie</td>\n",
       "      <td>Karin is a wonderful host, she was really help...</td>\n",
       "    </tr>\n",
       "    <tr>\n",
       "      <th>2</th>\n",
       "      <td>3</td>\n",
       "      <td>116134</td>\n",
       "      <td>2012-03-05</td>\n",
       "      <td>928644</td>\n",
       "      <td>Aurélien</td>\n",
       "      <td>Amazing flat, really close from the MAS Musem,...</td>\n",
       "    </tr>\n",
       "    <tr>\n",
       "      <th>3</th>\n",
       "      <td>4</td>\n",
       "      <td>116134</td>\n",
       "      <td>2012-05-25</td>\n",
       "      <td>231288</td>\n",
       "      <td>Gail</td>\n",
       "      <td>This is a well equipped, very comfortable apar...</td>\n",
       "    </tr>\n",
       "    <tr>\n",
       "      <th>4</th>\n",
       "      <td>5</td>\n",
       "      <td>116134</td>\n",
       "      <td>2013-09-03</td>\n",
       "      <td>7984251</td>\n",
       "      <td>Marcel</td>\n",
       "      <td>This is a very nice appartement. We really lik...</td>\n",
       "    </tr>\n",
       "  </tbody>\n",
       "</table>\n",
       "</div>"
      ],
      "text/plain": [
       "   review_id  listing_id       date  reviewer_id reviewer_name  \\\n",
       "0          1       50904 2015-05-06     19482395         Jihae   \n",
       "1          2       50904 2021-10-10       333559        Emilie   \n",
       "2          3      116134 2012-03-05       928644      Aurélien   \n",
       "3          4      116134 2012-05-25       231288          Gail   \n",
       "4          5      116134 2013-09-03      7984251        Marcel   \n",
       "\n",
       "                                            comments  \n",
       "0  Karin’s “Aplace” is absolutely beautiful and c...  \n",
       "1  Karin is a wonderful host, she was really help...  \n",
       "2  Amazing flat, really close from the MAS Musem,...  \n",
       "3  This is a well equipped, very comfortable apar...  \n",
       "4  This is a very nice appartement. We really lik...  "
      ]
     },
     "execution_count": 274,
     "metadata": {},
     "output_type": "execute_result"
    }
   ],
   "source": [
    "df_reviews.head()"
   ]
  },
  {
   "cell_type": "code",
   "execution_count": 275,
   "id": "ca50d9c3",
   "metadata": {},
   "outputs": [
    {
     "data": {
      "text/plain": [
       "(62987, 6)"
      ]
     },
     "execution_count": 275,
     "metadata": {},
     "output_type": "execute_result"
    }
   ],
   "source": [
    "df_reviews.shape"
   ]
  },
  {
   "cell_type": "code",
   "execution_count": 276,
   "id": "84c4b1ca",
   "metadata": {},
   "outputs": [
    {
     "data": {
      "text/plain": [
       "<AxesSubplot:>"
      ]
     },
     "execution_count": 276,
     "metadata": {},
     "output_type": "execute_result"
    },
    {
     "data": {
      "image/png": "[encoded data removed]",
      "text/plain": [
       "<Figure size 432x288 with 1 Axes>"
      ]
     },
     "metadata": {
      "needs_background": "light"
     },
     "output_type": "display_data"
    }
   ],
   "source": [
    "df_reviews.isna().sum().plot(kind='bar')"
   ]
  },
  {
   "cell_type": "code",
   "execution_count": 277,
   "id": "e8eeac0a",
   "metadata": {},
   "outputs": [
    {
     "data": {
      "text/plain": [
       "listing_id\n",
       "50904         2\n",
       "116134      120\n",
       "218916       28\n",
       "224333        3\n",
       "224682      349\n",
       "           ... \n",
       "53522234      2\n",
       "53538847      1\n",
       "53600839      1\n",
       "53819793      1\n",
       "53825194      2\n",
       "Name: review_id, Length: 1525, dtype: int64"
      ]
     },
     "execution_count": 277,
     "metadata": {},
     "output_type": "execute_result"
    }
   ],
   "source": [
    "df_reviews.groupby('listing_id').count()['review_id']"
   ]
  },
  {
   "cell_type": "markdown",
   "id": "f52a3fdb",
   "metadata": {},
   "source": [
    "We can see that a single listing has multiple reviews, so we will have to somehow reduce it to 1 average/collective review score per listing."
   ]
  },
  {
   "cell_type": "code",
   "execution_count": 278,
   "id": "2661bbb8",
   "metadata": {},
   "outputs": [
    {
     "data": {
      "text/plain": [
       "<AxesSubplot:xlabel='reviewer_id'>"
      ]
     },
     "execution_count": 278,
     "metadata": {},
     "output_type": "execute_result"
    },
    {
     "data": {
      "image/png": "[encoded data removed]",
      "text/plain": [
       "<Figure size 432x288 with 1 Axes>"
      ]
     },
     "metadata": {
      "needs_background": "light"
     },
     "output_type": "display_data"
    }
   ],
   "source": [
    "df_reviews.groupby('reviewer_id').count()['review_id'].sort_values(ascending=False)[:20].plot(kind='bar')"
   ]
  },
  {
   "cell_type": "code",
   "execution_count": 279,
   "id": "12eb0116",
   "metadata": {},
   "outputs": [
    {
     "data": {
      "text/plain": [
       "<AxesSubplot:xlabel='reviewer_id'>"
      ]
     },
     "execution_count": 279,
     "metadata": {},
     "output_type": "execute_result"
    },
    {
     "data": {
      "image/png": "[encoded data removed]",
      "text/plain": [
       "<Figure size 432x288 with 1 Axes>"
      ]
     },
     "metadata": {
      "needs_background": "light"
     },
     "output_type": "display_data"
    }
   ],
   "source": [
    "df_reviews.groupby('reviewer_id').count()['review_id'].sort_values(ascending=True)[:20].plot(kind='bar')"
   ]
  },
  {
   "cell_type": "code",
   "execution_count": 280,
   "id": "3b1baff0",
   "metadata": {},
   "outputs": [
    {
     "data": {
      "text/plain": [
       "count    58438.000000\n",
       "mean         1.077843\n",
       "std          0.459807\n",
       "min          1.000000\n",
       "25%          1.000000\n",
       "50%          1.000000\n",
       "75%          1.000000\n",
       "max         23.000000\n",
       "Name: review_id, dtype: float64"
      ]
     },
     "execution_count": 280,
     "metadata": {},
     "output_type": "execute_result"
    }
   ],
   "source": [
    "df_reviews.groupby('reviewer_id').count()['review_id'].describe()"
   ]
  },
  {
   "cell_type": "markdown",
   "id": "4ac6d4b5",
   "metadata": {},
   "source": [
    "Most of reviewers are unique, which is good as this means that not a few people were spamming reviews but rather different people reviewed different listings which is good for the authenticity of the data."
   ]
  },
  {
   "cell_type": "code",
   "execution_count": 281,
   "id": "0bf93a66",
   "metadata": {},
   "outputs": [
    {
     "data": {
      "text/plain": [
       "count    1525.000000\n",
       "mean       41.302951\n",
       "std        64.773986\n",
       "min         1.000000\n",
       "25%         5.000000\n",
       "50%        17.000000\n",
       "75%        47.000000\n",
       "max       648.000000\n",
       "Name: review_id, dtype: float64"
      ]
     },
     "execution_count": 281,
     "metadata": {},
     "output_type": "execute_result"
    }
   ],
   "source": [
    "df_reviews.groupby('listing_id').count()['review_id'].describe()"
   ]
  },
  {
   "cell_type": "code",
   "execution_count": 282,
   "id": "d2bf8643",
   "metadata": {},
   "outputs": [
    {
     "data": {
      "text/plain": [
       "<AxesSubplot:xlabel='listing_id'>"
      ]
     },
     "execution_count": 282,
     "metadata": {},
     "output_type": "execute_result"
    },
    {
     "data": {
      "image/png": "[encoded data removed]",
      "text/plain": [
       "<Figure size 432x288 with 1 Axes>"
      ]
     },
     "metadata": {
      "needs_background": "light"
     },
     "output_type": "display_data"
    }
   ],
   "source": [
    "df_reviews.groupby('listing_id').count()['review_id'].sort_values(ascending=False)[:20].plot(kind='bar')"
   ]
  },
  {
   "cell_type": "code",
   "execution_count": 283,
   "id": "d9bcba16",
   "metadata": {},
   "outputs": [
    {
     "data": {
      "text/plain": [
       "<AxesSubplot:xlabel='review_id', ylabel='Density'>"
      ]
     },
     "execution_count": 283,
     "metadata": {},
     "output_type": "execute_result"
    },
    {
     "data": {
      "image/png": "[encoded data removed]",
      "text/plain": [
       "<Figure size 432x288 with 1 Axes>"
      ]
     },
     "metadata": {
      "needs_background": "light"
     },
     "output_type": "display_data"
    }
   ],
   "source": [
    "sns.kdeplot(df_reviews.groupby('listing_id').count()['review_id'])"
   ]
  },
  {
   "cell_type": "code",
   "execution_count": 284,
   "id": "02614701",
   "metadata": {},
   "outputs": [
    {
     "data": {
      "text/plain": [
       "<AxesSubplot:xlabel='listing_id'>"
      ]
     },
     "execution_count": 284,
     "metadata": {},
     "output_type": "execute_result"
    },
    {
     "data": {
      "image/png": "[encoded data removed]",
      "text/plain": [
       "<Figure size 432x288 with 1 Axes>"
      ]
     },
     "metadata": {
      "needs_background": "light"
     },
     "output_type": "display_data"
    }
   ],
   "source": [
    "df_reviews.groupby('listing_id').count()['review_id'].sort_values(ascending=True)[:20].plot(kind='bar')"
   ]
  },
  {
   "cell_type": "code",
   "execution_count": 285,
   "id": "a1fae910",
   "metadata": {},
   "outputs": [
    {
     "data": {
      "text/html": [
       "<div>\n",
       "<style scoped>\n",
       "    .dataframe tbody tr th:only-of-type {\n",
       "        vertical-align: middle;\n",
       "    }\n",
       "\n",
       "    .dataframe tbody tr th {\n",
       "        vertical-align: top;\n",
       "    }\n",
       "\n",
       "    .dataframe thead th {\n",
       "        text-align: right;\n",
       "    }\n",
       "</style>\n",
       "<table border=\"1\" class=\"dataframe\">\n",
       "  <thead>\n",
       "    <tr style=\"text-align: right;\">\n",
       "      <th></th>\n",
       "      <th>review_id</th>\n",
       "      <th>listing_id</th>\n",
       "      <th>date</th>\n",
       "      <th>reviewer_id</th>\n",
       "      <th>reviewer_name</th>\n",
       "      <th>comments</th>\n",
       "    </tr>\n",
       "  </thead>\n",
       "  <tbody>\n",
       "    <tr>\n",
       "      <th>0</th>\n",
       "      <td>1</td>\n",
       "      <td>50904</td>\n",
       "      <td>2015-05-06</td>\n",
       "      <td>19482395</td>\n",
       "      <td>Jihae</td>\n",
       "      <td>Karin’s “Aplace” is absolutely beautiful and c...</td>\n",
       "    </tr>\n",
       "    <tr>\n",
       "      <th>1</th>\n",
       "      <td>2</td>\n",
       "      <td>50904</td>\n",
       "      <td>2021-10-10</td>\n",
       "      <td>333559</td>\n",
       "      <td>Emilie</td>\n",
       "      <td>Karin is a wonderful host, she was really help...</td>\n",
       "    </tr>\n",
       "    <tr>\n",
       "      <th>2</th>\n",
       "      <td>3</td>\n",
       "      <td>116134</td>\n",
       "      <td>2012-03-05</td>\n",
       "      <td>928644</td>\n",
       "      <td>Aurélien</td>\n",
       "      <td>Amazing flat, really close from the MAS Musem,...</td>\n",
       "    </tr>\n",
       "    <tr>\n",
       "      <th>3</th>\n",
       "      <td>4</td>\n",
       "      <td>116134</td>\n",
       "      <td>2012-05-25</td>\n",
       "      <td>231288</td>\n",
       "      <td>Gail</td>\n",
       "      <td>This is a well equipped, very comfortable apar...</td>\n",
       "    </tr>\n",
       "    <tr>\n",
       "      <th>4</th>\n",
       "      <td>5</td>\n",
       "      <td>116134</td>\n",
       "      <td>2013-09-03</td>\n",
       "      <td>7984251</td>\n",
       "      <td>Marcel</td>\n",
       "      <td>This is a very nice appartement. We really lik...</td>\n",
       "    </tr>\n",
       "  </tbody>\n",
       "</table>\n",
       "</div>"
      ],
      "text/plain": [
       "   review_id  listing_id       date  reviewer_id reviewer_name  \\\n",
       "0          1       50904 2015-05-06     19482395         Jihae   \n",
       "1          2       50904 2021-10-10       333559        Emilie   \n",
       "2          3      116134 2012-03-05       928644      Aurélien   \n",
       "3          4      116134 2012-05-25       231288          Gail   \n",
       "4          5      116134 2013-09-03      7984251        Marcel   \n",
       "\n",
       "                                            comments  \n",
       "0  Karin’s “Aplace” is absolutely beautiful and c...  \n",
       "1  Karin is a wonderful host, she was really help...  \n",
       "2  Amazing flat, really close from the MAS Musem,...  \n",
       "3  This is a well equipped, very comfortable apar...  \n",
       "4  This is a very nice appartement. We really lik...  "
      ]
     },
     "execution_count": 285,
     "metadata": {},
     "output_type": "execute_result"
    }
   ],
   "source": [
    "df_reviews.head()"
   ]
  },
  {
   "cell_type": "code",
   "execution_count": 286,
   "id": "f95038f5",
   "metadata": {},
   "outputs": [],
   "source": [
    "number_of_review_by_listing = df_reviews.groupby('listing_id').count()['review_id'].to_dict()"
   ]
  },
  {
   "cell_type": "code",
   "execution_count": 287,
   "id": "fe79f13e",
   "metadata": {},
   "outputs": [],
   "source": [
    "df_reviews['total_reviews_by_listing'] = df_reviews['listing_id'].map(number_of_review_by_listing)"
   ]
  },
  {
   "cell_type": "code",
   "execution_count": 288,
   "id": "c3422bc3",
   "metadata": {},
   "outputs": [
    {
     "data": {
      "text/html": [
       "<div>\n",
       "<style scoped>\n",
       "    .dataframe tbody tr th:only-of-type {\n",
       "        vertical-align: middle;\n",
       "    }\n",
       "\n",
       "    .dataframe tbody tr th {\n",
       "        vertical-align: top;\n",
       "    }\n",
       "\n",
       "    .dataframe thead th {\n",
       "        text-align: right;\n",
       "    }\n",
       "</style>\n",
       "<table border=\"1\" class=\"dataframe\">\n",
       "  <thead>\n",
       "    <tr style=\"text-align: right;\">\n",
       "      <th></th>\n",
       "      <th>review_id</th>\n",
       "      <th>listing_id</th>\n",
       "      <th>date</th>\n",
       "      <th>reviewer_id</th>\n",
       "      <th>reviewer_name</th>\n",
       "      <th>comments</th>\n",
       "      <th>total_reviews_by_listing</th>\n",
       "    </tr>\n",
       "  </thead>\n",
       "  <tbody>\n",
       "    <tr>\n",
       "      <th>0</th>\n",
       "      <td>1</td>\n",
       "      <td>50904</td>\n",
       "      <td>2015-05-06</td>\n",
       "      <td>19482395</td>\n",
       "      <td>Jihae</td>\n",
       "      <td>Karin’s “Aplace” is absolutely beautiful and c...</td>\n",
       "      <td>2</td>\n",
       "    </tr>\n",
       "    <tr>\n",
       "      <th>1</th>\n",
       "      <td>2</td>\n",
       "      <td>50904</td>\n",
       "      <td>2021-10-10</td>\n",
       "      <td>333559</td>\n",
       "      <td>Emilie</td>\n",
       "      <td>Karin is a wonderful host, she was really help...</td>\n",
       "      <td>2</td>\n",
       "    </tr>\n",
       "    <tr>\n",
       "      <th>2</th>\n",
       "      <td>3</td>\n",
       "      <td>116134</td>\n",
       "      <td>2012-03-05</td>\n",
       "      <td>928644</td>\n",
       "      <td>Aurélien</td>\n",
       "      <td>Amazing flat, really close from the MAS Musem,...</td>\n",
       "      <td>120</td>\n",
       "    </tr>\n",
       "    <tr>\n",
       "      <th>3</th>\n",
       "      <td>4</td>\n",
       "      <td>116134</td>\n",
       "      <td>2012-05-25</td>\n",
       "      <td>231288</td>\n",
       "      <td>Gail</td>\n",
       "      <td>This is a well equipped, very comfortable apar...</td>\n",
       "      <td>120</td>\n",
       "    </tr>\n",
       "    <tr>\n",
       "      <th>4</th>\n",
       "      <td>5</td>\n",
       "      <td>116134</td>\n",
       "      <td>2013-09-03</td>\n",
       "      <td>7984251</td>\n",
       "      <td>Marcel</td>\n",
       "      <td>This is a very nice appartement. We really lik...</td>\n",
       "      <td>120</td>\n",
       "    </tr>\n",
       "    <tr>\n",
       "      <th>...</th>\n",
       "      <td>...</td>\n",
       "      <td>...</td>\n",
       "      <td>...</td>\n",
       "      <td>...</td>\n",
       "      <td>...</td>\n",
       "      <td>...</td>\n",
       "      <td>...</td>\n",
       "    </tr>\n",
       "    <tr>\n",
       "      <th>62982</th>\n",
       "      <td>62983</td>\n",
       "      <td>53538847</td>\n",
       "      <td>2021-12-05</td>\n",
       "      <td>48076753</td>\n",
       "      <td>Serge</td>\n",
       "      <td>The place as it's shown in the photos. Great l...</td>\n",
       "      <td>1</td>\n",
       "    </tr>\n",
       "    <tr>\n",
       "      <th>62983</th>\n",
       "      <td>62984</td>\n",
       "      <td>53600839</td>\n",
       "      <td>2021-12-12</td>\n",
       "      <td>6635741</td>\n",
       "      <td>Dániel</td>\n",
       "      <td>The spacious apartment is idyllically located ...</td>\n",
       "      <td>1</td>\n",
       "    </tr>\n",
       "    <tr>\n",
       "      <th>62984</th>\n",
       "      <td>62985</td>\n",
       "      <td>53819793</td>\n",
       "      <td>2021-12-21</td>\n",
       "      <td>247934155</td>\n",
       "      <td>Gijs</td>\n",
       "      <td>It was great</td>\n",
       "      <td>1</td>\n",
       "    </tr>\n",
       "    <tr>\n",
       "      <th>62985</th>\n",
       "      <td>62986</td>\n",
       "      <td>53825194</td>\n",
       "      <td>2021-12-19</td>\n",
       "      <td>361042882</td>\n",
       "      <td>Siarhei</td>\n",
       "      <td>Flor es muy atenta y me ayudo mucho entrando a...</td>\n",
       "      <td>2</td>\n",
       "    </tr>\n",
       "    <tr>\n",
       "      <th>62986</th>\n",
       "      <td>62987</td>\n",
       "      <td>53825194</td>\n",
       "      <td>2021-12-23</td>\n",
       "      <td>196552814</td>\n",
       "      <td>Inne</td>\n",
       "      <td>Toplocatie. Flor is heel vriendelijk en reagee...</td>\n",
       "      <td>2</td>\n",
       "    </tr>\n",
       "  </tbody>\n",
       "</table>\n",
       "<p>62987 rows × 7 columns</p>\n",
       "</div>"
      ],
      "text/plain": [
       "       review_id  listing_id       date  reviewer_id reviewer_name  \\\n",
       "0              1       50904 2015-05-06     19482395         Jihae   \n",
       "1              2       50904 2021-10-10       333559        Emilie   \n",
       "2              3      116134 2012-03-05       928644      Aurélien   \n",
       "3              4      116134 2012-05-25       231288          Gail   \n",
       "4              5      116134 2013-09-03      7984251        Marcel   \n",
       "...          ...         ...        ...          ...           ...   \n",
       "62982      62983    53538847 2021-12-05     48076753         Serge   \n",
       "62983      62984    53600839 2021-12-12      6635741        Dániel   \n",
       "62984      62985    53819793 2021-12-21    247934155          Gijs   \n",
       "62985      62986    53825194 2021-12-19    361042882       Siarhei   \n",
       "62986      62987    53825194 2021-12-23    196552814          Inne   \n",
       "\n",
       "                                                comments  \\\n",
       "0      Karin’s “Aplace” is absolutely beautiful and c...   \n",
       "1      Karin is a wonderful host, she was really help...   \n",
       "2      Amazing flat, really close from the MAS Musem,...   \n",
       "3      This is a well equipped, very comfortable apar...   \n",
       "4      This is a very nice appartement. We really lik...   \n",
       "...                                                  ...   \n",
       "62982  The place as it's shown in the photos. Great l...   \n",
       "62983  The spacious apartment is idyllically located ...   \n",
       "62984                                       It was great   \n",
       "62985  Flor es muy atenta y me ayudo mucho entrando a...   \n",
       "62986  Toplocatie. Flor is heel vriendelijk en reagee...   \n",
       "\n",
       "       total_reviews_by_listing  \n",
       "0                             2  \n",
       "1                             2  \n",
       "2                           120  \n",
       "3                           120  \n",
       "4                           120  \n",
       "...                         ...  \n",
       "62982                         1  \n",
       "62983                         1  \n",
       "62984                         1  \n",
       "62985                         2  \n",
       "62986                         2  \n",
       "\n",
       "[62987 rows x 7 columns]"
      ]
     },
     "execution_count": 288,
     "metadata": {},
     "output_type": "execute_result"
    }
   ],
   "source": [
    "df_reviews"
   ]
  },
  {
   "cell_type": "code",
   "execution_count": 289,
   "id": "d21f8873",
   "metadata": {},
   "outputs": [
    {
     "data": {
      "text/plain": [
       "0        2533\n",
       "1         184\n",
       "2        3690\n",
       "3        3609\n",
       "4        3143\n",
       "         ... \n",
       "62982     128\n",
       "62983     121\n",
       "62984     112\n",
       "62985     114\n",
       "62986     110\n",
       "Name: date, Length: 62987, dtype: int64"
      ]
     },
     "execution_count": 289,
     "metadata": {},
     "output_type": "execute_result"
    }
   ],
   "source": [
    "basedate2 = pd.Timestamp('2022-04-12')\n",
    "days_since_review = abs(df_reviews['date'] - basedate2).dt.days\n",
    "days_since_review"
   ]
  },
  {
   "cell_type": "code",
   "execution_count": 290,
   "id": "877751ac",
   "metadata": {},
   "outputs": [],
   "source": [
    "df_reviews['days_since_review'] = days_since_review"
   ]
  },
  {
   "cell_type": "code",
   "execution_count": 291,
   "id": "6f7026b3",
   "metadata": {},
   "outputs": [
    {
     "data": {
      "text/html": [
       "<div>\n",
       "<style scoped>\n",
       "    .dataframe tbody tr th:only-of-type {\n",
       "        vertical-align: middle;\n",
       "    }\n",
       "\n",
       "    .dataframe tbody tr th {\n",
       "        vertical-align: top;\n",
       "    }\n",
       "\n",
       "    .dataframe thead th {\n",
       "        text-align: right;\n",
       "    }\n",
       "</style>\n",
       "<table border=\"1\" class=\"dataframe\">\n",
       "  <thead>\n",
       "    <tr style=\"text-align: right;\">\n",
       "      <th></th>\n",
       "      <th>review_id</th>\n",
       "      <th>listing_id</th>\n",
       "      <th>date</th>\n",
       "      <th>reviewer_id</th>\n",
       "      <th>reviewer_name</th>\n",
       "      <th>comments</th>\n",
       "      <th>total_reviews_by_listing</th>\n",
       "      <th>days_since_review</th>\n",
       "    </tr>\n",
       "  </thead>\n",
       "  <tbody>\n",
       "    <tr>\n",
       "      <th>0</th>\n",
       "      <td>1</td>\n",
       "      <td>50904</td>\n",
       "      <td>2015-05-06</td>\n",
       "      <td>19482395</td>\n",
       "      <td>Jihae</td>\n",
       "      <td>Karin’s “Aplace” is absolutely beautiful and c...</td>\n",
       "      <td>2</td>\n",
       "      <td>2533</td>\n",
       "    </tr>\n",
       "    <tr>\n",
       "      <th>1</th>\n",
       "      <td>2</td>\n",
       "      <td>50904</td>\n",
       "      <td>2021-10-10</td>\n",
       "      <td>333559</td>\n",
       "      <td>Emilie</td>\n",
       "      <td>Karin is a wonderful host, she was really help...</td>\n",
       "      <td>2</td>\n",
       "      <td>184</td>\n",
       "    </tr>\n",
       "    <tr>\n",
       "      <th>2</th>\n",
       "      <td>3</td>\n",
       "      <td>116134</td>\n",
       "      <td>2012-03-05</td>\n",
       "      <td>928644</td>\n",
       "      <td>Aurélien</td>\n",
       "      <td>Amazing flat, really close from the MAS Musem,...</td>\n",
       "      <td>120</td>\n",
       "      <td>3690</td>\n",
       "    </tr>\n",
       "    <tr>\n",
       "      <th>3</th>\n",
       "      <td>4</td>\n",
       "      <td>116134</td>\n",
       "      <td>2012-05-25</td>\n",
       "      <td>231288</td>\n",
       "      <td>Gail</td>\n",
       "      <td>This is a well equipped, very comfortable apar...</td>\n",
       "      <td>120</td>\n",
       "      <td>3609</td>\n",
       "    </tr>\n",
       "    <tr>\n",
       "      <th>4</th>\n",
       "      <td>5</td>\n",
       "      <td>116134</td>\n",
       "      <td>2013-09-03</td>\n",
       "      <td>7984251</td>\n",
       "      <td>Marcel</td>\n",
       "      <td>This is a very nice appartement. We really lik...</td>\n",
       "      <td>120</td>\n",
       "      <td>3143</td>\n",
       "    </tr>\n",
       "    <tr>\n",
       "      <th>...</th>\n",
       "      <td>...</td>\n",
       "      <td>...</td>\n",
       "      <td>...</td>\n",
       "      <td>...</td>\n",
       "      <td>...</td>\n",
       "      <td>...</td>\n",
       "      <td>...</td>\n",
       "      <td>...</td>\n",
       "    </tr>\n",
       "    <tr>\n",
       "      <th>62982</th>\n",
       "      <td>62983</td>\n",
       "      <td>53538847</td>\n",
       "      <td>2021-12-05</td>\n",
       "      <td>48076753</td>\n",
       "      <td>Serge</td>\n",
       "      <td>The place as it's shown in the photos. Great l...</td>\n",
       "      <td>1</td>\n",
       "      <td>128</td>\n",
       "    </tr>\n",
       "    <tr>\n",
       "      <th>62983</th>\n",
       "      <td>62984</td>\n",
       "      <td>53600839</td>\n",
       "      <td>2021-12-12</td>\n",
       "      <td>6635741</td>\n",
       "      <td>Dániel</td>\n",
       "      <td>The spacious apartment is idyllically located ...</td>\n",
       "      <td>1</td>\n",
       "      <td>121</td>\n",
       "    </tr>\n",
       "    <tr>\n",
       "      <th>62984</th>\n",
       "      <td>62985</td>\n",
       "      <td>53819793</td>\n",
       "      <td>2021-12-21</td>\n",
       "      <td>247934155</td>\n",
       "      <td>Gijs</td>\n",
       "      <td>It was great</td>\n",
       "      <td>1</td>\n",
       "      <td>112</td>\n",
       "    </tr>\n",
       "    <tr>\n",
       "      <th>62985</th>\n",
       "      <td>62986</td>\n",
       "      <td>53825194</td>\n",
       "      <td>2021-12-19</td>\n",
       "      <td>361042882</td>\n",
       "      <td>Siarhei</td>\n",
       "      <td>Flor es muy atenta y me ayudo mucho entrando a...</td>\n",
       "      <td>2</td>\n",
       "      <td>114</td>\n",
       "    </tr>\n",
       "    <tr>\n",
       "      <th>62986</th>\n",
       "      <td>62987</td>\n",
       "      <td>53825194</td>\n",
       "      <td>2021-12-23</td>\n",
       "      <td>196552814</td>\n",
       "      <td>Inne</td>\n",
       "      <td>Toplocatie. Flor is heel vriendelijk en reagee...</td>\n",
       "      <td>2</td>\n",
       "      <td>110</td>\n",
       "    </tr>\n",
       "  </tbody>\n",
       "</table>\n",
       "<p>62987 rows × 8 columns</p>\n",
       "</div>"
      ],
      "text/plain": [
       "       review_id  listing_id       date  reviewer_id reviewer_name  \\\n",
       "0              1       50904 2015-05-06     19482395         Jihae   \n",
       "1              2       50904 2021-10-10       333559        Emilie   \n",
       "2              3      116134 2012-03-05       928644      Aurélien   \n",
       "3              4      116134 2012-05-25       231288          Gail   \n",
       "4              5      116134 2013-09-03      7984251        Marcel   \n",
       "...          ...         ...        ...          ...           ...   \n",
       "62982      62983    53538847 2021-12-05     48076753         Serge   \n",
       "62983      62984    53600839 2021-12-12      6635741        Dániel   \n",
       "62984      62985    53819793 2021-12-21    247934155          Gijs   \n",
       "62985      62986    53825194 2021-12-19    361042882       Siarhei   \n",
       "62986      62987    53825194 2021-12-23    196552814          Inne   \n",
       "\n",
       "                                                comments  \\\n",
       "0      Karin’s “Aplace” is absolutely beautiful and c...   \n",
       "1      Karin is a wonderful host, she was really help...   \n",
       "2      Amazing flat, really close from the MAS Musem,...   \n",
       "3      This is a well equipped, very comfortable apar...   \n",
       "4      This is a very nice appartement. We really lik...   \n",
       "...                                                  ...   \n",
       "62982  The place as it's shown in the photos. Great l...   \n",
       "62983  The spacious apartment is idyllically located ...   \n",
       "62984                                       It was great   \n",
       "62985  Flor es muy atenta y me ayudo mucho entrando a...   \n",
       "62986  Toplocatie. Flor is heel vriendelijk en reagee...   \n",
       "\n",
       "       total_reviews_by_listing  days_since_review  \n",
       "0                             2               2533  \n",
       "1                             2                184  \n",
       "2                           120               3690  \n",
       "3                           120               3609  \n",
       "4                           120               3143  \n",
       "...                         ...                ...  \n",
       "62982                         1                128  \n",
       "62983                         1                121  \n",
       "62984                         1                112  \n",
       "62985                         2                114  \n",
       "62986                         2                110  \n",
       "\n",
       "[62987 rows x 8 columns]"
      ]
     },
     "execution_count": 291,
     "metadata": {},
     "output_type": "execute_result"
    }
   ],
   "source": [
    "df_reviews"
   ]
  },
  {
   "cell_type": "code",
   "execution_count": 292,
   "id": "5e4e044d",
   "metadata": {},
   "outputs": [],
   "source": [
    "def get_len(x):\n",
    "    try:\n",
    "        return len(x)\n",
    "    except:\n",
    "        return 0"
   ]
  },
  {
   "cell_type": "code",
   "execution_count": 293,
   "id": "066b259e",
   "metadata": {},
   "outputs": [],
   "source": [
    "df_reviews['comment_length'] = df_reviews['comments'].apply(get_len)"
   ]
  },
  {
   "cell_type": "code",
   "execution_count": 294,
   "id": "6b11f757",
   "metadata": {},
   "outputs": [
    {
     "data": {
      "text/html": [
       "<div>\n",
       "<style scoped>\n",
       "    .dataframe tbody tr th:only-of-type {\n",
       "        vertical-align: middle;\n",
       "    }\n",
       "\n",
       "    .dataframe tbody tr th {\n",
       "        vertical-align: top;\n",
       "    }\n",
       "\n",
       "    .dataframe thead th {\n",
       "        text-align: right;\n",
       "    }\n",
       "</style>\n",
       "<table border=\"1\" class=\"dataframe\">\n",
       "  <thead>\n",
       "    <tr style=\"text-align: right;\">\n",
       "      <th></th>\n",
       "      <th>review_id</th>\n",
       "      <th>listing_id</th>\n",
       "      <th>date</th>\n",
       "      <th>reviewer_id</th>\n",
       "      <th>reviewer_name</th>\n",
       "      <th>comments</th>\n",
       "      <th>total_reviews_by_listing</th>\n",
       "      <th>days_since_review</th>\n",
       "      <th>comment_length</th>\n",
       "    </tr>\n",
       "  </thead>\n",
       "  <tbody>\n",
       "    <tr>\n",
       "      <th>0</th>\n",
       "      <td>1</td>\n",
       "      <td>50904</td>\n",
       "      <td>2015-05-06</td>\n",
       "      <td>19482395</td>\n",
       "      <td>Jihae</td>\n",
       "      <td>Karin’s “Aplace” is absolutely beautiful and c...</td>\n",
       "      <td>2</td>\n",
       "      <td>2533</td>\n",
       "      <td>418</td>\n",
       "    </tr>\n",
       "    <tr>\n",
       "      <th>1</th>\n",
       "      <td>2</td>\n",
       "      <td>50904</td>\n",
       "      <td>2021-10-10</td>\n",
       "      <td>333559</td>\n",
       "      <td>Emilie</td>\n",
       "      <td>Karin is a wonderful host, she was really help...</td>\n",
       "      <td>2</td>\n",
       "      <td>184</td>\n",
       "      <td>93</td>\n",
       "    </tr>\n",
       "    <tr>\n",
       "      <th>2</th>\n",
       "      <td>3</td>\n",
       "      <td>116134</td>\n",
       "      <td>2012-03-05</td>\n",
       "      <td>928644</td>\n",
       "      <td>Aurélien</td>\n",
       "      <td>Amazing flat, really close from the MAS Musem,...</td>\n",
       "      <td>120</td>\n",
       "      <td>3690</td>\n",
       "      <td>327</td>\n",
       "    </tr>\n",
       "    <tr>\n",
       "      <th>3</th>\n",
       "      <td>4</td>\n",
       "      <td>116134</td>\n",
       "      <td>2012-05-25</td>\n",
       "      <td>231288</td>\n",
       "      <td>Gail</td>\n",
       "      <td>This is a well equipped, very comfortable apar...</td>\n",
       "      <td>120</td>\n",
       "      <td>3609</td>\n",
       "      <td>543</td>\n",
       "    </tr>\n",
       "    <tr>\n",
       "      <th>4</th>\n",
       "      <td>5</td>\n",
       "      <td>116134</td>\n",
       "      <td>2013-09-03</td>\n",
       "      <td>7984251</td>\n",
       "      <td>Marcel</td>\n",
       "      <td>This is a very nice appartement. We really lik...</td>\n",
       "      <td>120</td>\n",
       "      <td>3143</td>\n",
       "      <td>381</td>\n",
       "    </tr>\n",
       "  </tbody>\n",
       "</table>\n",
       "</div>"
      ],
      "text/plain": [
       "   review_id  listing_id       date  reviewer_id reviewer_name  \\\n",
       "0          1       50904 2015-05-06     19482395         Jihae   \n",
       "1          2       50904 2021-10-10       333559        Emilie   \n",
       "2          3      116134 2012-03-05       928644      Aurélien   \n",
       "3          4      116134 2012-05-25       231288          Gail   \n",
       "4          5      116134 2013-09-03      7984251        Marcel   \n",
       "\n",
       "                                            comments  \\\n",
       "0  Karin’s “Aplace” is absolutely beautiful and c...   \n",
       "1  Karin is a wonderful host, she was really help...   \n",
       "2  Amazing flat, really close from the MAS Musem,...   \n",
       "3  This is a well equipped, very comfortable apar...   \n",
       "4  This is a very nice appartement. We really lik...   \n",
       "\n",
       "   total_reviews_by_listing  days_since_review  comment_length  \n",
       "0                         2               2533             418  \n",
       "1                         2                184              93  \n",
       "2                       120               3690             327  \n",
       "3                       120               3609             543  \n",
       "4                       120               3143             381  "
      ]
     },
     "execution_count": 294,
     "metadata": {},
     "output_type": "execute_result"
    }
   ],
   "source": [
    "df_reviews.head()"
   ]
  },
  {
   "cell_type": "markdown",
   "id": "14c02882",
   "metadata": {},
   "source": [
    "## todo- add nlp to this section as well"
   ]
  },
  {
   "cell_type": "code",
   "execution_count": 295,
   "id": "91c7e3b4",
   "metadata": {},
   "outputs": [],
   "source": [
    "total_reviews = df_reviews.groupby('listing_id').count()[['review_id']]"
   ]
  },
  {
   "cell_type": "code",
   "execution_count": 296,
   "id": "c08b37c6",
   "metadata": {},
   "outputs": [],
   "source": [
    "total_reviews.reset_index(level=0, inplace=True)"
   ]
  },
  {
   "cell_type": "code",
   "execution_count": 297,
   "id": "4ea95150",
   "metadata": {},
   "outputs": [],
   "source": [
    "total_reviews.columns = ['listing_id','total_reviews']"
   ]
  },
  {
   "cell_type": "code",
   "execution_count": 298,
   "id": "d644769b",
   "metadata": {},
   "outputs": [
    {
     "data": {
      "text/html": [
       "<div>\n",
       "<style scoped>\n",
       "    .dataframe tbody tr th:only-of-type {\n",
       "        vertical-align: middle;\n",
       "    }\n",
       "\n",
       "    .dataframe tbody tr th {\n",
       "        vertical-align: top;\n",
       "    }\n",
       "\n",
       "    .dataframe thead th {\n",
       "        text-align: right;\n",
       "    }\n",
       "</style>\n",
       "<table border=\"1\" class=\"dataframe\">\n",
       "  <thead>\n",
       "    <tr style=\"text-align: right;\">\n",
       "      <th></th>\n",
       "      <th>listing_id</th>\n",
       "      <th>total_reviews</th>\n",
       "    </tr>\n",
       "  </thead>\n",
       "  <tbody>\n",
       "    <tr>\n",
       "      <th>0</th>\n",
       "      <td>50904</td>\n",
       "      <td>2</td>\n",
       "    </tr>\n",
       "    <tr>\n",
       "      <th>1</th>\n",
       "      <td>116134</td>\n",
       "      <td>120</td>\n",
       "    </tr>\n",
       "    <tr>\n",
       "      <th>2</th>\n",
       "      <td>218916</td>\n",
       "      <td>28</td>\n",
       "    </tr>\n",
       "    <tr>\n",
       "      <th>3</th>\n",
       "      <td>224333</td>\n",
       "      <td>3</td>\n",
       "    </tr>\n",
       "    <tr>\n",
       "      <th>4</th>\n",
       "      <td>224682</td>\n",
       "      <td>349</td>\n",
       "    </tr>\n",
       "    <tr>\n",
       "      <th>...</th>\n",
       "      <td>...</td>\n",
       "      <td>...</td>\n",
       "    </tr>\n",
       "    <tr>\n",
       "      <th>1520</th>\n",
       "      <td>53522234</td>\n",
       "      <td>2</td>\n",
       "    </tr>\n",
       "    <tr>\n",
       "      <th>1521</th>\n",
       "      <td>53538847</td>\n",
       "      <td>1</td>\n",
       "    </tr>\n",
       "    <tr>\n",
       "      <th>1522</th>\n",
       "      <td>53600839</td>\n",
       "      <td>1</td>\n",
       "    </tr>\n",
       "    <tr>\n",
       "      <th>1523</th>\n",
       "      <td>53819793</td>\n",
       "      <td>1</td>\n",
       "    </tr>\n",
       "    <tr>\n",
       "      <th>1524</th>\n",
       "      <td>53825194</td>\n",
       "      <td>2</td>\n",
       "    </tr>\n",
       "  </tbody>\n",
       "</table>\n",
       "<p>1525 rows × 2 columns</p>\n",
       "</div>"
      ],
      "text/plain": [
       "      listing_id  total_reviews\n",
       "0          50904              2\n",
       "1         116134            120\n",
       "2         218916             28\n",
       "3         224333              3\n",
       "4         224682            349\n",
       "...          ...            ...\n",
       "1520    53522234              2\n",
       "1521    53538847              1\n",
       "1522    53600839              1\n",
       "1523    53819793              1\n",
       "1524    53825194              2\n",
       "\n",
       "[1525 rows x 2 columns]"
      ]
     },
     "execution_count": 298,
     "metadata": {},
     "output_type": "execute_result"
    }
   ],
   "source": [
    "total_reviews"
   ]
  },
  {
   "cell_type": "code",
   "execution_count": 299,
   "id": "4420d567",
   "metadata": {},
   "outputs": [],
   "source": [
    "recent_reviews = df_reviews.groupby('listing_id').mean()[['days_since_review']]"
   ]
  },
  {
   "cell_type": "code",
   "execution_count": 300,
   "id": "6dd199b2",
   "metadata": {},
   "outputs": [],
   "source": [
    "recent_reviews.reset_index(level=0, inplace=True)"
   ]
  },
  {
   "cell_type": "code",
   "execution_count": 301,
   "id": "62cdcd1b",
   "metadata": {},
   "outputs": [
    {
     "data": {
      "text/html": [
       "<div>\n",
       "<style scoped>\n",
       "    .dataframe tbody tr th:only-of-type {\n",
       "        vertical-align: middle;\n",
       "    }\n",
       "\n",
       "    .dataframe tbody tr th {\n",
       "        vertical-align: top;\n",
       "    }\n",
       "\n",
       "    .dataframe thead th {\n",
       "        text-align: right;\n",
       "    }\n",
       "</style>\n",
       "<table border=\"1\" class=\"dataframe\">\n",
       "  <thead>\n",
       "    <tr style=\"text-align: right;\">\n",
       "      <th></th>\n",
       "      <th>listing_id</th>\n",
       "      <th>days_since_review</th>\n",
       "    </tr>\n",
       "  </thead>\n",
       "  <tbody>\n",
       "    <tr>\n",
       "      <th>0</th>\n",
       "      <td>50904</td>\n",
       "      <td>1358.500000</td>\n",
       "    </tr>\n",
       "    <tr>\n",
       "      <th>1</th>\n",
       "      <td>116134</td>\n",
       "      <td>1540.908333</td>\n",
       "    </tr>\n",
       "    <tr>\n",
       "      <th>2</th>\n",
       "      <td>218916</td>\n",
       "      <td>2438.250000</td>\n",
       "    </tr>\n",
       "    <tr>\n",
       "      <th>3</th>\n",
       "      <td>224333</td>\n",
       "      <td>1613.000000</td>\n",
       "    </tr>\n",
       "    <tr>\n",
       "      <th>4</th>\n",
       "      <td>224682</td>\n",
       "      <td>1752.143266</td>\n",
       "    </tr>\n",
       "    <tr>\n",
       "      <th>...</th>\n",
       "      <td>...</td>\n",
       "      <td>...</td>\n",
       "    </tr>\n",
       "    <tr>\n",
       "      <th>1520</th>\n",
       "      <td>53522234</td>\n",
       "      <td>124.000000</td>\n",
       "    </tr>\n",
       "    <tr>\n",
       "      <th>1521</th>\n",
       "      <td>53538847</td>\n",
       "      <td>128.000000</td>\n",
       "    </tr>\n",
       "    <tr>\n",
       "      <th>1522</th>\n",
       "      <td>53600839</td>\n",
       "      <td>121.000000</td>\n",
       "    </tr>\n",
       "    <tr>\n",
       "      <th>1523</th>\n",
       "      <td>53819793</td>\n",
       "      <td>112.000000</td>\n",
       "    </tr>\n",
       "    <tr>\n",
       "      <th>1524</th>\n",
       "      <td>53825194</td>\n",
       "      <td>112.000000</td>\n",
       "    </tr>\n",
       "  </tbody>\n",
       "</table>\n",
       "<p>1525 rows × 2 columns</p>\n",
       "</div>"
      ],
      "text/plain": [
       "      listing_id  days_since_review\n",
       "0          50904        1358.500000\n",
       "1         116134        1540.908333\n",
       "2         218916        2438.250000\n",
       "3         224333        1613.000000\n",
       "4         224682        1752.143266\n",
       "...          ...                ...\n",
       "1520    53522234         124.000000\n",
       "1521    53538847         128.000000\n",
       "1522    53600839         121.000000\n",
       "1523    53819793         112.000000\n",
       "1524    53825194         112.000000\n",
       "\n",
       "[1525 rows x 2 columns]"
      ]
     },
     "execution_count": 301,
     "metadata": {},
     "output_type": "execute_result"
    }
   ],
   "source": [
    "recent_reviews"
   ]
  },
  {
   "cell_type": "code",
   "execution_count": 302,
   "id": "f5bf57bd",
   "metadata": {},
   "outputs": [],
   "source": [
    "avg_comments = df_reviews.groupby('listing_id').mean()[['comment_length']]"
   ]
  },
  {
   "cell_type": "code",
   "execution_count": 303,
   "id": "6dd199b2",
   "metadata": {},
   "outputs": [],
   "source": [
    "avg_comments.reset_index(level=0, inplace=True)"
   ]
  },
  {
   "cell_type": "code",
   "execution_count": 304,
   "id": "62cdcd1b",
   "metadata": {},
   "outputs": [
    {
     "data": {
      "text/html": [
       "<div>\n",
       "<style scoped>\n",
       "    .dataframe tbody tr th:only-of-type {\n",
       "        vertical-align: middle;\n",
       "    }\n",
       "\n",
       "    .dataframe tbody tr th {\n",
       "        vertical-align: top;\n",
       "    }\n",
       "\n",
       "    .dataframe thead th {\n",
       "        text-align: right;\n",
       "    }\n",
       "</style>\n",
       "<table border=\"1\" class=\"dataframe\">\n",
       "  <thead>\n",
       "    <tr style=\"text-align: right;\">\n",
       "      <th></th>\n",
       "      <th>listing_id</th>\n",
       "      <th>comment_length</th>\n",
       "    </tr>\n",
       "  </thead>\n",
       "  <tbody>\n",
       "    <tr>\n",
       "      <th>0</th>\n",
       "      <td>50904</td>\n",
       "      <td>255.500000</td>\n",
       "    </tr>\n",
       "    <tr>\n",
       "      <th>1</th>\n",
       "      <td>116134</td>\n",
       "      <td>265.266667</td>\n",
       "    </tr>\n",
       "    <tr>\n",
       "      <th>2</th>\n",
       "      <td>218916</td>\n",
       "      <td>385.678571</td>\n",
       "    </tr>\n",
       "    <tr>\n",
       "      <th>3</th>\n",
       "      <td>224333</td>\n",
       "      <td>193.666667</td>\n",
       "    </tr>\n",
       "    <tr>\n",
       "      <th>4</th>\n",
       "      <td>224682</td>\n",
       "      <td>252.624642</td>\n",
       "    </tr>\n",
       "    <tr>\n",
       "      <th>...</th>\n",
       "      <td>...</td>\n",
       "      <td>...</td>\n",
       "    </tr>\n",
       "    <tr>\n",
       "      <th>1520</th>\n",
       "      <td>53522234</td>\n",
       "      <td>211.500000</td>\n",
       "    </tr>\n",
       "    <tr>\n",
       "      <th>1521</th>\n",
       "      <td>53538847</td>\n",
       "      <td>177.000000</td>\n",
       "    </tr>\n",
       "    <tr>\n",
       "      <th>1522</th>\n",
       "      <td>53600839</td>\n",
       "      <td>1282.000000</td>\n",
       "    </tr>\n",
       "    <tr>\n",
       "      <th>1523</th>\n",
       "      <td>53819793</td>\n",
       "      <td>12.000000</td>\n",
       "    </tr>\n",
       "    <tr>\n",
       "      <th>1524</th>\n",
       "      <td>53825194</td>\n",
       "      <td>79.500000</td>\n",
       "    </tr>\n",
       "  </tbody>\n",
       "</table>\n",
       "<p>1525 rows × 2 columns</p>\n",
       "</div>"
      ],
      "text/plain": [
       "      listing_id  comment_length\n",
       "0          50904      255.500000\n",
       "1         116134      265.266667\n",
       "2         218916      385.678571\n",
       "3         224333      193.666667\n",
       "4         224682      252.624642\n",
       "...          ...             ...\n",
       "1520    53522234      211.500000\n",
       "1521    53538847      177.000000\n",
       "1522    53600839     1282.000000\n",
       "1523    53819793       12.000000\n",
       "1524    53825194       79.500000\n",
       "\n",
       "[1525 rows x 2 columns]"
      ]
     },
     "execution_count": 304,
     "metadata": {},
     "output_type": "execute_result"
    }
   ],
   "source": [
    "avg_comments"
   ]
  },
  {
   "cell_type": "code",
   "execution_count": 305,
   "id": "a43cd927",
   "metadata": {},
   "outputs": [],
   "source": [
    "df_reviews_consolidated_2 = pd.merge(total_reviews, recent_reviews, on='listing_id', how='inner')"
   ]
  },
  {
   "cell_type": "code",
   "execution_count": 306,
   "id": "7261dc46",
   "metadata": {},
   "outputs": [],
   "source": [
    "df_reviews_consolidated = pd.merge(df_reviews_consolidated_2, avg_comments, on='listing_id', how='inner')"
   ]
  },
  {
   "cell_type": "code",
   "execution_count": 307,
   "id": "7f7978ad",
   "metadata": {},
   "outputs": [
    {
     "data": {
      "text/html": [
       "<div>\n",
       "<style scoped>\n",
       "    .dataframe tbody tr th:only-of-type {\n",
       "        vertical-align: middle;\n",
       "    }\n",
       "\n",
       "    .dataframe tbody tr th {\n",
       "        vertical-align: top;\n",
       "    }\n",
       "\n",
       "    .dataframe thead th {\n",
       "        text-align: right;\n",
       "    }\n",
       "</style>\n",
       "<table border=\"1\" class=\"dataframe\">\n",
       "  <thead>\n",
       "    <tr style=\"text-align: right;\">\n",
       "      <th></th>\n",
       "      <th>listing_id</th>\n",
       "      <th>total_reviews</th>\n",
       "      <th>days_since_review</th>\n",
       "      <th>comment_length</th>\n",
       "    </tr>\n",
       "  </thead>\n",
       "  <tbody>\n",
       "    <tr>\n",
       "      <th>0</th>\n",
       "      <td>50904</td>\n",
       "      <td>2</td>\n",
       "      <td>1358.500000</td>\n",
       "      <td>255.500000</td>\n",
       "    </tr>\n",
       "    <tr>\n",
       "      <th>1</th>\n",
       "      <td>116134</td>\n",
       "      <td>120</td>\n",
       "      <td>1540.908333</td>\n",
       "      <td>265.266667</td>\n",
       "    </tr>\n",
       "    <tr>\n",
       "      <th>2</th>\n",
       "      <td>218916</td>\n",
       "      <td>28</td>\n",
       "      <td>2438.250000</td>\n",
       "      <td>385.678571</td>\n",
       "    </tr>\n",
       "    <tr>\n",
       "      <th>3</th>\n",
       "      <td>224333</td>\n",
       "      <td>3</td>\n",
       "      <td>1613.000000</td>\n",
       "      <td>193.666667</td>\n",
       "    </tr>\n",
       "    <tr>\n",
       "      <th>4</th>\n",
       "      <td>224682</td>\n",
       "      <td>349</td>\n",
       "      <td>1752.143266</td>\n",
       "      <td>252.624642</td>\n",
       "    </tr>\n",
       "    <tr>\n",
       "      <th>...</th>\n",
       "      <td>...</td>\n",
       "      <td>...</td>\n",
       "      <td>...</td>\n",
       "      <td>...</td>\n",
       "    </tr>\n",
       "    <tr>\n",
       "      <th>1520</th>\n",
       "      <td>53522234</td>\n",
       "      <td>2</td>\n",
       "      <td>124.000000</td>\n",
       "      <td>211.500000</td>\n",
       "    </tr>\n",
       "    <tr>\n",
       "      <th>1521</th>\n",
       "      <td>53538847</td>\n",
       "      <td>1</td>\n",
       "      <td>128.000000</td>\n",
       "      <td>177.000000</td>\n",
       "    </tr>\n",
       "    <tr>\n",
       "      <th>1522</th>\n",
       "      <td>53600839</td>\n",
       "      <td>1</td>\n",
       "      <td>121.000000</td>\n",
       "      <td>1282.000000</td>\n",
       "    </tr>\n",
       "    <tr>\n",
       "      <th>1523</th>\n",
       "      <td>53819793</td>\n",
       "      <td>1</td>\n",
       "      <td>112.000000</td>\n",
       "      <td>12.000000</td>\n",
       "    </tr>\n",
       "    <tr>\n",
       "      <th>1524</th>\n",
       "      <td>53825194</td>\n",
       "      <td>2</td>\n",
       "      <td>112.000000</td>\n",
       "      <td>79.500000</td>\n",
       "    </tr>\n",
       "  </tbody>\n",
       "</table>\n",
       "<p>1525 rows × 4 columns</p>\n",
       "</div>"
      ],
      "text/plain": [
       "      listing_id  total_reviews  days_since_review  comment_length\n",
       "0          50904              2        1358.500000      255.500000\n",
       "1         116134            120        1540.908333      265.266667\n",
       "2         218916             28        2438.250000      385.678571\n",
       "3         224333              3        1613.000000      193.666667\n",
       "4         224682            349        1752.143266      252.624642\n",
       "...          ...            ...                ...             ...\n",
       "1520    53522234              2         124.000000      211.500000\n",
       "1521    53538847              1         128.000000      177.000000\n",
       "1522    53600839              1         121.000000     1282.000000\n",
       "1523    53819793              1         112.000000       12.000000\n",
       "1524    53825194              2         112.000000       79.500000\n",
       "\n",
       "[1525 rows x 4 columns]"
      ]
     },
     "execution_count": 307,
     "metadata": {},
     "output_type": "execute_result"
    }
   ],
   "source": [
    "df_reviews_consolidated"
   ]
  },
  {
   "cell_type": "markdown",
   "id": "39704b3f",
   "metadata": {},
   "source": [
    "## df_listings"
   ]
  },
  {
   "cell_type": "code",
   "execution_count": 308,
   "id": "993432ed",
   "metadata": {},
   "outputs": [
    {
     "data": {
      "text/html": [
       "<div>\n",
       "<style scoped>\n",
       "    .dataframe tbody tr th:only-of-type {\n",
       "        vertical-align: middle;\n",
       "    }\n",
       "\n",
       "    .dataframe tbody tr th {\n",
       "        vertical-align: top;\n",
       "    }\n",
       "\n",
       "    .dataframe thead th {\n",
       "        text-align: right;\n",
       "    }\n",
       "</style>\n",
       "<table border=\"1\" class=\"dataframe\">\n",
       "  <thead>\n",
       "    <tr style=\"text-align: right;\">\n",
       "      <th></th>\n",
       "      <th>listing_id</th>\n",
       "      <th>listing_url</th>\n",
       "      <th>name</th>\n",
       "      <th>description</th>\n",
       "      <th>latitude</th>\n",
       "      <th>longitude</th>\n",
       "      <th>property_type</th>\n",
       "      <th>room_type</th>\n",
       "      <th>accomodates</th>\n",
       "      <th>bathrooms_text</th>\n",
       "      <th>bedrooms</th>\n",
       "      <th>beds</th>\n",
       "      <th>amenities</th>\n",
       "      <th>host_id</th>\n",
       "    </tr>\n",
       "  </thead>\n",
       "  <tbody>\n",
       "    <tr>\n",
       "      <th>0</th>\n",
       "      <td>50904</td>\n",
       "      <td>https://www.airbnb.com/rooms/50904</td>\n",
       "      <td>aplace/antwerp: cosy suite - fashion district</td>\n",
       "      <td>Decorated in a vintage style combined with a f...</td>\n",
       "      <td>51.218575</td>\n",
       "      <td>4.398631</td>\n",
       "      <td>Room in boutique hotel</td>\n",
       "      <td>Hotel room</td>\n",
       "      <td>2</td>\n",
       "      <td>1 private bath</td>\n",
       "      <td>1.0</td>\n",
       "      <td>1.0</td>\n",
       "      <td>[\"Kitchen\", \"Smoke alarm\", \"Hair dryer\", \"Keyp...</td>\n",
       "      <td>234077</td>\n",
       "    </tr>\n",
       "    <tr>\n",
       "      <th>1</th>\n",
       "      <td>116134</td>\n",
       "      <td>https://www.airbnb.com/rooms/116134</td>\n",
       "      <td>Spacious apartment nearby Mas</td>\n",
       "      <td>Enjoy your stay at our 4 person apartment in t...</td>\n",
       "      <td>51.230510</td>\n",
       "      <td>4.405930</td>\n",
       "      <td>Entire rental unit</td>\n",
       "      <td>Entire home/apt</td>\n",
       "      <td>4</td>\n",
       "      <td>2.5 baths</td>\n",
       "      <td>2.0</td>\n",
       "      <td>2.0</td>\n",
       "      <td>[\"Refrigerator\", \"Elevator\", \"Paid street park...</td>\n",
       "      <td>586942</td>\n",
       "    </tr>\n",
       "    <tr>\n",
       "      <th>2</th>\n",
       "      <td>218916</td>\n",
       "      <td>https://www.airbnb.com/rooms/218916</td>\n",
       "      <td>Apartment with terrace in trendy Zurenborg</td>\n",
       "      <td>Do you enjoy authentic places with a lot of ch...</td>\n",
       "      <td>51.206330</td>\n",
       "      <td>4.429420</td>\n",
       "      <td>Entire condominium (condo)</td>\n",
       "      <td>Entire home/apt</td>\n",
       "      <td>5</td>\n",
       "      <td>1 bath</td>\n",
       "      <td>1.0</td>\n",
       "      <td>3.0</td>\n",
       "      <td>[\"Paid street parking off premises\", \"Kitchen\"...</td>\n",
       "      <td>915664</td>\n",
       "    </tr>\n",
       "    <tr>\n",
       "      <th>3</th>\n",
       "      <td>224333</td>\n",
       "      <td>https://www.airbnb.com/rooms/224333</td>\n",
       "      <td>Large stylish room in 1930s house + garden</td>\n",
       "      <td>Large bedroom in classic 1930s house. Kitchen,...</td>\n",
       "      <td>51.197720</td>\n",
       "      <td>4.458530</td>\n",
       "      <td>Private room in residential home</td>\n",
       "      <td>Private room</td>\n",
       "      <td>2</td>\n",
       "      <td>2 shared baths</td>\n",
       "      <td>1.0</td>\n",
       "      <td>1.0</td>\n",
       "      <td>[\"Fire extinguisher\", \"Backyard\", \"Long term s...</td>\n",
       "      <td>1167377</td>\n",
       "    </tr>\n",
       "    <tr>\n",
       "      <th>4</th>\n",
       "      <td>224682</td>\n",
       "      <td>https://www.airbnb.com/rooms/224682</td>\n",
       "      <td>APARTMENT ROSCAM - OLD CENTRE ANTWERP</td>\n",
       "      <td>&lt;b&gt;The space&lt;/b&gt;&lt;br /&gt;Apartment \"Roscam\" is a ...</td>\n",
       "      <td>51.217220</td>\n",
       "      <td>4.397900</td>\n",
       "      <td>Entire rental unit</td>\n",
       "      <td>Entire home/apt</td>\n",
       "      <td>3</td>\n",
       "      <td>1 bath</td>\n",
       "      <td>1.0</td>\n",
       "      <td>2.0</td>\n",
       "      <td>[\"Refrigerator\", \"Kitchen\", \"Smoke alarm\", \"Sh...</td>\n",
       "      <td>1263933</td>\n",
       "    </tr>\n",
       "  </tbody>\n",
       "</table>\n",
       "</div>"
      ],
      "text/plain": [
       "   listing_id                          listing_url  \\\n",
       "0       50904   https://www.airbnb.com/rooms/50904   \n",
       "1      116134  https://www.airbnb.com/rooms/116134   \n",
       "2      218916  https://www.airbnb.com/rooms/218916   \n",
       "3      224333  https://www.airbnb.com/rooms/224333   \n",
       "4      224682  https://www.airbnb.com/rooms/224682   \n",
       "\n",
       "                                            name  \\\n",
       "0  aplace/antwerp: cosy suite - fashion district   \n",
       "1                  Spacious apartment nearby Mas   \n",
       "2     Apartment with terrace in trendy Zurenborg   \n",
       "3     Large stylish room in 1930s house + garden   \n",
       "4          APARTMENT ROSCAM - OLD CENTRE ANTWERP   \n",
       "\n",
       "                                         description   latitude  longitude  \\\n",
       "0  Decorated in a vintage style combined with a f...  51.218575   4.398631   \n",
       "1  Enjoy your stay at our 4 person apartment in t...  51.230510   4.405930   \n",
       "2  Do you enjoy authentic places with a lot of ch...  51.206330   4.429420   \n",
       "3  Large bedroom in classic 1930s house. Kitchen,...  51.197720   4.458530   \n",
       "4  <b>The space</b><br />Apartment \"Roscam\" is a ...  51.217220   4.397900   \n",
       "\n",
       "                      property_type        room_type  accomodates  \\\n",
       "0            Room in boutique hotel       Hotel room            2   \n",
       "1                Entire rental unit  Entire home/apt            4   \n",
       "2        Entire condominium (condo)  Entire home/apt            5   \n",
       "3  Private room in residential home     Private room            2   \n",
       "4                Entire rental unit  Entire home/apt            3   \n",
       "\n",
       "   bathrooms_text  bedrooms  beds  \\\n",
       "0  1 private bath       1.0   1.0   \n",
       "1       2.5 baths       2.0   2.0   \n",
       "2          1 bath       1.0   3.0   \n",
       "3  2 shared baths       1.0   1.0   \n",
       "4          1 bath       1.0   2.0   \n",
       "\n",
       "                                           amenities  host_id  \n",
       "0  [\"Kitchen\", \"Smoke alarm\", \"Hair dryer\", \"Keyp...   234077  \n",
       "1  [\"Refrigerator\", \"Elevator\", \"Paid street park...   586942  \n",
       "2  [\"Paid street parking off premises\", \"Kitchen\"...   915664  \n",
       "3  [\"Fire extinguisher\", \"Backyard\", \"Long term s...  1167377  \n",
       "4  [\"Refrigerator\", \"Kitchen\", \"Smoke alarm\", \"Sh...  1263933  "
      ]
     },
     "execution_count": 308,
     "metadata": {},
     "output_type": "execute_result"
    }
   ],
   "source": [
    "df_listings.head()"
   ]
  },
  {
   "cell_type": "code",
   "execution_count": 309,
   "id": "482acbcf",
   "metadata": {},
   "outputs": [
    {
     "data": {
      "text/plain": [
       "(1749, 14)"
      ]
     },
     "execution_count": 309,
     "metadata": {},
     "output_type": "execute_result"
    }
   ],
   "source": [
    "df_listings.shape"
   ]
  },
  {
   "cell_type": "code",
   "execution_count": 310,
   "id": "a234ef83",
   "metadata": {},
   "outputs": [
    {
     "data": {
      "text/plain": [
       "<AxesSubplot:>"
      ]
     },
     "execution_count": 310,
     "metadata": {},
     "output_type": "execute_result"
    },
    {
     "data": {
      "image/png": "[encoded data removed]",
      "text/plain": [
       "<Figure size 432x288 with 1 Axes>"
      ]
     },
     "metadata": {
      "needs_background": "light"
     },
     "output_type": "display_data"
    }
   ],
   "source": [
    "df_listings.isna().sum().plot(kind='bar')"
   ]
  },
  {
   "cell_type": "code",
   "execution_count": 311,
   "id": "137a94d8",
   "metadata": {},
   "outputs": [
    {
     "data": {
      "text/plain": [
       "1749"
      ]
     },
     "execution_count": 311,
     "metadata": {},
     "output_type": "execute_result"
    }
   ],
   "source": [
    "df_listings['listing_id'].nunique()"
   ]
  },
  {
   "cell_type": "markdown",
   "id": "9dc37c1c",
   "metadata": {},
   "source": [
    "So for every listing we have 1 listing each. This should be relatively simple to attach to the calendar table"
   ]
  },
  {
   "cell_type": "markdown",
   "id": "3e8bf314",
   "metadata": {},
   "source": [
    "# Looking at the final tables after the cleaning and feature creation"
   ]
  },
  {
   "cell_type": "markdown",
   "id": "0b68bb42",
   "metadata": {},
   "source": [
    "# Amalgamation of data"
   ]
  },
  {
   "cell_type": "code",
   "execution_count": null,
   "id": "a5b31856",
   "metadata": {},
   "outputs": [],
   "source": []
  }
 ],
 "metadata": {
  "kernelspec": {
   "display_name": "Python 3 (ipykernel)",
   "language": "python",
   "name": "python3"
  },
  "language_info": {
   "codemirror_mode": {
    "name": "ipython",
    "version": 3
   },
   "file_extension": ".py",
   "mimetype": "text/x-python",
   "name": "python",
   "nbconvert_exporter": "python",
   "pygments_lexer": "ipython3",
   "version": "3.7.11"
  }
 },
 "nbformat": 4,
 "nbformat_minor": 5
}
